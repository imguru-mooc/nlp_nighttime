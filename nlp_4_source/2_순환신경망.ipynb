{
 "cells": [
  {
   "cell_type": "markdown",
   "metadata": {},
   "source": [
    "# 순환 신경망(Recurrent Neural Network)"
   ]
  },
  {
   "cell_type": "markdown",
   "metadata": {},
   "source": [
    "앞서 배운 피드 포워드 신경망은 입력의 길이가 고정되어 있어 자연어 처리를 위한 신경망으로는 한계가 있었습니다. 결국 다양한 길이의 입력 시퀀스를 처리할 수 있는 인공 신경망이 필요하게 되었는데, 자연어 처리에 대표적으로 사용되는 인공 신경망인 RNN, LSTM 등에 대해서 알아봅니다."
   ]
  },
  {
   "cell_type": "markdown",
   "metadata": {},
   "source": [
    "## 1) 순환 신경망(Recurrent Neural Network, RNN)"
   ]
  },
  {
   "cell_type": "markdown",
   "metadata": {},
   "source": [
    "RNN(Recurrent Neural Network)은 시퀀스(Sequence) 모델입니다. 입력과 출력을 시퀀스 단위로 처리하는 모델입니다. 번역기를 생각해보면 입력은 번역하고자 하는 문장. 즉, 단어 시퀀스입니다. 출력에 해당되는 번역된 문장 또한 단어 시퀀스입니다. 이러한 시퀀스들을 처리하기 위해 고안된 모델들을 시퀀스 모델이라고 합니다. 그 중에서도 RNN은 딥 러닝에 있어 가장 기본적인 시퀀스 모델입니다."
   ]
  },
  {
   "cell_type": "markdown",
   "metadata": {},
   "source": [
    "### 1. 순환 신경망 구현하기"
   ]
  },
  {
   "cell_type": "markdown",
   "metadata": {},
   "source": [
    "케라스로 RNN 층을 추가하는 코드는 다음과 같습니다."
   ]
  },
  {
   "cell_type": "code",
   "execution_count": null,
   "metadata": {},
   "outputs": [],
   "source": [
    "# RNN 층을 추가하는 코드.\n",
    "model.add(SimpleRNN(hidden_size)) # 가장 간단한 형태"
   ]
  },
  {
   "cell_type": "markdown",
   "metadata": {},
   "source": [
    "인자를 사용할 때를 보겠습니다."
   ]
  },
  {
   "cell_type": "code",
   "execution_count": null,
   "metadata": {},
   "outputs": [],
   "source": [
    "# 추가 인자를 사용할 때\n",
    "model.add(SimpleRNN(hidden_size, input_shape=(timesteps, input_dim)))\n",
    "\n",
    "# 다른 표기\n",
    "model.add(SimpleRNN(hidden_size, input_length=M, input_dim=N))\n",
    "# 단, M과 N은 정수"
   ]
  },
  {
   "cell_type": "markdown",
   "metadata": {},
   "source": [
    "hidden_size = 은닉 상태의 크기를 정의. 메모리 셀이 다음 시점의 메모리 셀과 출력층으로 보내는 값의 크기(output_dim)와도 동일.   \n",
    "RNN의 용량(capacity)을 늘린다고 보면 되며, 중소형 모델의 경우 보통 128, 256, 512, 1024 등의 값을 가진다.  \n",
    "timesteps = 입력 시퀀스의 길이(input_length)라고 표현하기도 함. 시점의 수.  \n",
    "input_dim = 입력의 크기."
   ]
  },
  {
   "cell_type": "markdown",
   "metadata": {},
   "source": [
    "![](img/rnn_image6between7.png)"
   ]
  },
  {
   "cell_type": "code",
   "execution_count": 2,
   "metadata": {},
   "outputs": [
    {
     "name": "stdout",
     "output_type": "stream",
     "text": [
      "Model: \"sequential_1\"\n",
      "_________________________________________________________________\n",
      "Layer (type)                 Output Shape              Param #   \n",
      "=================================================================\n",
      "simple_rnn_1 (SimpleRNN)     (None, 3)                 42        \n",
      "=================================================================\n",
      "Total params: 42\n",
      "Trainable params: 42\n",
      "Non-trainable params: 0\n",
      "_________________________________________________________________\n"
     ]
    }
   ],
   "source": [
    "from keras.models import Sequential\n",
    "from keras.layers import SimpleRNN\n",
    "\n",
    "model = Sequential()\n",
    "model.add(SimpleRNN(3, input_shape=(2,10)))\n",
    "# model.add(SimpleRNN(3, input_length=2, input_dim=10))와 동일함.\n",
    "model.summary()"
   ]
  },
  {
   "cell_type": "markdown",
   "metadata": {},
   "source": [
    "출력값이 (batch_size, output_dim) 크기의 2D 텐서일 때, output_dim은 hidden_size의 값인 3입니다. 이 경우 batch_size를 현 단계에서는 알 수 없으므로 (None, 3)이 됩니다. 이번에는 batch_size를 미리 정의해보겠습니다."
   ]
  },
  {
   "cell_type": "code",
   "execution_count": 3,
   "metadata": {},
   "outputs": [
    {
     "name": "stdout",
     "output_type": "stream",
     "text": [
      "Model: \"sequential_2\"\n",
      "_________________________________________________________________\n",
      "Layer (type)                 Output Shape              Param #   \n",
      "=================================================================\n",
      "simple_rnn_2 (SimpleRNN)     (8, 3)                    42        \n",
      "=================================================================\n",
      "Total params: 42\n",
      "Trainable params: 42\n",
      "Non-trainable params: 0\n",
      "_________________________________________________________________\n"
     ]
    }
   ],
   "source": [
    "model = Sequential()\n",
    "model.add(SimpleRNN(3, batch_input_shape=(8,2,10)))\n",
    "model.summary()"
   ]
  },
  {
   "cell_type": "markdown",
   "metadata": {},
   "source": [
    "batch_size를 8로 기재하자, 출력의 크기가 (8, 3)이 된 것을 볼 수 있습니다. 이제 return_sequences 매개 변수에 True를 기재하여 출력값으로 (batch_size, timesteps, output_dim) 크기의 3D 텐서를 리턴하도록 모델을 만들어 보도록 하겠습니다."
   ]
  },
  {
   "cell_type": "code",
   "execution_count": 4,
   "metadata": {},
   "outputs": [
    {
     "name": "stdout",
     "output_type": "stream",
     "text": [
      "Model: \"sequential_3\"\n",
      "_________________________________________________________________\n",
      "Layer (type)                 Output Shape              Param #   \n",
      "=================================================================\n",
      "simple_rnn_3 (SimpleRNN)     (8, 2, 3)                 42        \n",
      "=================================================================\n",
      "Total params: 42\n",
      "Trainable params: 42\n",
      "Non-trainable params: 0\n",
      "_________________________________________________________________\n"
     ]
    }
   ],
   "source": [
    "model = Sequential()\n",
    "model.add(SimpleRNN(3, batch_input_shape=(8,2,10), return_sequences=True))\n",
    "model.summary()"
   ]
  },
  {
   "cell_type": "markdown",
   "metadata": {},
   "source": [
    "출력의 크기가 (8, 2, 3)이 된 것을 확인할 수 있습니다."
   ]
  },
  {
   "cell_type": "markdown",
   "metadata": {},
   "source": [
    "## 2) RNN을 이용한 텍스트 생성(Text Generation using RNN)"
   ]
  },
  {
   "cell_type": "markdown",
   "metadata": {},
   "source": [
    "이번 챕터에서는 다 대 일(many-to-one) 구조의 RNN을 사용하여 문맥을 반영해서 텍스트를 생성하는 모델을 만들어봅시다."
   ]
  },
  {
   "cell_type": "markdown",
   "metadata": {},
   "source": [
    "### 1. RNN을 이용하여 텍스트 생성하기"
   ]
  },
  {
   "cell_type": "markdown",
   "metadata": {},
   "source": [
    "예를 들어서 '경마장에 있는 말이 뛰고 있다'와 '그의 말이 법이다'와 '가는 말이 고와야 오는 말이 곱다'라는 세 가지 문장이 있다고 해봅시다. 모델이 문맥을 학습할 수 있도록 전체 문장의 앞의 단어들을 전부 고려하여 학습하도록 데이터를 재구성한다면 아래와 같이 총 11개의 샘플이 구성됩니다."
   ]
  },
  {
   "cell_type": "markdown",
   "metadata": {},
   "source": [
    "\n",
    "|samples|X|y|\n",
    "|-----------|---|---|\n",
    "|1|경마장에|있는|\n",
    "|2|경마장에 있는|말이|\n",
    "|3|경마장에 있는 말이|뛰고|\n",
    "|4|경마장에 있는 말이 뛰고|있다|\n",
    "|5|그의|말이|\n",
    "|6|그의 말이|법이다|\n",
    "|7|가는|말이|\n",
    "|8|가는 말이|고와야|\n",
    "|9|가는 말이 고와야|오는|\n",
    "|10|가는 말이 고와야 오는|말이|\n",
    "|11|가는 말이 고와야 오는 말이|곱다|"
   ]
  },
  {
   "cell_type": "markdown",
   "metadata": {},
   "source": [
    "#### 1) 데이터에 대한 이해와 전처리"
   ]
  },
  {
   "cell_type": "code",
   "execution_count": 5,
   "metadata": {},
   "outputs": [],
   "source": [
    "from tensorflow.keras.preprocessing.text import Tokenizer\n",
    "from tensorflow.keras.preprocessing.sequence import pad_sequences\n",
    "import numpy as np\n",
    "from tensorflow.keras.utils import to_categorical"
   ]
  },
  {
   "cell_type": "markdown",
   "metadata": {},
   "source": [
    "우선 예제로 언급한 3개의 한국어 문장을 저장합니다."
   ]
  },
  {
   "cell_type": "code",
   "execution_count": 6,
   "metadata": {},
   "outputs": [],
   "source": [
    "text=\"\"\"경마장에 있는 말이 뛰고 있다\n",
    "그의 말이 법이다\n",
    "가는 말이 고와야 오는 말이 곱다\"\"\""
   ]
  },
  {
   "cell_type": "markdown",
   "metadata": {},
   "source": [
    "단어 집합을 생성하고 크기를 확인해보겠습니다."
   ]
  },
  {
   "cell_type": "code",
   "execution_count": 8,
   "metadata": {},
   "outputs": [
    {
     "name": "stdout",
     "output_type": "stream",
     "text": [
      "경마장에 있는 말이 뛰고 있다\n",
      "그의 말이 법이다\n",
      "가는 말이 고와야 오는 말이 곱다\n",
      "단어 집합의 크기 : 12\n"
     ]
    }
   ],
   "source": [
    "t = Tokenizer()\n",
    "print(text)\n",
    "t.fit_on_texts([text])\n",
    "vocab_size = len(t.word_index) + 1\n",
    "# 케라스 토크나이저의 정수 인코딩은 인덱스가 1부터 시작하지만,\n",
    "# 케라스 원-핫 인코딩에서 배열의 인덱스가 0부터 시작하기 때문에\n",
    "# 배열의 크기를 실제 단어 집합의 크기보다 +1로 생성해야하므로 미리 +1 선언 \n",
    "print('단어 집합의 크기 : %d' % vocab_size)"
   ]
  },
  {
   "cell_type": "markdown",
   "metadata": {},
   "source": [
    "각 단어와 단어에 부여된 정수 인덱스를 출력해보겠습니다."
   ]
  },
  {
   "cell_type": "code",
   "execution_count": 10,
   "metadata": {},
   "outputs": [
    {
     "name": "stdout",
     "output_type": "stream",
     "text": [
      "{'말이': 1, '경마장에': 2, '있는': 3, '뛰고': 4, '있다': 5, '그의': 6, '법이다': 7, '가는': 8, '고와야': 9, '오는': 10, '곱다': 11}\n"
     ]
    }
   ],
   "source": [
    "print(t.word_index)"
   ]
  },
  {
   "cell_type": "markdown",
   "metadata": {},
   "source": [
    "이제 훈련 데이터를 만들어보겠습니다."
   ]
  },
  {
   "cell_type": "code",
   "execution_count": 13,
   "metadata": {},
   "outputs": [
    {
     "name": "stdout",
     "output_type": "stream",
     "text": [
      "경마장에 있는 말이 뛰고 있다\n",
      "[2, 3, 1, 4, 5]\n",
      "그의 말이 법이다\n",
      "[6, 1, 7]\n",
      "가는 말이 고와야 오는 말이 곱다\n",
      "[8, 1, 9, 10, 1, 11]\n",
      "학습에 사용할 샘플의 개수: 11\n"
     ]
    }
   ],
   "source": [
    "sequences = list()\n",
    "for line in text.split('\\n'): # Wn을 기준으로 문장 토큰화\n",
    "    print(line)\n",
    "    encoded = t.texts_to_sequences([line])[0]\n",
    "    print(encoded)\n",
    "    for i in range(1, len(encoded)):\n",
    "        sequence = encoded[:i+1]\n",
    "        sequences.append(sequence)\n",
    "\n",
    "print('학습에 사용할 샘플의 개수: %d' % len(sequences))\n"
   ]
  },
  {
   "cell_type": "markdown",
   "metadata": {},
   "source": [
    "샘플의 개수는 총 11개가 나옵니다. 전체 샘플을 출력해봅시다."
   ]
  },
  {
   "cell_type": "code",
   "execution_count": 14,
   "metadata": {},
   "outputs": [
    {
     "name": "stdout",
     "output_type": "stream",
     "text": [
      "[[2, 3], [2, 3, 1], [2, 3, 1, 4], [2, 3, 1, 4, 5], [6, 1], [6, 1, 7], [8, 1], [8, 1, 9], [8, 1, 9, 10], [8, 1, 9, 10, 1], [8, 1, 9, 10, 1, 11]]\n"
     ]
    }
   ],
   "source": [
    "print(sequences)"
   ]
  },
  {
   "cell_type": "markdown",
   "metadata": {},
   "source": [
    "위의 데이터는 아직 레이블로 사용될 단어를 분리하지 않은 훈련 데이터입니다. [2, 3]은 [경마장에, 있는]에 해당되며 [2, 3, 1]은 [경마장에, 있는, 말이]에 해당됩니다. 전체 훈련 데이터에 대해서 맨 우측에 있는 단어에 대해서만 레이블로 분리해야 합니다.\n",
    "\n",
    "우선 전체 샘플에 대해서 길이를 일치시켜 줍니다. 가장 긴 샘플의 길이를 기준으로 합니다. 현재 육안으로 봤을 때, 길이가 가장 긴 샘플은 [8, 1, 9, 10, 1, 11]이고 길이는 6입니다. 이를 코드로는 다음과 같이 구할 수 있습니다."
   ]
  },
  {
   "cell_type": "code",
   "execution_count": 15,
   "metadata": {},
   "outputs": [
    {
     "name": "stdout",
     "output_type": "stream",
     "text": [
      "샘플의 최대 길이 : 6\n"
     ]
    }
   ],
   "source": [
    "max_len=max(len(l) for l in sequences) # 모든 샘플에서 길이가 가장 긴 샘플의 길이 출력\n",
    "print('샘플의 최대 길이 : {}'.format(max_len))"
   ]
  },
  {
   "cell_type": "markdown",
   "metadata": {},
   "source": [
    "전체 훈련 데이터에서 가장 긴 샘플의 길이가 6임을 확인하였습니다. 이제 전체 샘플의 길이를 6으로 패딩합니다."
   ]
  },
  {
   "cell_type": "code",
   "execution_count": 16,
   "metadata": {},
   "outputs": [],
   "source": [
    "sequences = pad_sequences(sequences, maxlen=max_len, padding='pre')"
   ]
  },
  {
   "cell_type": "markdown",
   "metadata": {},
   "source": [
    "pad_sequences()는 모든 샘플에 대해서 0을 사용하여 길이를 맞춰줍니다. maxlen의 값으로 6을 주면 모든 샘플의 길이를 6으로 맞춰주며, padding의 인자로 'pre'를 주면 길이가 6보다 짧은 샘플의 앞에 0으로 채웁니다. 전체 훈련 데이터를 출력해봅니다."
   ]
  },
  {
   "cell_type": "code",
   "execution_count": 17,
   "metadata": {},
   "outputs": [
    {
     "name": "stdout",
     "output_type": "stream",
     "text": [
      "[[ 0  0  0  0  2  3]\n",
      " [ 0  0  0  2  3  1]\n",
      " [ 0  0  2  3  1  4]\n",
      " [ 0  2  3  1  4  5]\n",
      " [ 0  0  0  0  6  1]\n",
      " [ 0  0  0  6  1  7]\n",
      " [ 0  0  0  0  8  1]\n",
      " [ 0  0  0  8  1  9]\n",
      " [ 0  0  8  1  9 10]\n",
      " [ 0  8  1  9 10  1]\n",
      " [ 8  1  9 10  1 11]]\n"
     ]
    }
   ],
   "source": [
    "print(sequences)"
   ]
  },
  {
   "cell_type": "markdown",
   "metadata": {},
   "source": [
    "길이가 6보다 짧은 모든 샘플에 대해서 앞에 0을 채워서 모든 샘플의 길이를 6으로 바꿨습니다. 이제 각 샘플의 마지막 단어를 레이블로 분리합시다. 레이블의 분리는 Numpy를 이용해서 가능합니다."
   ]
  },
  {
   "cell_type": "code",
   "execution_count": 26,
   "metadata": {},
   "outputs": [],
   "source": [
    "sequences = np.array(sequences)\n",
    "X = sequences[:,:-1]\n",
    "y = sequences[:,-1]\n",
    "# 리스트의 마지막 값을 제외하고 저장한 것은 X\n",
    "# 리스트의 마지막 값만 저장한 것은 y. 이는 레이블에 해당됨."
   ]
  },
  {
   "cell_type": "markdown",
   "metadata": {},
   "source": [
    "분리된 X와 y에 대해서 출력해보면 다음과 같습니다."
   ]
  },
  {
   "cell_type": "code",
   "execution_count": 27,
   "metadata": {},
   "outputs": [
    {
     "name": "stdout",
     "output_type": "stream",
     "text": [
      "[[ 0  0  0  0  2]\n",
      " [ 0  0  0  2  3]\n",
      " [ 0  0  2  3  1]\n",
      " [ 0  2  3  1  4]\n",
      " [ 0  0  0  0  6]\n",
      " [ 0  0  0  6  1]\n",
      " [ 0  0  0  0  8]\n",
      " [ 0  0  0  8  1]\n",
      " [ 0  0  8  1  9]\n",
      " [ 0  8  1  9 10]\n",
      " [ 8  1  9 10  1]]\n",
      "(11, 5)\n"
     ]
    }
   ],
   "source": [
    "print(X)\n",
    "print(X.shape)"
   ]
  },
  {
   "cell_type": "code",
   "execution_count": 28,
   "metadata": {},
   "outputs": [
    {
     "name": "stdout",
     "output_type": "stream",
     "text": [
      "[ 3  1  4  5  1  7  1  9 10  1 11]\n",
      "(11,)\n"
     ]
    }
   ],
   "source": [
    "print(y) # 모든 샘플에 대한 레이블 출력\n",
    "print(y.shape)"
   ]
  },
  {
   "cell_type": "markdown",
   "metadata": {},
   "source": [
    "레이블이 분리되었습니다. 이제 RNN 모델에 훈련 데이터를 훈련 시키기 전에 레이블에 대해서 원-핫 인코딩을 수행합니다."
   ]
  },
  {
   "cell_type": "code",
   "execution_count": 29,
   "metadata": {},
   "outputs": [],
   "source": [
    "y = to_categorical(y, num_classes=vocab_size)"
   ]
  },
  {
   "cell_type": "markdown",
   "metadata": {},
   "source": [
    "원-핫 인코딩이 수행되었는지 출력합니다."
   ]
  },
  {
   "cell_type": "code",
   "execution_count": 30,
   "metadata": {},
   "outputs": [
    {
     "name": "stdout",
     "output_type": "stream",
     "text": [
      "[[0. 0. 0. 1. 0. 0. 0. 0. 0. 0. 0. 0.]\n",
      " [0. 1. 0. 0. 0. 0. 0. 0. 0. 0. 0. 0.]\n",
      " [0. 0. 0. 0. 1. 0. 0. 0. 0. 0. 0. 0.]\n",
      " [0. 0. 0. 0. 0. 1. 0. 0. 0. 0. 0. 0.]\n",
      " [0. 1. 0. 0. 0. 0. 0. 0. 0. 0. 0. 0.]\n",
      " [0. 0. 0. 0. 0. 0. 0. 1. 0. 0. 0. 0.]\n",
      " [0. 1. 0. 0. 0. 0. 0. 0. 0. 0. 0. 0.]\n",
      " [0. 0. 0. 0. 0. 0. 0. 0. 0. 1. 0. 0.]\n",
      " [0. 0. 0. 0. 0. 0. 0. 0. 0. 0. 1. 0.]\n",
      " [0. 1. 0. 0. 0. 0. 0. 0. 0. 0. 0. 0.]\n",
      " [0. 0. 0. 0. 0. 0. 0. 0. 0. 0. 0. 1.]]\n",
      "(11, 12)\n"
     ]
    }
   ],
   "source": [
    "print(y)\n",
    "print(y.shape)"
   ]
  },
  {
   "cell_type": "markdown",
   "metadata": {},
   "source": [
    "정상적으로 원-핫 인코딩이 수행된 것을 볼 수 있습니다."
   ]
  },
  {
   "cell_type": "markdown",
   "metadata": {},
   "source": [
    "#### 2) 모델 설계하기"
   ]
  },
  {
   "cell_type": "markdown",
   "metadata": {},
   "source": [
    "이제 RNN 모델에 데이터를 훈련시킵니다."
   ]
  },
  {
   "cell_type": "code",
   "execution_count": 31,
   "metadata": {},
   "outputs": [
    {
     "name": "stdout",
     "output_type": "stream",
     "text": [
      "Epoch 1/200\n",
      "1/1 - 1s - loss: 2.5028 - accuracy: 0.0909\n",
      "Epoch 2/200\n",
      "1/1 - 0s - loss: 2.4868 - accuracy: 0.0000e+00\n",
      "Epoch 3/200\n",
      "1/1 - 0s - loss: 2.4714 - accuracy: 0.0000e+00\n",
      "Epoch 4/200\n",
      "1/1 - 0s - loss: 2.4565 - accuracy: 0.0909\n",
      "Epoch 5/200\n",
      "1/1 - 0s - loss: 2.4417 - accuracy: 0.0909\n",
      "Epoch 6/200\n",
      "1/1 - 0s - loss: 2.4270 - accuracy: 0.4545\n",
      "Epoch 7/200\n",
      "1/1 - 0s - loss: 2.4122 - accuracy: 0.4545\n",
      "Epoch 8/200\n",
      "1/1 - 0s - loss: 2.3970 - accuracy: 0.4545\n",
      "Epoch 9/200\n",
      "1/1 - 0s - loss: 2.3814 - accuracy: 0.3636\n",
      "Epoch 10/200\n",
      "1/1 - 0s - loss: 2.3653 - accuracy: 0.3636\n",
      "Epoch 11/200\n",
      "1/1 - 0s - loss: 2.3485 - accuracy: 0.3636\n",
      "Epoch 12/200\n",
      "1/1 - 0s - loss: 2.3310 - accuracy: 0.3636\n",
      "Epoch 13/200\n",
      "1/1 - 0s - loss: 2.3127 - accuracy: 0.3636\n",
      "Epoch 14/200\n",
      "1/1 - 0s - loss: 2.2935 - accuracy: 0.3636\n",
      "Epoch 15/200\n",
      "1/1 - 0s - loss: 2.2735 - accuracy: 0.3636\n",
      "Epoch 16/200\n",
      "1/1 - 0s - loss: 2.2526 - accuracy: 0.3636\n",
      "Epoch 17/200\n",
      "1/1 - 0s - loss: 2.2309 - accuracy: 0.3636\n",
      "Epoch 18/200\n",
      "1/1 - 0s - loss: 2.2082 - accuracy: 0.3636\n",
      "Epoch 19/200\n",
      "1/1 - 0s - loss: 2.1848 - accuracy: 0.3636\n",
      "Epoch 20/200\n",
      "1/1 - 0s - loss: 2.1607 - accuracy: 0.3636\n",
      "Epoch 21/200\n",
      "1/1 - 0s - loss: 2.1359 - accuracy: 0.3636\n",
      "Epoch 22/200\n",
      "1/1 - 0s - loss: 2.1108 - accuracy: 0.3636\n",
      "Epoch 23/200\n",
      "1/1 - 0s - loss: 2.0855 - accuracy: 0.3636\n",
      "Epoch 24/200\n",
      "1/1 - 0s - loss: 2.0602 - accuracy: 0.3636\n",
      "Epoch 25/200\n",
      "1/1 - 0s - loss: 2.0352 - accuracy: 0.3636\n",
      "Epoch 26/200\n",
      "1/1 - 0s - loss: 2.0108 - accuracy: 0.3636\n",
      "Epoch 27/200\n",
      "1/1 - 0s - loss: 1.9872 - accuracy: 0.3636\n",
      "Epoch 28/200\n",
      "1/1 - 0s - loss: 1.9647 - accuracy: 0.3636\n",
      "Epoch 29/200\n",
      "1/1 - 0s - loss: 1.9434 - accuracy: 0.3636\n",
      "Epoch 30/200\n",
      "1/1 - 0s - loss: 1.9232 - accuracy: 0.3636\n",
      "Epoch 31/200\n",
      "1/1 - 0s - loss: 1.9039 - accuracy: 0.3636\n",
      "Epoch 32/200\n",
      "1/1 - 0s - loss: 1.8851 - accuracy: 0.3636\n",
      "Epoch 33/200\n",
      "1/1 - 0s - loss: 1.8666 - accuracy: 0.3636\n",
      "Epoch 34/200\n",
      "1/1 - 0s - loss: 1.8479 - accuracy: 0.3636\n",
      "Epoch 35/200\n",
      "1/1 - 0s - loss: 1.8286 - accuracy: 0.3636\n",
      "Epoch 36/200\n",
      "1/1 - 0s - loss: 1.8086 - accuracy: 0.3636\n",
      "Epoch 37/200\n",
      "1/1 - 0s - loss: 1.7876 - accuracy: 0.3636\n",
      "Epoch 38/200\n",
      "1/1 - 0s - loss: 1.7657 - accuracy: 0.3636\n",
      "Epoch 39/200\n",
      "1/1 - 0s - loss: 1.7431 - accuracy: 0.3636\n",
      "Epoch 40/200\n",
      "1/1 - 0s - loss: 1.7200 - accuracy: 0.4545\n",
      "Epoch 41/200\n",
      "1/1 - 0s - loss: 1.6967 - accuracy: 0.4545\n",
      "Epoch 42/200\n",
      "1/1 - 0s - loss: 1.6733 - accuracy: 0.4545\n",
      "Epoch 43/200\n",
      "1/1 - 0s - loss: 1.6499 - accuracy: 0.4545\n",
      "Epoch 44/200\n",
      "1/1 - 0s - loss: 1.6268 - accuracy: 0.4545\n",
      "Epoch 45/200\n",
      "1/1 - 0s - loss: 1.6038 - accuracy: 0.4545\n",
      "Epoch 46/200\n",
      "1/1 - 0s - loss: 1.5810 - accuracy: 0.5455\n",
      "Epoch 47/200\n",
      "1/1 - 0s - loss: 1.5582 - accuracy: 0.5455\n",
      "Epoch 48/200\n",
      "1/1 - 0s - loss: 1.5353 - accuracy: 0.5455\n",
      "Epoch 49/200\n",
      "1/1 - 0s - loss: 1.5123 - accuracy: 0.5455\n",
      "Epoch 50/200\n",
      "1/1 - 0s - loss: 1.4890 - accuracy: 0.5455\n",
      "Epoch 51/200\n",
      "1/1 - 0s - loss: 1.4655 - accuracy: 0.5455\n",
      "Epoch 52/200\n",
      "1/1 - 0s - loss: 1.4417 - accuracy: 0.6364\n",
      "Epoch 53/200\n",
      "1/1 - 0s - loss: 1.4177 - accuracy: 0.6364\n",
      "Epoch 54/200\n",
      "1/1 - 0s - loss: 1.3935 - accuracy: 0.6364\n",
      "Epoch 55/200\n",
      "1/1 - 0s - loss: 1.3694 - accuracy: 0.6364\n",
      "Epoch 56/200\n",
      "1/1 - 0s - loss: 1.3453 - accuracy: 0.6364\n",
      "Epoch 57/200\n",
      "1/1 - 0s - loss: 1.3214 - accuracy: 0.6364\n",
      "Epoch 58/200\n",
      "1/1 - 0s - loss: 1.2978 - accuracy: 0.6364\n",
      "Epoch 59/200\n",
      "1/1 - 0s - loss: 1.2745 - accuracy: 0.7273\n",
      "Epoch 60/200\n",
      "1/1 - 0s - loss: 1.2516 - accuracy: 0.7273\n",
      "Epoch 61/200\n",
      "1/1 - 0s - loss: 1.2289 - accuracy: 0.7273\n",
      "Epoch 62/200\n",
      "1/1 - 0s - loss: 1.2066 - accuracy: 0.7273\n",
      "Epoch 63/200\n",
      "1/1 - 0s - loss: 1.1846 - accuracy: 0.7273\n",
      "Epoch 64/200\n",
      "1/1 - 0s - loss: 1.1628 - accuracy: 0.7273\n",
      "Epoch 65/200\n",
      "1/1 - 0s - loss: 1.1413 - accuracy: 0.7273\n",
      "Epoch 66/200\n",
      "1/1 - 0s - loss: 1.1200 - accuracy: 0.7273\n",
      "Epoch 67/200\n",
      "1/1 - 0s - loss: 1.0990 - accuracy: 0.7273\n",
      "Epoch 68/200\n",
      "1/1 - 0s - loss: 1.0783 - accuracy: 0.7273\n",
      "Epoch 69/200\n",
      "1/1 - 0s - loss: 1.0579 - accuracy: 0.7273\n",
      "Epoch 70/200\n",
      "1/1 - 0s - loss: 1.0378 - accuracy: 0.7273\n",
      "Epoch 71/200\n",
      "1/1 - 0s - loss: 1.0181 - accuracy: 0.7273\n",
      "Epoch 72/200\n",
      "1/1 - 0s - loss: 0.9987 - accuracy: 0.7273\n",
      "Epoch 73/200\n",
      "1/1 - 0s - loss: 0.9797 - accuracy: 0.7273\n",
      "Epoch 74/200\n",
      "1/1 - 0s - loss: 0.9609 - accuracy: 0.7273\n",
      "Epoch 75/200\n",
      "1/1 - 0s - loss: 0.9424 - accuracy: 0.7273\n",
      "Epoch 76/200\n",
      "1/1 - 0s - loss: 0.9242 - accuracy: 0.7273\n",
      "Epoch 77/200\n",
      "1/1 - 0s - loss: 0.9063 - accuracy: 0.7273\n",
      "Epoch 78/200\n",
      "1/1 - 0s - loss: 0.8888 - accuracy: 0.7273\n",
      "Epoch 79/200\n",
      "1/1 - 0s - loss: 0.8715 - accuracy: 0.7273\n",
      "Epoch 80/200\n",
      "1/1 - 0s - loss: 0.8545 - accuracy: 0.7273\n",
      "Epoch 81/200\n",
      "1/1 - 0s - loss: 0.8379 - accuracy: 0.7273\n",
      "Epoch 82/200\n",
      "1/1 - 0s - loss: 0.8215 - accuracy: 0.7273\n",
      "Epoch 83/200\n",
      "1/1 - 0s - loss: 0.8056 - accuracy: 0.7273\n",
      "Epoch 84/200\n",
      "1/1 - 0s - loss: 0.7899 - accuracy: 0.7273\n",
      "Epoch 85/200\n",
      "1/1 - 0s - loss: 0.7746 - accuracy: 0.7273\n",
      "Epoch 86/200\n",
      "1/1 - 0s - loss: 0.7596 - accuracy: 0.7273\n",
      "Epoch 87/200\n",
      "1/1 - 0s - loss: 0.7449 - accuracy: 0.8182\n",
      "Epoch 88/200\n",
      "1/1 - 0s - loss: 0.7305 - accuracy: 0.8182\n",
      "Epoch 89/200\n",
      "1/1 - 0s - loss: 0.7163 - accuracy: 0.8182\n",
      "Epoch 90/200\n",
      "1/1 - 0s - loss: 0.7025 - accuracy: 0.8182\n",
      "Epoch 91/200\n",
      "1/1 - 0s - loss: 0.6890 - accuracy: 0.8182\n",
      "Epoch 92/200\n",
      "1/1 - 0s - loss: 0.6757 - accuracy: 0.8182\n",
      "Epoch 93/200\n",
      "1/1 - 0s - loss: 0.6628 - accuracy: 0.8182\n",
      "Epoch 94/200\n",
      "1/1 - 0s - loss: 0.6501 - accuracy: 0.8182\n",
      "Epoch 95/200\n",
      "1/1 - 0s - loss: 0.6376 - accuracy: 0.8182\n",
      "Epoch 96/200\n",
      "1/1 - 0s - loss: 0.6254 - accuracy: 0.9091\n",
      "Epoch 97/200\n",
      "1/1 - 0s - loss: 0.6135 - accuracy: 0.9091\n",
      "Epoch 98/200\n",
      "1/1 - 0s - loss: 0.6018 - accuracy: 0.9091\n",
      "Epoch 99/200\n",
      "1/1 - 0s - loss: 0.5904 - accuracy: 0.9091\n",
      "Epoch 100/200\n",
      "1/1 - 0s - loss: 0.5791 - accuracy: 0.9091\n",
      "Epoch 101/200\n",
      "1/1 - 0s - loss: 0.5681 - accuracy: 0.9091\n",
      "Epoch 102/200\n",
      "1/1 - 0s - loss: 0.5573 - accuracy: 0.9091\n",
      "Epoch 103/200\n",
      "1/1 - 0s - loss: 0.5468 - accuracy: 0.9091\n",
      "Epoch 104/200\n",
      "1/1 - 0s - loss: 0.5364 - accuracy: 0.9091\n",
      "Epoch 105/200\n",
      "1/1 - 0s - loss: 0.5263 - accuracy: 0.9091\n",
      "Epoch 106/200\n",
      "1/1 - 0s - loss: 0.5163 - accuracy: 0.9091\n",
      "Epoch 107/200\n",
      "1/1 - 0s - loss: 0.5066 - accuracy: 0.9091\n",
      "Epoch 108/200\n",
      "1/1 - 0s - loss: 0.4970 - accuracy: 0.9091\n",
      "Epoch 109/200\n",
      "1/1 - 0s - loss: 0.4877 - accuracy: 0.9091\n",
      "Epoch 110/200\n",
      "1/1 - 0s - loss: 0.4785 - accuracy: 0.9091\n",
      "Epoch 111/200\n",
      "1/1 - 0s - loss: 0.4695 - accuracy: 0.9091\n",
      "Epoch 112/200\n",
      "1/1 - 0s - loss: 0.4607 - accuracy: 0.9091\n",
      "Epoch 113/200\n",
      "1/1 - 0s - loss: 0.4520 - accuracy: 0.9091\n",
      "Epoch 114/200\n",
      "1/1 - 0s - loss: 0.4436 - accuracy: 0.9091\n",
      "Epoch 115/200\n",
      "1/1 - 0s - loss: 0.4353 - accuracy: 0.9091\n",
      "Epoch 116/200\n",
      "1/1 - 0s - loss: 0.4271 - accuracy: 0.9091\n",
      "Epoch 117/200\n",
      "1/1 - 0s - loss: 0.4191 - accuracy: 0.9091\n",
      "Epoch 118/200\n",
      "1/1 - 0s - loss: 0.4113 - accuracy: 0.9091\n",
      "Epoch 119/200\n",
      "1/1 - 0s - loss: 0.4036 - accuracy: 0.9091\n",
      "Epoch 120/200\n",
      "1/1 - 0s - loss: 0.3961 - accuracy: 0.9091\n",
      "Epoch 121/200\n",
      "1/1 - 0s - loss: 0.3887 - accuracy: 0.9091\n",
      "Epoch 122/200\n",
      "1/1 - 0s - loss: 0.3814 - accuracy: 0.9091\n",
      "Epoch 123/200\n",
      "1/1 - 0s - loss: 0.3743 - accuracy: 0.9091\n",
      "Epoch 124/200\n",
      "1/1 - 0s - loss: 0.3673 - accuracy: 0.9091\n",
      "Epoch 125/200\n",
      "1/1 - 0s - loss: 0.3605 - accuracy: 0.9091\n",
      "Epoch 126/200\n",
      "1/1 - 0s - loss: 0.3537 - accuracy: 0.9091\n",
      "Epoch 127/200\n",
      "1/1 - 0s - loss: 0.3471 - accuracy: 0.9091\n",
      "Epoch 128/200\n",
      "1/1 - 0s - loss: 0.3406 - accuracy: 0.9091\n",
      "Epoch 129/200\n",
      "1/1 - 0s - loss: 0.3342 - accuracy: 0.9091\n",
      "Epoch 130/200\n",
      "1/1 - 0s - loss: 0.3279 - accuracy: 0.9091\n",
      "Epoch 131/200\n",
      "1/1 - 0s - loss: 0.3218 - accuracy: 1.0000\n",
      "Epoch 132/200\n",
      "1/1 - 0s - loss: 0.3157 - accuracy: 1.0000\n",
      "Epoch 133/200\n",
      "1/1 - 0s - loss: 0.3098 - accuracy: 1.0000\n",
      "Epoch 134/200\n",
      "1/1 - 0s - loss: 0.3039 - accuracy: 1.0000\n",
      "Epoch 135/200\n",
      "1/1 - 0s - loss: 0.2982 - accuracy: 1.0000\n",
      "Epoch 136/200\n",
      "1/1 - 0s - loss: 0.2926 - accuracy: 1.0000\n",
      "Epoch 137/200\n",
      "1/1 - 0s - loss: 0.2870 - accuracy: 1.0000\n",
      "Epoch 138/200\n",
      "1/1 - 0s - loss: 0.2815 - accuracy: 1.0000\n",
      "Epoch 139/200\n",
      "1/1 - 0s - loss: 0.2762 - accuracy: 1.0000\n",
      "Epoch 140/200\n",
      "1/1 - 0s - loss: 0.2709 - accuracy: 1.0000\n",
      "Epoch 141/200\n",
      "1/1 - 0s - loss: 0.2657 - accuracy: 1.0000\n",
      "Epoch 142/200\n",
      "1/1 - 0s - loss: 0.2606 - accuracy: 1.0000\n",
      "Epoch 143/200\n",
      "1/1 - 0s - loss: 0.2556 - accuracy: 1.0000\n",
      "Epoch 144/200\n",
      "1/1 - 0s - loss: 0.2507 - accuracy: 1.0000\n",
      "Epoch 145/200\n",
      "1/1 - 0s - loss: 0.2459 - accuracy: 1.0000\n",
      "Epoch 146/200\n",
      "1/1 - 0s - loss: 0.2411 - accuracy: 1.0000\n"
     ]
    },
    {
     "name": "stdout",
     "output_type": "stream",
     "text": [
      "Epoch 147/200\n",
      "1/1 - 0s - loss: 0.2364 - accuracy: 1.0000\n",
      "Epoch 148/200\n",
      "1/1 - 0s - loss: 0.2319 - accuracy: 1.0000\n",
      "Epoch 149/200\n",
      "1/1 - 0s - loss: 0.2273 - accuracy: 1.0000\n",
      "Epoch 150/200\n",
      "1/1 - 0s - loss: 0.2229 - accuracy: 1.0000\n",
      "Epoch 151/200\n",
      "1/1 - 0s - loss: 0.2186 - accuracy: 1.0000\n",
      "Epoch 152/200\n",
      "1/1 - 0s - loss: 0.2143 - accuracy: 1.0000\n",
      "Epoch 153/200\n",
      "1/1 - 0s - loss: 0.2101 - accuracy: 1.0000\n",
      "Epoch 154/200\n",
      "1/1 - 0s - loss: 0.2060 - accuracy: 1.0000\n",
      "Epoch 155/200\n",
      "1/1 - 0s - loss: 0.2020 - accuracy: 1.0000\n",
      "Epoch 156/200\n",
      "1/1 - 0s - loss: 0.1980 - accuracy: 1.0000\n",
      "Epoch 157/200\n",
      "1/1 - 0s - loss: 0.1942 - accuracy: 1.0000\n",
      "Epoch 158/200\n",
      "1/1 - 0s - loss: 0.1904 - accuracy: 1.0000\n",
      "Epoch 159/200\n",
      "1/1 - 0s - loss: 0.1866 - accuracy: 1.0000\n",
      "Epoch 160/200\n",
      "1/1 - 0s - loss: 0.1830 - accuracy: 1.0000\n",
      "Epoch 161/200\n",
      "1/1 - 0s - loss: 0.1794 - accuracy: 1.0000\n",
      "Epoch 162/200\n",
      "1/1 - 0s - loss: 0.1759 - accuracy: 1.0000\n",
      "Epoch 163/200\n",
      "1/1 - 0s - loss: 0.1725 - accuracy: 1.0000\n",
      "Epoch 164/200\n",
      "1/1 - 0s - loss: 0.1692 - accuracy: 1.0000\n",
      "Epoch 165/200\n",
      "1/1 - 0s - loss: 0.1659 - accuracy: 1.0000\n",
      "Epoch 166/200\n",
      "1/1 - 0s - loss: 0.1627 - accuracy: 1.0000\n",
      "Epoch 167/200\n",
      "1/1 - 0s - loss: 0.1595 - accuracy: 1.0000\n",
      "Epoch 168/200\n",
      "1/1 - 0s - loss: 0.1565 - accuracy: 1.0000\n",
      "Epoch 169/200\n",
      "1/1 - 0s - loss: 0.1535 - accuracy: 1.0000\n",
      "Epoch 170/200\n",
      "1/1 - 0s - loss: 0.1506 - accuracy: 1.0000\n",
      "Epoch 171/200\n",
      "1/1 - 0s - loss: 0.1477 - accuracy: 1.0000\n",
      "Epoch 172/200\n",
      "1/1 - 0s - loss: 0.1449 - accuracy: 1.0000\n",
      "Epoch 173/200\n",
      "1/1 - 0s - loss: 0.1422 - accuracy: 1.0000\n",
      "Epoch 174/200\n",
      "1/1 - 0s - loss: 0.1395 - accuracy: 1.0000\n",
      "Epoch 175/200\n",
      "1/1 - 0s - loss: 0.1369 - accuracy: 1.0000\n",
      "Epoch 176/200\n",
      "1/1 - 0s - loss: 0.1344 - accuracy: 1.0000\n",
      "Epoch 177/200\n",
      "1/1 - 0s - loss: 0.1319 - accuracy: 1.0000\n",
      "Epoch 178/200\n",
      "1/1 - 0s - loss: 0.1295 - accuracy: 1.0000\n",
      "Epoch 179/200\n",
      "1/1 - 0s - loss: 0.1271 - accuracy: 1.0000\n",
      "Epoch 180/200\n",
      "1/1 - 0s - loss: 0.1248 - accuracy: 1.0000\n",
      "Epoch 181/200\n",
      "1/1 - 0s - loss: 0.1226 - accuracy: 1.0000\n",
      "Epoch 182/200\n",
      "1/1 - 0s - loss: 0.1204 - accuracy: 1.0000\n",
      "Epoch 183/200\n",
      "1/1 - 0s - loss: 0.1183 - accuracy: 1.0000\n",
      "Epoch 184/200\n",
      "1/1 - 0s - loss: 0.1162 - accuracy: 1.0000\n",
      "Epoch 185/200\n",
      "1/1 - 0s - loss: 0.1142 - accuracy: 1.0000\n",
      "Epoch 186/200\n",
      "1/1 - 0s - loss: 0.1122 - accuracy: 1.0000\n",
      "Epoch 187/200\n",
      "1/1 - 0s - loss: 0.1103 - accuracy: 1.0000\n",
      "Epoch 188/200\n",
      "1/1 - 0s - loss: 0.1084 - accuracy: 1.0000\n",
      "Epoch 189/200\n",
      "1/1 - 0s - loss: 0.1065 - accuracy: 1.0000\n",
      "Epoch 190/200\n",
      "1/1 - 0s - loss: 0.1048 - accuracy: 1.0000\n",
      "Epoch 191/200\n",
      "1/1 - 0s - loss: 0.1030 - accuracy: 1.0000\n",
      "Epoch 192/200\n",
      "1/1 - 0s - loss: 0.1013 - accuracy: 1.0000\n",
      "Epoch 193/200\n",
      "1/1 - 0s - loss: 0.0996 - accuracy: 1.0000\n",
      "Epoch 194/200\n",
      "1/1 - 0s - loss: 0.0980 - accuracy: 1.0000\n",
      "Epoch 195/200\n",
      "1/1 - 0s - loss: 0.0964 - accuracy: 1.0000\n",
      "Epoch 196/200\n",
      "1/1 - 0s - loss: 0.0949 - accuracy: 1.0000\n",
      "Epoch 197/200\n",
      "1/1 - 0s - loss: 0.0934 - accuracy: 1.0000\n",
      "Epoch 198/200\n",
      "1/1 - 0s - loss: 0.0919 - accuracy: 1.0000\n",
      "Epoch 199/200\n",
      "1/1 - 0s - loss: 0.0905 - accuracy: 1.0000\n",
      "Epoch 200/200\n",
      "1/1 - 0s - loss: 0.0891 - accuracy: 1.0000\n"
     ]
    },
    {
     "data": {
      "text/plain": [
       "<tensorflow.python.keras.callbacks.History at 0x26ca0fa14f0>"
      ]
     },
     "execution_count": 31,
     "metadata": {},
     "output_type": "execute_result"
    }
   ],
   "source": [
    "from tensorflow.keras.models import Sequential\n",
    "from tensorflow.keras.layers import Embedding, Dense, SimpleRNN\n",
    "\n",
    "model = Sequential()\n",
    "model.add(Embedding(vocab_size, 10, input_length=max_len-1)) # 레이블을 분리하였으므로 이제 X의 길이는 5\n",
    "model.add(SimpleRNN(32))\n",
    "model.add(Dense(vocab_size, activation='softmax'))\n",
    "model.compile(loss='categorical_crossentropy', optimizer='adam', metrics=['accuracy'])\n",
    "model.fit(X, y, epochs=200, verbose=2)"
   ]
  },
  {
   "cell_type": "markdown",
   "metadata": {},
   "source": [
    "각 단어의 임베딩 벡터는 10차원을 가지고, 32의 은닉 상태 크기를 가지는 바닐라 RNN을 사용합니다.  \n",
    "모델이 정확하게 예측하고 있는지 문장을 생성하는 함수를 만들어서 출력해봅시다."
   ]
  },
  {
   "cell_type": "code",
   "execution_count": 32,
   "metadata": {},
   "outputs": [],
   "source": [
    "def sentence_generation(model, t, current_word, n): # 모델, 토크나이저, 현재 단어, 반복할 횟수\n",
    "    init_word = current_word # 처음 들어온 단어도 마지막에 같이 출력하기위해 저장\n",
    "    sentence = ''\n",
    "    for _ in range(n): # n번 반복\n",
    "        encoded = t.texts_to_sequences([current_word])[0] # 현재 단어에 대한 정수 인코딩\n",
    "        encoded = pad_sequences([encoded], maxlen=5, padding='pre') # 데이터에 대한 패딩\n",
    "        result = model.predict_classes(encoded, verbose=0)\n",
    "    # 입력한 X(현재 단어)에 대해서 Y를 예측하고 Y(예측한 단어)를 result에 저장.\n",
    "        for word, index in t.word_index.items(): \n",
    "            if index == result: # 만약 예측한 단어와 인덱스와 동일한 단어가 있다면\n",
    "                break # 해당 단어가 예측 단어이므로 break\n",
    "        current_word = current_word + ' '  + word # 현재 단어 + ' ' + 예측 단어를 현재 단어로 변경\n",
    "        sentence = sentence + ' ' + word # 예측 단어를 문장에 저장\n",
    "    # for문이므로 이 행동을 다시 반복\n",
    "    sentence = init_word + sentence\n",
    "    return sentence"
   ]
  },
  {
   "cell_type": "markdown",
   "metadata": {},
   "source": [
    "이제 입력된 단어로부터 다음 단어를 예측해서 문장을 생성하는 함수를 만들었습니다."
   ]
  },
  {
   "cell_type": "code",
   "execution_count": 33,
   "metadata": {},
   "outputs": [
    {
     "name": "stderr",
     "output_type": "stream",
     "text": [
      "C:\\Users\\jikim\\Anaconda3\\lib\\site-packages\\tensorflow\\python\\keras\\engine\\sequential.py:450: UserWarning: `model.predict_classes()` is deprecated and will be removed after 2021-01-01. Please use instead:* `np.argmax(model.predict(x), axis=-1)`,   if your model does multi-class classification   (e.g. if it uses a `softmax` last-layer activation).* `(model.predict(x) > 0.5).astype(\"int32\")`,   if your model does binary classification   (e.g. if it uses a `sigmoid` last-layer activation).\n",
      "  warnings.warn('`model.predict_classes()` is deprecated and '\n"
     ]
    },
    {
     "name": "stdout",
     "output_type": "stream",
     "text": [
      "경마장에 있는 말이 뛰고 있다\n"
     ]
    }
   ],
   "source": [
    "print(sentence_generation(model, t, '경마장에', 4))\n",
    "# '경마장에' 라는 단어 뒤에는 총 4개의 단어가 있으므로 4번 예측"
   ]
  },
  {
   "cell_type": "code",
   "execution_count": 34,
   "metadata": {},
   "outputs": [
    {
     "name": "stdout",
     "output_type": "stream",
     "text": [
      "그의 말이 법이다\n"
     ]
    }
   ],
   "source": [
    "print(sentence_generation(model, t, '그의', 2)) # 2번 예측"
   ]
  },
  {
   "cell_type": "code",
   "execution_count": 35,
   "metadata": {},
   "outputs": [
    {
     "name": "stdout",
     "output_type": "stream",
     "text": [
      "가는 말이 고와야 오는\n"
     ]
    }
   ],
   "source": [
    "print(sentence_generation(model, t, '가는', 3)) # 5번 예측"
   ]
  },
  {
   "cell_type": "markdown",
   "metadata": {},
   "source": [
    "이제 앞의 문맥을 기준으로 '말이' 라는 단어 다음에 나올 단어를 기존의 훈련 데이터와 일치하게 예측함을 보여줍니다. 이 모델은 충분한 훈련 데이터를 갖고 있지 못하므로 위에서 문장의 길이에 맞게 적절하게 예측해야하는 횟수 4, 2, 5를 각각 인자값으로 주었습니다. 이 이상의 숫자를 주면 기계는 '있다', '법이다', '곱다' 다음에 나오는 단어가 무엇인지 배운 적이 없으므로 임의 예측을 합니다. 이번에는 더 많은 훈련 데이터를 가지고 실습해봅시다."
   ]
  },
  {
   "cell_type": "markdown",
   "metadata": {},
   "source": [
    "### 2. LSTM을 이용하여 텍스트 생성하기"
   ]
  },
  {
   "cell_type": "markdown",
   "metadata": {},
   "source": [
    "이번에는 LSTM을 통해 보다 많은 데이터로 텍스트를 생성해보겠습니다. 본질적으로 앞에서 한 것과 동일한 실습입니다."
   ]
  },
  {
   "cell_type": "markdown",
   "metadata": {},
   "source": [
    "#### 1) 데이터에 대한 이해와 전처리"
   ]
  },
  {
   "cell_type": "markdown",
   "metadata": {},
   "source": [
    "사용할 데이터는 뉴욕 타임즈 기사의 제목입니다. 아래의 링크에서 ArticlesApril2018.csv 데이터를 다운로드 합니다.\n",
    "\n",
    "파일 다운로드 링크 : https://www.kaggle.com/aashita/nyt-comments"
   ]
  },
  {
   "cell_type": "code",
   "execution_count": 37,
   "metadata": {},
   "outputs": [],
   "source": [
    "import pandas as pd\n",
    "from string import punctuation\n",
    "from tensorflow.keras.preprocessing.text import Tokenizer\n",
    "from tensorflow.keras.preprocessing.sequence import pad_sequences\n",
    "import numpy as np\n",
    "from tensorflow.keras.utils import to_categorical"
   ]
  },
  {
   "cell_type": "markdown",
   "metadata": {},
   "source": [
    "다운로드한 훈련 데이터를 데이터프레임에 저장합니다."
   ]
  },
  {
   "cell_type": "code",
   "execution_count": 39,
   "metadata": {},
   "outputs": [
    {
     "data": {
      "text/html": [
       "<div>\n",
       "<style scoped>\n",
       "    .dataframe tbody tr th:only-of-type {\n",
       "        vertical-align: middle;\n",
       "    }\n",
       "\n",
       "    .dataframe tbody tr th {\n",
       "        vertical-align: top;\n",
       "    }\n",
       "\n",
       "    .dataframe thead th {\n",
       "        text-align: right;\n",
       "    }\n",
       "</style>\n",
       "<table border=\"1\" class=\"dataframe\">\n",
       "  <thead>\n",
       "    <tr style=\"text-align: right;\">\n",
       "      <th></th>\n",
       "      <th>articleID</th>\n",
       "      <th>articleWordCount</th>\n",
       "      <th>byline</th>\n",
       "      <th>documentType</th>\n",
       "      <th>headline</th>\n",
       "      <th>keywords</th>\n",
       "      <th>multimedia</th>\n",
       "      <th>newDesk</th>\n",
       "      <th>printPage</th>\n",
       "      <th>pubDate</th>\n",
       "      <th>sectionName</th>\n",
       "      <th>snippet</th>\n",
       "      <th>source</th>\n",
       "      <th>typeOfMaterial</th>\n",
       "      <th>webURL</th>\n",
       "    </tr>\n",
       "  </thead>\n",
       "  <tbody>\n",
       "    <tr>\n",
       "      <th>0</th>\n",
       "      <td>5adf6684068401528a2aa69b</td>\n",
       "      <td>781</td>\n",
       "      <td>By JOHN BRANCH</td>\n",
       "      <td>article</td>\n",
       "      <td>Former N.F.L. Cheerleaders’ Settlement Offer: ...</td>\n",
       "      <td>['Workplace Hazards and Violations', 'Football...</td>\n",
       "      <td>68</td>\n",
       "      <td>Sports</td>\n",
       "      <td>0</td>\n",
       "      <td>2018-04-24 17:16:49</td>\n",
       "      <td>Pro Football</td>\n",
       "      <td>“I understand that they could meet with us, pa...</td>\n",
       "      <td>The New York Times</td>\n",
       "      <td>News</td>\n",
       "      <td>https://www.nytimes.com/2018/04/24/sports/foot...</td>\n",
       "    </tr>\n",
       "    <tr>\n",
       "      <th>1</th>\n",
       "      <td>5adf653f068401528a2aa697</td>\n",
       "      <td>656</td>\n",
       "      <td>By LISA FRIEDMAN</td>\n",
       "      <td>article</td>\n",
       "      <td>E.P.A. to Unveil a New Rule. Its Effect: Less ...</td>\n",
       "      <td>['Environmental Protection Agency', 'Pruitt, S...</td>\n",
       "      <td>68</td>\n",
       "      <td>Climate</td>\n",
       "      <td>0</td>\n",
       "      <td>2018-04-24 17:11:21</td>\n",
       "      <td>Unknown</td>\n",
       "      <td>The agency plans to publish a new regulation T...</td>\n",
       "      <td>The New York Times</td>\n",
       "      <td>News</td>\n",
       "      <td>https://www.nytimes.com/2018/04/24/climate/epa...</td>\n",
       "    </tr>\n",
       "    <tr>\n",
       "      <th>2</th>\n",
       "      <td>5adf4626068401528a2aa628</td>\n",
       "      <td>2427</td>\n",
       "      <td>By PETE WELLS</td>\n",
       "      <td>article</td>\n",
       "      <td>The New Noma, Explained</td>\n",
       "      <td>['Restaurants', 'Noma (Copenhagen, Restaurant)...</td>\n",
       "      <td>66</td>\n",
       "      <td>Dining</td>\n",
       "      <td>0</td>\n",
       "      <td>2018-04-24 14:58:44</td>\n",
       "      <td>Unknown</td>\n",
       "      <td>What’s it like to eat at the second incarnatio...</td>\n",
       "      <td>The New York Times</td>\n",
       "      <td>News</td>\n",
       "      <td>https://www.nytimes.com/2018/04/24/dining/noma...</td>\n",
       "    </tr>\n",
       "    <tr>\n",
       "      <th>3</th>\n",
       "      <td>5adf40d2068401528a2aa619</td>\n",
       "      <td>626</td>\n",
       "      <td>By JULIE HIRSCHFELD DAVIS and PETER BAKER</td>\n",
       "      <td>article</td>\n",
       "      <td>Unknown</td>\n",
       "      <td>['Macron, Emmanuel (1977- )', 'Trump, Donald J...</td>\n",
       "      <td>68</td>\n",
       "      <td>Washington</td>\n",
       "      <td>0</td>\n",
       "      <td>2018-04-24 14:35:57</td>\n",
       "      <td>Europe</td>\n",
       "      <td>President Trump welcomed President Emmanuel Ma...</td>\n",
       "      <td>The New York Times</td>\n",
       "      <td>News</td>\n",
       "      <td>https://www.nytimes.com/2018/04/24/world/europ...</td>\n",
       "    </tr>\n",
       "    <tr>\n",
       "      <th>4</th>\n",
       "      <td>5adf3d64068401528a2aa60f</td>\n",
       "      <td>815</td>\n",
       "      <td>By IAN AUSTEN and DAN BILEFSKY</td>\n",
       "      <td>article</td>\n",
       "      <td>Unknown</td>\n",
       "      <td>['Toronto, Ontario, Attack (April, 2018)', 'Mu...</td>\n",
       "      <td>68</td>\n",
       "      <td>Foreign</td>\n",
       "      <td>0</td>\n",
       "      <td>2018-04-24 14:21:21</td>\n",
       "      <td>Canada</td>\n",
       "      <td>Alek Minassian, 25, a resident of Toronto’s Ri...</td>\n",
       "      <td>The New York Times</td>\n",
       "      <td>News</td>\n",
       "      <td>https://www.nytimes.com/2018/04/24/world/canad...</td>\n",
       "    </tr>\n",
       "  </tbody>\n",
       "</table>\n",
       "</div>"
      ],
      "text/plain": [
       "                  articleID  articleWordCount  \\\n",
       "0  5adf6684068401528a2aa69b               781   \n",
       "1  5adf653f068401528a2aa697               656   \n",
       "2  5adf4626068401528a2aa628              2427   \n",
       "3  5adf40d2068401528a2aa619               626   \n",
       "4  5adf3d64068401528a2aa60f               815   \n",
       "\n",
       "                                      byline documentType  \\\n",
       "0                             By JOHN BRANCH      article   \n",
       "1                           By LISA FRIEDMAN      article   \n",
       "2                              By PETE WELLS      article   \n",
       "3  By JULIE HIRSCHFELD DAVIS and PETER BAKER      article   \n",
       "4             By IAN AUSTEN and DAN BILEFSKY      article   \n",
       "\n",
       "                                            headline  \\\n",
       "0  Former N.F.L. Cheerleaders’ Settlement Offer: ...   \n",
       "1  E.P.A. to Unveil a New Rule. Its Effect: Less ...   \n",
       "2                            The New Noma, Explained   \n",
       "3                                            Unknown   \n",
       "4                                            Unknown   \n",
       "\n",
       "                                            keywords  multimedia     newDesk  \\\n",
       "0  ['Workplace Hazards and Violations', 'Football...          68      Sports   \n",
       "1  ['Environmental Protection Agency', 'Pruitt, S...          68     Climate   \n",
       "2  ['Restaurants', 'Noma (Copenhagen, Restaurant)...          66      Dining   \n",
       "3  ['Macron, Emmanuel (1977- )', 'Trump, Donald J...          68  Washington   \n",
       "4  ['Toronto, Ontario, Attack (April, 2018)', 'Mu...          68     Foreign   \n",
       "\n",
       "   printPage              pubDate   sectionName  \\\n",
       "0          0  2018-04-24 17:16:49  Pro Football   \n",
       "1          0  2018-04-24 17:11:21       Unknown   \n",
       "2          0  2018-04-24 14:58:44       Unknown   \n",
       "3          0  2018-04-24 14:35:57        Europe   \n",
       "4          0  2018-04-24 14:21:21        Canada   \n",
       "\n",
       "                                             snippet              source  \\\n",
       "0  “I understand that they could meet with us, pa...  The New York Times   \n",
       "1  The agency plans to publish a new regulation T...  The New York Times   \n",
       "2  What’s it like to eat at the second incarnatio...  The New York Times   \n",
       "3  President Trump welcomed President Emmanuel Ma...  The New York Times   \n",
       "4  Alek Minassian, 25, a resident of Toronto’s Ri...  The New York Times   \n",
       "\n",
       "  typeOfMaterial                                             webURL  \n",
       "0           News  https://www.nytimes.com/2018/04/24/sports/foot...  \n",
       "1           News  https://www.nytimes.com/2018/04/24/climate/epa...  \n",
       "2           News  https://www.nytimes.com/2018/04/24/dining/noma...  \n",
       "3           News  https://www.nytimes.com/2018/04/24/world/europ...  \n",
       "4           News  https://www.nytimes.com/2018/04/24/world/canad...  "
      ]
     },
     "execution_count": 39,
     "metadata": {},
     "output_type": "execute_result"
    }
   ],
   "source": [
    "df=pd.read_csv('ArticlesApril2018.csv')\n",
    "df.head()"
   ]
  },
  {
   "cell_type": "markdown",
   "metadata": {},
   "source": [
    "열의 개수가 굉장히 많기 때문에 한 눈에 보기 어렵습니다. 어떤 열이 있고, 열이 총 몇 개가 있는지 출력해봅시다."
   ]
  },
  {
   "cell_type": "code",
   "execution_count": 40,
   "metadata": {},
   "outputs": [
    {
     "name": "stdout",
     "output_type": "stream",
     "text": [
      "열의 개수:  15\n",
      "Index(['articleID', 'articleWordCount', 'byline', 'documentType', 'headline',\n",
      "       'keywords', 'multimedia', 'newDesk', 'printPage', 'pubDate',\n",
      "       'sectionName', 'snippet', 'source', 'typeOfMaterial', 'webURL'],\n",
      "      dtype='object')\n"
     ]
    }
   ],
   "source": [
    "print('열의 개수: ',len(df.columns))\n",
    "print(df.columns)"
   ]
  },
  {
   "cell_type": "markdown",
   "metadata": {},
   "source": [
    "총 15개의 열이 존재합니다. 여기서 사용할 열은 제목에 해당되는 headline 열입니다. Null 값이 있는지 확인해봅시다."
   ]
  },
  {
   "cell_type": "code",
   "execution_count": 41,
   "metadata": {},
   "outputs": [
    {
     "data": {
      "text/plain": [
       "False"
      ]
     },
     "execution_count": 41,
     "metadata": {},
     "output_type": "execute_result"
    }
   ],
   "source": [
    "df['headline'].isnull().values.any()"
   ]
  },
  {
   "cell_type": "markdown",
   "metadata": {},
   "source": [
    "Null 값은 별도로 없는 것으로 보입니다. headline 열에서 모든 신문 기사의 제목을 뽑아서 하나의 리스트로 저장해보도록 하겠습니다."
   ]
  },
  {
   "cell_type": "code",
   "execution_count": 43,
   "metadata": {},
   "outputs": [
    {
     "data": {
      "text/plain": [
       "['Former N.F.L. Cheerleaders’ Settlement Offer: $1 and a Meeting With Goodell',\n",
       " 'E.P.A. to Unveil a New Rule. Its Effect: Less Science in Policymaking.',\n",
       " 'The New Noma, Explained',\n",
       " 'Unknown',\n",
       " 'Unknown']"
      ]
     },
     "execution_count": 43,
     "metadata": {},
     "output_type": "execute_result"
    }
   ],
   "source": [
    "headline = [] # 리스트 선언\n",
    "headline.extend(list(df.headline.values)) # 헤드라인의 값들을 리스트로 저장\n",
    "headline[:5] # 상위 5개만 출력"
   ]
  },
  {
   "cell_type": "markdown",
   "metadata": {},
   "source": [
    "headline이라는 리스트에 모든 신문 기사의 제목을 저장했습니다. 저장한 리스트에서 상위 5개만 출력해보았습니다."
   ]
  },
  {
   "cell_type": "markdown",
   "metadata": {},
   "source": [
    "그런데 4번째, 5번째 샘플에 Unknown 값이 들어가있습니다. headline 전체에 걸쳐서 Unknown 값을 가진 샘플이 있을 것으로 추정됩니다. 비록 Null 값은 아니지만 지금 하고자 하는 실습에 도움이 되지 않는 노이즈 데이터이므로 제거해줄 필요가 있습니다. 제거하기 전에 현재 샘플의 개수를 확인해보고 제거 전, 후의 샘플의 개수를 비교해보겠습니다."
   ]
  },
  {
   "cell_type": "code",
   "execution_count": 44,
   "metadata": {},
   "outputs": [
    {
     "name": "stdout",
     "output_type": "stream",
     "text": [
      "총 샘플의 개수 : 1324\n"
     ]
    }
   ],
   "source": [
    "print('총 샘플의 개수 : {0}'.format(len(headline))) # 현재 샘플의 개수"
   ]
  },
  {
   "cell_type": "markdown",
   "metadata": {},
   "source": [
    "노이즈 데이터를 제거하기 전 데이터의 개수는 1,324입니다. 즉, 신문 기사의 제목이 총 1,324개입니다."
   ]
  },
  {
   "cell_type": "code",
   "execution_count": 45,
   "metadata": {},
   "outputs": [
    {
     "name": "stdout",
     "output_type": "stream",
     "text": [
      "노이즈값 제거 후 샘플의 개수 : 1214\n"
     ]
    }
   ],
   "source": [
    "headline = [n for n in headline if n != \"Unknown\"] # Unknown 값을 가진 샘플 제거\n",
    "print('노이즈값 제거 후 샘플의 개수 : {}'.format(len(headline))) # 제거 후 샘플의 개수"
   ]
  },
  {
   "cell_type": "markdown",
   "metadata": {},
   "source": [
    "샘플의 수가 1,324에서 1,214로 110개의 샘플이 제거되었는데, 기존에 출력했던 5개의 샘플을 출력해보겠습니다."
   ]
  },
  {
   "cell_type": "code",
   "execution_count": 46,
   "metadata": {},
   "outputs": [
    {
     "data": {
      "text/plain": [
       "['Former N.F.L. Cheerleaders’ Settlement Offer: $1 and a Meeting With Goodell',\n",
       " 'E.P.A. to Unveil a New Rule. Its Effect: Less Science in Policymaking.',\n",
       " 'The New Noma, Explained',\n",
       " 'How a Bag of Texas Dirt  Became a Times Tradition',\n",
       " 'Is School a Place for Self-Expression?']"
      ]
     },
     "execution_count": 46,
     "metadata": {},
     "output_type": "execute_result"
    }
   ],
   "source": [
    "headline[:5]"
   ]
  },
  {
   "cell_type": "markdown",
   "metadata": {},
   "source": [
    "기존에 4번째, 5번째 샘플에서는 Unknown 값이 있었는데 현재는 제거가 된 것을 확인하였습니다. 이제 데이터 전처리를 수행합니다. 여기서 선택한 전처리는 구두점 제거와 단어의 소문자화입니다. 전처리를 수행하고, 다시 샘플 5개를 출력합니다."
   ]
  },
  {
   "cell_type": "code",
   "execution_count": 47,
   "metadata": {},
   "outputs": [
    {
     "data": {
      "text/plain": [
       "['former nfl cheerleaders settlement offer 1 and a meeting with goodell',\n",
       " 'epa to unveil a new rule its effect less science in policymaking',\n",
       " 'the new noma explained',\n",
       " 'how a bag of texas dirt  became a times tradition',\n",
       " 'is school a place for selfexpression']"
      ]
     },
     "execution_count": 47,
     "metadata": {},
     "output_type": "execute_result"
    }
   ],
   "source": [
    "def repreprocessing(s):\n",
    "    s=s.encode(\"utf8\").decode(\"ascii\",'ignore')\n",
    "    return ''.join(c for c in s if c not in punctuation).lower() # 구두점 제거와 동시에 소문자화\n",
    "\n",
    "text = [repreprocessing(x) for x in headline]\n",
    "text[:5]"
   ]
  },
  {
   "cell_type": "markdown",
   "metadata": {},
   "source": [
    "기존의 출력과 비교하면 모든 단어들이 소문자화되었으며 N.F.L.이나 Cheerleaders’ 등과 같이 기존에 구두점이 붙어있던 단어들에서 구두점이 제거되었습니다. 이제 단어 집합(vocabulary)을 만들고 크기를 확인합니다."
   ]
  },
  {
   "cell_type": "code",
   "execution_count": 49,
   "metadata": {},
   "outputs": [
    {
     "name": "stdout",
     "output_type": "stream",
     "text": [
      "단어 집합의 크기 : 3494\n"
     ]
    }
   ],
   "source": [
    "t = Tokenizer()\n",
    "t.fit_on_texts(text)\n",
    "vocab_size = len(t.word_index) + 1\n",
    "print('단어 집합의 크기 : %d' % vocab_size)"
   ]
  },
  {
   "cell_type": "markdown",
   "metadata": {},
   "source": [
    "총 3,494개의 단어가 존재합니다. 이제 정수 인코딩과 동시에 하나의 문장을 여러 줄로 분해하여 훈련 데이터를 구성합니다."
   ]
  },
  {
   "cell_type": "code",
   "execution_count": 50,
   "metadata": {},
   "outputs": [
    {
     "data": {
      "text/plain": [
       "[[99, 269],\n",
       " [99, 269, 371],\n",
       " [99, 269, 371, 1115],\n",
       " [99, 269, 371, 1115, 582],\n",
       " [99, 269, 371, 1115, 582, 52],\n",
       " [99, 269, 371, 1115, 582, 52, 7],\n",
       " [99, 269, 371, 1115, 582, 52, 7, 2],\n",
       " [99, 269, 371, 1115, 582, 52, 7, 2, 372],\n",
       " [99, 269, 371, 1115, 582, 52, 7, 2, 372, 10],\n",
       " [99, 269, 371, 1115, 582, 52, 7, 2, 372, 10, 1116],\n",
       " [100, 3]]"
      ]
     },
     "execution_count": 50,
     "metadata": {},
     "output_type": "execute_result"
    }
   ],
   "source": [
    "sequences = list()\n",
    "\n",
    "for line in text: # 1,214 개의 샘플에 대해서 샘플을 1개씩 가져온다.\n",
    "    encoded = t.texts_to_sequences([line])[0] # 각 샘플에 대한 정수 인코딩\n",
    "    for i in range(1, len(encoded)):\n",
    "        sequence = encoded[:i+1]\n",
    "        sequences.append(sequence)\n",
    "\n",
    "sequences[:11] # 11개의 샘플 출력"
   ]
  },
  {
   "cell_type": "markdown",
   "metadata": {},
   "source": [
    "이해를 돕기 위해 출력 결과에 주석을 추가하였습니다. 왜 하나의 문장을 저렇게 나눌까요? 예를 들어 '경마장에 있는 말이 뛰고 있다' 라는 문장 하나가 있을 때, 최종적으로 원하는 훈련 데이터의 형태는 다음과 같습니다. 하나의 단어를 예측하기 위해 이전에 등장한 단어들을 모두 참고하는 것입니다."
   ]
  },
  {
   "cell_type": "markdown",
   "metadata": {},
   "source": [
    "|samples|X|y|\n",
    "|-----------|---|---|\n",
    "|1|경마장에|있는|\n",
    "|2|경마장에 있는|말이|\n",
    "|3|경마장에 있는 말이|뛰고|\n",
    "|4|경마장에 있는 말이 뛰고|있다|"
   ]
  },
  {
   "cell_type": "markdown",
   "metadata": {},
   "source": [
    "위의 sequences는 모든 문장을 각 단어가 각 시점(time step)마다 하나씩 추가적으로 등장하는 형태로 만들기는 했지만, 아직 예측할 단어에 해당되는 레이블을 분리하는 작업까지는 수행하지 않은 상태입니다. 어떤 정수가 어떤 단어를 의미하는지 알아보기 위해 인덱스로부터 단어를 찾는 index_to_word를 만듭니다."
   ]
  },
  {
   "cell_type": "code",
   "execution_count": 51,
   "metadata": {},
   "outputs": [
    {
     "name": "stdout",
     "output_type": "stream",
     "text": [
      "빈도수 상위 582번 단어 : offer\n"
     ]
    }
   ],
   "source": [
    "index_to_word={}\n",
    "for key, value in t.word_index.items(): # 인덱스를 단어로 바꾸기 위해 index_to_word를 생성\n",
    "    index_to_word[value] = key\n",
    "\n",
    "print('빈도수 상위 582번 단어 : {}'.format(index_to_word[582]))"
   ]
  },
  {
   "cell_type": "markdown",
   "metadata": {},
   "source": [
    "582이라는 인덱스를 가진 단어는 본래 offer라는 단어였습니다. 원한다면 다른 숫자로도 시도해보세요. 이제 y데이터를 분리하기 전에 전체 샘플의 길이를 동일하게 만드는 패딩 작업을 수행합니다. 패딩 작업을 수행하기 전에 가장 긴 샘플의 길이를 확인합니다."
   ]
  },
  {
   "cell_type": "code",
   "execution_count": 52,
   "metadata": {},
   "outputs": [
    {
     "name": "stdout",
     "output_type": "stream",
     "text": [
      "샘플의 최대 길이 : 24\n"
     ]
    }
   ],
   "source": [
    "max_len=max(len(l) for l in sequences)\n",
    "print('샘플의 최대 길이 : {}'.format(max_len))"
   ]
  },
  {
   "cell_type": "markdown",
   "metadata": {},
   "source": [
    "가장 긴 샘플의 길이인 24로 모든 샘플의 길이를 패딩하겠습니다."
   ]
  },
  {
   "cell_type": "code",
   "execution_count": 53,
   "metadata": {},
   "outputs": [
    {
     "name": "stdout",
     "output_type": "stream",
     "text": [
      "[[   0    0    0    0    0    0    0    0    0    0    0    0    0    0\n",
      "     0    0    0    0    0    0    0    0   99  269]\n",
      " [   0    0    0    0    0    0    0    0    0    0    0    0    0    0\n",
      "     0    0    0    0    0    0    0   99  269  371]\n",
      " [   0    0    0    0    0    0    0    0    0    0    0    0    0    0\n",
      "     0    0    0    0    0    0   99  269  371 1115]]\n"
     ]
    }
   ],
   "source": [
    "sequences = pad_sequences(sequences, maxlen=max_len, padding='pre')\n",
    "print(sequences[:3])"
   ]
  },
  {
   "cell_type": "markdown",
   "metadata": {},
   "source": [
    "padding='pre'를 설정하여 샘플의 길이가 24보다 짧은 경우에 앞에 0으로 패딩되었습니다. 이제 맨 우측 단어만 레이블로 분리합니다."
   ]
  },
  {
   "cell_type": "code",
   "execution_count": 69,
   "metadata": {},
   "outputs": [],
   "source": [
    "sequences = np.array(sequences)\n",
    "X = sequences[:,:-1]\n",
    "y = sequences[:,-1]"
   ]
  },
  {
   "cell_type": "code",
   "execution_count": 70,
   "metadata": {},
   "outputs": [
    {
     "name": "stdout",
     "output_type": "stream",
     "text": [
      "[[  0   0   0   0   0   0   0   0   0   0   0   0   0   0   0   0   0   0\n",
      "    0   0   0   0  99]\n",
      " [  0   0   0   0   0   0   0   0   0   0   0   0   0   0   0   0   0   0\n",
      "    0   0   0  99 269]\n",
      " [  0   0   0   0   0   0   0   0   0   0   0   0   0   0   0   0   0   0\n",
      "    0   0  99 269 371]]\n"
     ]
    }
   ],
   "source": [
    "print(X[:3])"
   ]
  },
  {
   "cell_type": "markdown",
   "metadata": {},
   "source": [
    "훈련 데이터 X에서 3개의 샘플만 출력해보았는데, 맨 우측에 있던 정수값 269, 371, 1115가 사라진 것을 볼 수 있습니다. 뿐만 아니라, 각 샘플의 길이가 24에서 23으로 줄었습니다."
   ]
  },
  {
   "cell_type": "code",
   "execution_count": 71,
   "metadata": {},
   "outputs": [
    {
     "name": "stdout",
     "output_type": "stream",
     "text": [
      "[ 269  371 1115]\n"
     ]
    }
   ],
   "source": [
    "print(y[:3]) # 레이블"
   ]
  },
  {
   "cell_type": "markdown",
   "metadata": {},
   "source": [
    "훈련 데이터 y 중 3개의 샘플만 출력해보았는데, 기존 훈련 데이터에서 맨 우측에 있던 정수들이 별도로 저장되었습니다."
   ]
  },
  {
   "cell_type": "code",
   "execution_count": 74,
   "metadata": {},
   "outputs": [
    {
     "data": {
      "text/plain": [
       "(7803, 3494)"
      ]
     },
     "execution_count": 74,
     "metadata": {},
     "output_type": "execute_result"
    }
   ],
   "source": [
    "y_onehot = to_categorical(y, num_classes=vocab_size)\n",
    "y_onehot.shape"
   ]
  },
  {
   "cell_type": "markdown",
   "metadata": {},
   "source": [
    "레이블 데이터 y에 대해서 원-핫 인코딩을 수행하였습니다. 이제 모델을 설계합니다."
   ]
  },
  {
   "cell_type": "markdown",
   "metadata": {},
   "source": [
    "#### 2) 모델 설계하기"
   ]
  },
  {
   "cell_type": "code",
   "execution_count": 76,
   "metadata": {},
   "outputs": [],
   "source": [
    "from tensorflow.keras.models import Sequential\n",
    "from tensorflow.keras.layers import Embedding, Dense, LSTM"
   ]
  },
  {
   "cell_type": "code",
   "execution_count": 77,
   "metadata": {},
   "outputs": [
    {
     "name": "stdout",
     "output_type": "stream",
     "text": [
      "Epoch 1/200\n",
      "244/244 - 4s - loss: 7.6556 - accuracy: 0.0273\n",
      "Epoch 2/200\n",
      "244/244 - 2s - loss: 7.1139 - accuracy: 0.0299\n",
      "Epoch 3/200\n",
      "244/244 - 2s - loss: 6.9741 - accuracy: 0.0363\n",
      "Epoch 4/200\n",
      "244/244 - 2s - loss: 6.8469 - accuracy: 0.0414\n",
      "Epoch 5/200\n",
      "244/244 - 3s - loss: 6.6995 - accuracy: 0.0433\n",
      "Epoch 6/200\n",
      "244/244 - 3s - loss: 6.5377 - accuracy: 0.0484\n",
      "Epoch 7/200\n",
      "244/244 - 2s - loss: 6.3640 - accuracy: 0.0505\n",
      "Epoch 8/200\n",
      "244/244 - 1s - loss: 6.1829 - accuracy: 0.0569\n",
      "Epoch 9/200\n",
      "244/244 - 2s - loss: 6.0041 - accuracy: 0.0578\n",
      "Epoch 10/200\n",
      "244/244 - 2s - loss: 5.8306 - accuracy: 0.0647\n",
      "Epoch 11/200\n",
      "244/244 - 2s - loss: 5.6659 - accuracy: 0.0688\n",
      "Epoch 12/200\n",
      "244/244 - 2s - loss: 5.5079 - accuracy: 0.0725\n",
      "Epoch 13/200\n",
      "244/244 - 3s - loss: 5.3589 - accuracy: 0.0795\n",
      "Epoch 14/200\n",
      "244/244 - 2s - loss: 5.2174 - accuracy: 0.0832\n",
      "Epoch 15/200\n",
      "244/244 - 2s - loss: 5.0808 - accuracy: 0.0902\n",
      "Epoch 16/200\n",
      "244/244 - 2s - loss: 4.9515 - accuracy: 0.0956\n",
      "Epoch 17/200\n",
      "244/244 - 1s - loss: 4.8266 - accuracy: 0.1055\n",
      "Epoch 18/200\n",
      "244/244 - 2s - loss: 4.7043 - accuracy: 0.1174\n",
      "Epoch 19/200\n",
      "244/244 - 1s - loss: 4.5847 - accuracy: 0.1261\n",
      "Epoch 20/200\n",
      "244/244 - 2s - loss: 4.4664 - accuracy: 0.1430\n",
      "Epoch 21/200\n",
      "244/244 - 3s - loss: 4.3537 - accuracy: 0.1555\n",
      "Epoch 22/200\n",
      "244/244 - 2s - loss: 4.2437 - accuracy: 0.1698\n",
      "Epoch 23/200\n",
      "244/244 - 2s - loss: 4.1369 - accuracy: 0.1871\n",
      "Epoch 24/200\n",
      "244/244 - 3s - loss: 4.0301 - accuracy: 0.2036\n",
      "Epoch 25/200\n",
      "244/244 - 3s - loss: 3.9289 - accuracy: 0.2206\n",
      "Epoch 26/200\n",
      "244/244 - 2s - loss: 3.8308 - accuracy: 0.2363\n",
      "Epoch 27/200\n",
      "244/244 - 2s - loss: 3.7341 - accuracy: 0.2539\n",
      "Epoch 28/200\n",
      "244/244 - 2s - loss: 3.6416 - accuracy: 0.2727\n",
      "Epoch 29/200\n",
      "244/244 - 3s - loss: 3.5491 - accuracy: 0.2849\n",
      "Epoch 30/200\n",
      "244/244 - 2s - loss: 3.4631 - accuracy: 0.3067\n",
      "Epoch 31/200\n",
      "244/244 - 2s - loss: 3.3804 - accuracy: 0.3165\n",
      "Epoch 32/200\n",
      "244/244 - 2s - loss: 3.2957 - accuracy: 0.3315\n",
      "Epoch 33/200\n",
      "244/244 - 4s - loss: 3.2185 - accuracy: 0.3441\n",
      "Epoch 34/200\n",
      "244/244 - 3s - loss: 3.1418 - accuracy: 0.3604\n",
      "Epoch 35/200\n",
      "244/244 - 4s - loss: 3.0661 - accuracy: 0.3710\n",
      "Epoch 36/200\n",
      "244/244 - 2s - loss: 2.9979 - accuracy: 0.3827\n",
      "Epoch 37/200\n",
      "244/244 - 1s - loss: 2.9296 - accuracy: 0.3965\n",
      "Epoch 38/200\n",
      "244/244 - 1s - loss: 2.8633 - accuracy: 0.4113\n",
      "Epoch 39/200\n",
      "244/244 - 2s - loss: 2.7976 - accuracy: 0.4209\n",
      "Epoch 40/200\n",
      "244/244 - 3s - loss: 2.7363 - accuracy: 0.4341\n",
      "Epoch 41/200\n",
      "244/244 - 3s - loss: 2.6765 - accuracy: 0.4478\n",
      "Epoch 42/200\n",
      "244/244 - 4s - loss: 2.6188 - accuracy: 0.4557\n",
      "Epoch 43/200\n",
      "244/244 - 2s - loss: 2.5629 - accuracy: 0.4691\n",
      "Epoch 44/200\n",
      "244/244 - 3s - loss: 2.5072 - accuracy: 0.4773\n",
      "Epoch 45/200\n",
      "244/244 - 2s - loss: 2.4532 - accuracy: 0.4928\n",
      "Epoch 46/200\n",
      "244/244 - 1s - loss: 2.4019 - accuracy: 0.5049\n",
      "Epoch 47/200\n",
      "244/244 - 1s - loss: 2.3500 - accuracy: 0.5140\n",
      "Epoch 48/200\n",
      "244/244 - 2s - loss: 2.3016 - accuracy: 0.5261\n",
      "Epoch 49/200\n",
      "244/244 - 2s - loss: 2.2526 - accuracy: 0.5331\n",
      "Epoch 50/200\n",
      "244/244 - 2s - loss: 2.2079 - accuracy: 0.5465\n",
      "Epoch 51/200\n",
      "244/244 - 2s - loss: 2.1617 - accuracy: 0.5513\n",
      "Epoch 52/200\n",
      "244/244 - 2s - loss: 2.1132 - accuracy: 0.5656\n",
      "Epoch 53/200\n",
      "244/244 - 1s - loss: 2.0720 - accuracy: 0.5762\n",
      "Epoch 54/200\n",
      "244/244 - 2s - loss: 2.0313 - accuracy: 0.5832\n",
      "Epoch 55/200\n",
      "244/244 - 1s - loss: 1.9862 - accuracy: 0.5941\n",
      "Epoch 56/200\n",
      "244/244 - 1s - loss: 1.9460 - accuracy: 0.6005\n",
      "Epoch 57/200\n",
      "244/244 - 1s - loss: 1.9057 - accuracy: 0.6101\n",
      "Epoch 58/200\n",
      "244/244 - 1s - loss: 1.8657 - accuracy: 0.6207\n",
      "Epoch 59/200\n",
      "244/244 - 2s - loss: 1.8283 - accuracy: 0.6307\n",
      "Epoch 60/200\n",
      "244/244 - 1s - loss: 1.7915 - accuracy: 0.6391\n",
      "Epoch 61/200\n",
      "244/244 - 3s - loss: 1.7542 - accuracy: 0.6464\n",
      "Epoch 62/200\n",
      "244/244 - 3s - loss: 1.7180 - accuracy: 0.6550\n",
      "Epoch 63/200\n",
      "244/244 - 2s - loss: 1.6808 - accuracy: 0.6608\n",
      "Epoch 64/200\n",
      "244/244 - 2s - loss: 1.6457 - accuracy: 0.6703\n",
      "Epoch 65/200\n",
      "244/244 - 1s - loss: 1.6119 - accuracy: 0.6755\n",
      "Epoch 66/200\n",
      "244/244 - 2s - loss: 1.5776 - accuracy: 0.6846\n",
      "Epoch 67/200\n",
      "244/244 - 1s - loss: 1.5451 - accuracy: 0.6899\n",
      "Epoch 68/200\n",
      "244/244 - 1s - loss: 1.5108 - accuracy: 0.6995\n",
      "Epoch 69/200\n",
      "244/244 - 2s - loss: 1.4793 - accuracy: 0.7052\n",
      "Epoch 70/200\n",
      "244/244 - 2s - loss: 1.4483 - accuracy: 0.7100\n",
      "Epoch 71/200\n",
      "244/244 - 1s - loss: 1.4217 - accuracy: 0.7142\n",
      "Epoch 72/200\n",
      "244/244 - 1s - loss: 1.3885 - accuracy: 0.7245\n",
      "Epoch 73/200\n",
      "244/244 - 1s - loss: 1.3577 - accuracy: 0.7333\n",
      "Epoch 74/200\n",
      "244/244 - 2s - loss: 1.3309 - accuracy: 0.7369\n",
      "Epoch 75/200\n",
      "244/244 - 1s - loss: 1.3013 - accuracy: 0.7388\n",
      "Epoch 76/200\n",
      "244/244 - 1s - loss: 1.2743 - accuracy: 0.7471\n",
      "Epoch 77/200\n",
      "244/244 - 1s - loss: 1.2464 - accuracy: 0.7560\n",
      "Epoch 78/200\n",
      "244/244 - 1s - loss: 1.2209 - accuracy: 0.7569\n",
      "Epoch 79/200\n",
      "244/244 - 1s - loss: 1.1977 - accuracy: 0.7620\n",
      "Epoch 80/200\n",
      "244/244 - 1s - loss: 1.1678 - accuracy: 0.7657\n",
      "Epoch 81/200\n",
      "244/244 - 1s - loss: 1.1426 - accuracy: 0.7755\n",
      "Epoch 82/200\n",
      "244/244 - 1s - loss: 1.1199 - accuracy: 0.7774\n",
      "Epoch 83/200\n",
      "244/244 - 1s - loss: 1.0966 - accuracy: 0.7807\n",
      "Epoch 84/200\n",
      "244/244 - 1s - loss: 1.0712 - accuracy: 0.7862\n",
      "Epoch 85/200\n",
      "244/244 - 1s - loss: 1.0476 - accuracy: 0.7920\n",
      "Epoch 86/200\n",
      "244/244 - 1s - loss: 1.0300 - accuracy: 0.7924\n",
      "Epoch 87/200\n",
      "244/244 - 1s - loss: 1.0063 - accuracy: 0.8003\n",
      "Epoch 88/200\n",
      "244/244 - 1s - loss: 0.9851 - accuracy: 0.8030\n",
      "Epoch 89/200\n",
      "244/244 - 1s - loss: 0.9620 - accuracy: 0.8094\n",
      "Epoch 90/200\n",
      "244/244 - 1s - loss: 0.9397 - accuracy: 0.8115\n",
      "Epoch 91/200\n",
      "244/244 - 1s - loss: 0.9196 - accuracy: 0.8165\n",
      "Epoch 92/200\n",
      "244/244 - 1s - loss: 0.9028 - accuracy: 0.8189\n",
      "Epoch 93/200\n",
      "244/244 - 1s - loss: 0.8847 - accuracy: 0.8221\n",
      "Epoch 94/200\n",
      "244/244 - 1s - loss: 0.8613 - accuracy: 0.8285\n",
      "Epoch 95/200\n",
      "244/244 - 1s - loss: 0.8436 - accuracy: 0.8351\n",
      "Epoch 96/200\n",
      "244/244 - 1s - loss: 0.8296 - accuracy: 0.8339\n",
      "Epoch 97/200\n",
      "244/244 - 1s - loss: 0.8097 - accuracy: 0.8374\n",
      "Epoch 98/200\n",
      "244/244 - 1s - loss: 0.7927 - accuracy: 0.8420\n",
      "Epoch 99/200\n",
      "244/244 - 1s - loss: 0.7770 - accuracy: 0.8444\n",
      "Epoch 100/200\n",
      "244/244 - 1s - loss: 0.7619 - accuracy: 0.8478\n",
      "Epoch 101/200\n",
      "244/244 - 1s - loss: 0.7472 - accuracy: 0.8493\n",
      "Epoch 102/200\n",
      "244/244 - 1s - loss: 0.7309 - accuracy: 0.8558\n",
      "Epoch 103/200\n",
      "244/244 - 1s - loss: 0.7141 - accuracy: 0.8565\n",
      "Epoch 104/200\n",
      "244/244 - 1s - loss: 0.7005 - accuracy: 0.8634\n",
      "Epoch 105/200\n",
      "244/244 - 1s - loss: 0.6861 - accuracy: 0.8630\n",
      "Epoch 106/200\n",
      "244/244 - 1s - loss: 0.6725 - accuracy: 0.8651\n",
      "Epoch 107/200\n",
      "244/244 - 1s - loss: 0.6588 - accuracy: 0.8684\n",
      "Epoch 108/200\n",
      "244/244 - 1s - loss: 0.6481 - accuracy: 0.8694\n",
      "Epoch 109/200\n",
      "244/244 - 1s - loss: 0.6349 - accuracy: 0.8722\n",
      "Epoch 110/200\n",
      "244/244 - 1s - loss: 0.6205 - accuracy: 0.8730\n",
      "Epoch 111/200\n",
      "244/244 - 1s - loss: 0.6092 - accuracy: 0.8763\n",
      "Epoch 112/200\n",
      "244/244 - 1s - loss: 0.5982 - accuracy: 0.8763\n",
      "Epoch 113/200\n",
      "244/244 - 1s - loss: 0.5844 - accuracy: 0.8804\n",
      "Epoch 114/200\n",
      "244/244 - 1s - loss: 0.5737 - accuracy: 0.8812\n",
      "Epoch 115/200\n",
      "244/244 - 1s - loss: 0.5658 - accuracy: 0.8840\n",
      "Epoch 116/200\n",
      "244/244 - 1s - loss: 0.5545 - accuracy: 0.8849\n",
      "Epoch 117/200\n",
      "244/244 - 1s - loss: 0.5424 - accuracy: 0.8908\n",
      "Epoch 118/200\n",
      "244/244 - 1s - loss: 0.5330 - accuracy: 0.8902\n",
      "Epoch 119/200\n",
      "244/244 - 1s - loss: 0.5218 - accuracy: 0.8926\n",
      "Epoch 120/200\n",
      "244/244 - 1s - loss: 0.5177 - accuracy: 0.8921\n",
      "Epoch 121/200\n",
      "244/244 - 1s - loss: 0.5058 - accuracy: 0.8947\n",
      "Epoch 122/200\n",
      "244/244 - 1s - loss: 0.4998 - accuracy: 0.8949\n",
      "Epoch 123/200\n",
      "244/244 - 1s - loss: 0.4905 - accuracy: 0.8973\n",
      "Epoch 124/200\n",
      "244/244 - 1s - loss: 0.4790 - accuracy: 0.8971\n",
      "Epoch 125/200\n",
      "244/244 - 1s - loss: 0.4730 - accuracy: 0.9003\n",
      "Epoch 126/200\n",
      "244/244 - 1s - loss: 0.4621 - accuracy: 0.9021\n",
      "Epoch 127/200\n",
      "244/244 - 1s - loss: 0.4547 - accuracy: 0.9021\n",
      "Epoch 128/200\n",
      "244/244 - 1s - loss: 0.4485 - accuracy: 0.9018\n",
      "Epoch 129/200\n",
      "244/244 - 1s - loss: 0.4412 - accuracy: 0.9053\n",
      "Epoch 130/200\n",
      "244/244 - 1s - loss: 0.4340 - accuracy: 0.9049\n",
      "Epoch 131/200\n",
      "244/244 - 1s - loss: 0.4269 - accuracy: 0.9063\n",
      "Epoch 132/200\n",
      "244/244 - 1s - loss: 0.4200 - accuracy: 0.9044\n",
      "Epoch 133/200\n",
      "244/244 - 1s - loss: 0.4140 - accuracy: 0.9053\n",
      "Epoch 134/200\n",
      "244/244 - 1s - loss: 0.4077 - accuracy: 0.9086\n",
      "Epoch 135/200\n",
      "244/244 - 1s - loss: 0.4032 - accuracy: 0.9079\n",
      "Epoch 136/200\n",
      "244/244 - 1s - loss: 0.3980 - accuracy: 0.9072\n",
      "Epoch 137/200\n"
     ]
    },
    {
     "name": "stdout",
     "output_type": "stream",
     "text": [
      "244/244 - 1s - loss: 0.3917 - accuracy: 0.9084\n",
      "Epoch 138/200\n",
      "244/244 - 1s - loss: 0.3863 - accuracy: 0.9090\n",
      "Epoch 139/200\n",
      "244/244 - 1s - loss: 0.3824 - accuracy: 0.9100\n",
      "Epoch 140/200\n",
      "244/244 - 1s - loss: 0.3760 - accuracy: 0.9100\n",
      "Epoch 141/200\n",
      "244/244 - 1s - loss: 0.3709 - accuracy: 0.9118\n",
      "Epoch 142/200\n",
      "244/244 - 1s - loss: 0.3649 - accuracy: 0.9116\n",
      "Epoch 143/200\n",
      "244/244 - 1s - loss: 0.3612 - accuracy: 0.9116\n",
      "Epoch 144/200\n",
      "244/244 - 1s - loss: 0.3573 - accuracy: 0.9134\n",
      "Epoch 145/200\n",
      "244/244 - 1s - loss: 0.3533 - accuracy: 0.9122\n",
      "Epoch 146/200\n",
      "244/244 - 1s - loss: 0.3504 - accuracy: 0.9134\n",
      "Epoch 147/200\n",
      "244/244 - 1s - loss: 0.3473 - accuracy: 0.9132\n",
      "Epoch 148/200\n",
      "244/244 - 1s - loss: 0.3472 - accuracy: 0.9122\n",
      "Epoch 149/200\n",
      "244/244 - 1s - loss: 0.3424 - accuracy: 0.9141\n",
      "Epoch 150/200\n",
      "244/244 - 1s - loss: 0.3440 - accuracy: 0.9132\n",
      "Epoch 151/200\n",
      "244/244 - 1s - loss: 0.3361 - accuracy: 0.9132\n",
      "Epoch 152/200\n",
      "244/244 - 1s - loss: 0.3329 - accuracy: 0.9157\n",
      "Epoch 153/200\n",
      "244/244 - 1s - loss: 0.3271 - accuracy: 0.9148\n",
      "Epoch 154/200\n",
      "244/244 - 1s - loss: 0.3216 - accuracy: 0.9158\n",
      "Epoch 155/200\n",
      "244/244 - 1s - loss: 0.3190 - accuracy: 0.9162\n",
      "Epoch 156/200\n",
      "244/244 - 1s - loss: 0.3160 - accuracy: 0.9144\n",
      "Epoch 157/200\n",
      "244/244 - 1s - loss: 0.3158 - accuracy: 0.9135\n",
      "Epoch 158/200\n",
      "244/244 - 1s - loss: 0.3125 - accuracy: 0.9148\n",
      "Epoch 159/200\n",
      "244/244 - 1s - loss: 0.3120 - accuracy: 0.9141\n",
      "Epoch 160/200\n",
      "244/244 - 1s - loss: 0.3113 - accuracy: 0.9148\n",
      "Epoch 161/200\n",
      "244/244 - 1s - loss: 0.3096 - accuracy: 0.9139\n",
      "Epoch 162/200\n",
      "244/244 - 1s - loss: 0.3180 - accuracy: 0.9130\n",
      "Epoch 163/200\n",
      "244/244 - 1s - loss: 0.3265 - accuracy: 0.9120\n",
      "Epoch 164/200\n",
      "244/244 - 1s - loss: 0.3069 - accuracy: 0.9158\n",
      "Epoch 165/200\n",
      "244/244 - 1s - loss: 0.3006 - accuracy: 0.9168\n",
      "Epoch 166/200\n",
      "244/244 - 1s - loss: 0.2968 - accuracy: 0.9157\n",
      "Epoch 167/200\n",
      "244/244 - 1s - loss: 0.2947 - accuracy: 0.9163\n",
      "Epoch 168/200\n",
      "244/244 - 1s - loss: 0.2944 - accuracy: 0.9172\n",
      "Epoch 169/200\n",
      "244/244 - 1s - loss: 0.2926 - accuracy: 0.9166\n",
      "Epoch 170/200\n",
      "244/244 - 1s - loss: 0.2907 - accuracy: 0.9176\n",
      "Epoch 171/200\n",
      "244/244 - 1s - loss: 0.2907 - accuracy: 0.9170\n",
      "Epoch 172/200\n",
      "244/244 - 1s - loss: 0.2903 - accuracy: 0.9144\n",
      "Epoch 173/200\n",
      "244/244 - 1s - loss: 0.2912 - accuracy: 0.9175\n",
      "Epoch 174/200\n",
      "244/244 - 1s - loss: 0.2883 - accuracy: 0.9153\n",
      "Epoch 175/200\n",
      "244/244 - 1s - loss: 0.2860 - accuracy: 0.9173\n",
      "Epoch 176/200\n",
      "244/244 - 1s - loss: 0.2864 - accuracy: 0.9149\n",
      "Epoch 177/200\n",
      "244/244 - 1s - loss: 0.2842 - accuracy: 0.9170\n",
      "Epoch 178/200\n",
      "244/244 - 1s - loss: 0.2820 - accuracy: 0.9173\n",
      "Epoch 179/200\n",
      "244/244 - 1s - loss: 0.2816 - accuracy: 0.9158\n",
      "Epoch 180/200\n",
      "244/244 - 1s - loss: 0.2793 - accuracy: 0.9155\n",
      "Epoch 181/200\n",
      "244/244 - 1s - loss: 0.2816 - accuracy: 0.9162\n",
      "Epoch 182/200\n",
      "244/244 - 1s - loss: 0.2784 - accuracy: 0.9159\n",
      "Epoch 183/200\n",
      "244/244 - 1s - loss: 0.2812 - accuracy: 0.9155\n",
      "Epoch 184/200\n",
      "244/244 - 1s - loss: 0.2811 - accuracy: 0.9157\n",
      "Epoch 185/200\n",
      "244/244 - 1s - loss: 0.2763 - accuracy: 0.9168\n",
      "Epoch 186/200\n",
      "244/244 - 1s - loss: 0.2747 - accuracy: 0.9161\n",
      "Epoch 187/200\n",
      "244/244 - 1s - loss: 0.2781 - accuracy: 0.9167\n",
      "Epoch 188/200\n",
      "244/244 - 1s - loss: 0.2905 - accuracy: 0.9149\n",
      "Epoch 189/200\n",
      "244/244 - 1s - loss: 0.3045 - accuracy: 0.9138\n",
      "Epoch 190/200\n",
      "244/244 - 1s - loss: 0.2868 - accuracy: 0.9161\n",
      "Epoch 191/200\n",
      "244/244 - 1s - loss: 0.2767 - accuracy: 0.9149\n",
      "Epoch 192/200\n",
      "244/244 - 1s - loss: 0.2769 - accuracy: 0.9153\n",
      "Epoch 193/200\n",
      "244/244 - 1s - loss: 0.2752 - accuracy: 0.9170\n",
      "Epoch 194/200\n",
      "244/244 - 1s - loss: 0.2803 - accuracy: 0.9150\n",
      "Epoch 195/200\n",
      "244/244 - 1s - loss: 0.2742 - accuracy: 0.9175\n",
      "Epoch 196/200\n",
      "244/244 - 1s - loss: 0.2719 - accuracy: 0.9175\n",
      "Epoch 197/200\n",
      "244/244 - 1s - loss: 0.2711 - accuracy: 0.9164\n",
      "Epoch 198/200\n",
      "244/244 - 1s - loss: 0.2678 - accuracy: 0.9180\n",
      "Epoch 199/200\n",
      "244/244 - 1s - loss: 0.2694 - accuracy: 0.9163\n",
      "Epoch 200/200\n",
      "244/244 - 1s - loss: 0.2685 - accuracy: 0.9150\n"
     ]
    },
    {
     "data": {
      "text/plain": [
       "<tensorflow.python.keras.callbacks.History at 0x27251252f10>"
      ]
     },
     "execution_count": 77,
     "metadata": {},
     "output_type": "execute_result"
    }
   ],
   "source": [
    "model = Sequential()\n",
    "model.add(Embedding(vocab_size, 10, input_length=max_len-1))\n",
    "# y데이터를 분리하였으므로 이제 X데이터의 길이는 기존 데이터의 길이 - 1\n",
    "model.add(LSTM(128))\n",
    "model.add(Dense(vocab_size, activation='softmax'))\n",
    "model.compile(loss='categorical_crossentropy', optimizer='adam', metrics=['accuracy'])\n",
    "model.fit(X, y_onehot, epochs=200, verbose=2)"
   ]
  },
  {
   "cell_type": "markdown",
   "metadata": {},
   "source": [
    "각 단어의 임베딩 벡터는 10차원을 가지고, 128의 은닉 상태 크기를 가지는 LSTM을 사용합니다. 문장을 생성하는 함수 sentence_generation을 만들어서 문장을 생성해봅시다."
   ]
  },
  {
   "cell_type": "code",
   "execution_count": 82,
   "metadata": {},
   "outputs": [],
   "source": [
    "def sentence_generation(model, t, current_word, n): # 모델, 토크나이저, 현재 단어, 반복할 횟수\n",
    "    init_word = current_word # 처음 들어온 단어도 마지막에 같이 출력하기위해 저장\n",
    "    sentence = ''\n",
    "    for _ in range(n): # n번 반복\n",
    "        encoded = t.texts_to_sequences([current_word])[0] # 현재 단어에 대한 정수 인코딩\n",
    "        encoded = pad_sequences([encoded], maxlen=23, padding='pre') # 데이터에 대한 패딩\n",
    "        result = model.predict_classes(encoded, verbose=0)\n",
    "    # 입력한 X(현재 단어)에 대해서 y를 예측하고 y(예측한 단어)를 result에 저장.\n",
    "        for word, index in t.word_index.items(): \n",
    "            if index == result: # 만약 예측한 단어와 인덱스와 동일한 단어가 있다면\n",
    "                break # 해당 단어가 예측 단어이므로 break\n",
    "        current_word = current_word + ' '  + word # 현재 단어 + ' ' + 예측 단어를 현재 단어로 변경\n",
    "        sentence = sentence + ' ' + word # 예측 단어를 문장에 저장\n",
    "    # for문이므로 이 행동을 다시 반복\n",
    "    sentence = init_word + sentence\n",
    "    return sentence"
   ]
  },
  {
   "cell_type": "code",
   "execution_count": 83,
   "metadata": {},
   "outputs": [
    {
     "name": "stdout",
     "output_type": "stream",
     "text": [
      "i disapprove of school vouchers can i still apply for them\n"
     ]
    }
   ],
   "source": [
    "print(sentence_generation(model, t, 'i', 10))\n",
    "# 임의의 단어 'i'에 대해서 10개의 단어를 추가 생성"
   ]
  },
  {
   "cell_type": "code",
   "execution_count": 84,
   "metadata": {},
   "outputs": [
    {
     "name": "stdout",
     "output_type": "stream",
     "text": [
      "how to make facebook more accountable its died in gop remains\n"
     ]
    }
   ],
   "source": [
    "print(sentence_generation(model, t, 'how', 10))\n",
    "# 임의의 단어 'how'에 대해서 10개의 단어를 추가 생성"
   ]
  },
  {
   "cell_type": "markdown",
   "metadata": {},
   "source": [
    "## 3) 글자 단위 RNN(Char RNN)"
   ]
  },
  {
   "cell_type": "markdown",
   "metadata": {},
   "source": [
    "### 1. 글자 단위 RNN 언어 모델(Char RNNLM)"
   ]
  },
  {
   "cell_type": "markdown",
   "metadata": {},
   "source": [
    "이전 시점의 예측 글자를 다음 시점의 입력으로 사용하는 글자 단위 RNN 언어 모델을 구현해봅시다. 앞서 배운 단어 단위 RNN 언어 모델과 다른 점은 단어 단위가 아니라 글자 단위를 입, 출력으로 사용하므로 임베딩층(embedding layer)을 여기서는 사용하지 않겠습니다. 여기서는 언어 모델의 훈련 과정과 테스트 과정의 차이를 이해하는데 초점을 둡니다.\n",
    "\n",
    "다운로드 링크 : http://www.gutenberg.org/files/11/11-0.txt\n",
    "\n",
    "고전 소설들은 저작권에 보호받지 않으므로, 무료로 쉽게 다운받을 수 있는 좋은 훈련 데이터입니다. 위의 링크에서 '이상한 나라의 앨리스(Alice’s Adventures in Wonderland)'라는 소설을 다운로드 합니다. 우선, 파일을 불러오고 간단한 전처리를 수행합니다."
   ]
  },
  {
   "cell_type": "markdown",
   "metadata": {},
   "source": [
    "#### 1) 데이터에 대한 이해와 전처리"
   ]
  },
  {
   "cell_type": "code",
   "execution_count": 85,
   "metadata": {},
   "outputs": [],
   "source": [
    "import numpy as np\n",
    "import urllib.request\n",
    "from tensorflow.keras.utils import to_categorical\n",
    "\n",
    "urllib.request.urlretrieve(\"http://www.gutenberg.org/files/11/11-0.txt\", filename=\"11-0.txt\")\n",
    "f = open('11-0.txt', 'rb')\n",
    "lines=[]\n",
    "for line in f: # 데이터를 한 줄씩 읽는다.\n",
    "    line=line.strip() # strip()을 통해 \\r, \\n을 제거한다.\n",
    "    line=line.lower() # 소문자화.\n",
    "    line=line.decode('ascii', 'ignore') # \\xe2\\x80\\x99 등과 같은 바이트 열 제거\n",
    "    if len(line) > 0:\n",
    "        lines.append(line)\n",
    "f.close()"
   ]
  },
  {
   "cell_type": "markdown",
   "metadata": {},
   "source": [
    "간단한 전처리가 수행된 결과가 lines란 이름의 리스트에 저장되었습니다. 리스트에서 5개의 원소만 출력해보겠습니다."
   ]
  },
  {
   "cell_type": "code",
   "execution_count": 87,
   "metadata": {},
   "outputs": [
    {
     "data": {
      "text/plain": [
       "['the project gutenberg ebook of alices adventures in wonderland, by lewis carroll',\n",
       " 'this ebook is for the use of anyone anywhere in the united states and most',\n",
       " 'other parts of the world at no cost and with almost no restrictions',\n",
       " 'whatsoever.  you may copy it, give it away or re-use it under the terms of',\n",
       " 'the project gutenberg license included with this ebook or online at']"
      ]
     },
     "execution_count": 87,
     "metadata": {},
     "output_type": "execute_result"
    }
   ],
   "source": [
    "lines[:5]"
   ]
  },
  {
   "cell_type": "markdown",
   "metadata": {},
   "source": [
    "각 원소는 문자열로 구성되어져 있는데, 특별히 의미있게 문장 토큰화가 된 상태는 아닙니다. 이를 하나의 문자열로 통합하겠습니다."
   ]
  },
  {
   "cell_type": "code",
   "execution_count": 89,
   "metadata": {},
   "outputs": [
    {
     "name": "stdout",
     "output_type": "stream",
     "text": [
      "문자열의 길이 또는 총 글자의 개수: 159821\n"
     ]
    }
   ],
   "source": [
    "text = ' '.join(lines)\n",
    "print('문자열의 길이 또는 총 글자의 개수: %d' % len(text))"
   ]
  },
  {
   "cell_type": "markdown",
   "metadata": {},
   "source": [
    "하나의 문자열로 통합되었고, 문자열의 길이는 약 15만 9천입니다. 일부 출력해보겠습니다."
   ]
  },
  {
   "cell_type": "code",
   "execution_count": 91,
   "metadata": {},
   "outputs": [
    {
     "name": "stdout",
     "output_type": "stream",
     "text": [
      "the project gutenberg ebook of alices adventures in wonderland, by lewis carroll this ebook is for the use of anyone anywhere in the united states and most other parts of the world at no cost and with\n"
     ]
    }
   ],
   "source": [
    "print(text[:200])"
   ]
  },
  {
   "cell_type": "markdown",
   "metadata": {},
   "source": [
    "이 문자열은 어떤 글자들로 구성되어져 있을까요? 이제 이 문자열로부터 글자 집합을 만들겠습니다. 기존에는 중복을 제거한 단어들의 모음인 단어 집합(vocabulary)을 만들었으나, 이번에 만들 집합은 단어 집합이 아니라 글자 집합입니다."
   ]
  },
  {
   "cell_type": "code",
   "execution_count": 92,
   "metadata": {},
   "outputs": [
    {
     "name": "stdout",
     "output_type": "stream",
     "text": [
      "[' ', '!', '\"', '#', '$', '%', \"'\", '(', ')', '*', ',', '-', '.', '/', '0', '1', '2', '3', '4', '5', '6', '7', '8', '9', ':', ';', '?', '@', '[', ']', '_', 'a', 'b', 'c', 'd', 'e', 'f', 'g', 'h', 'i', 'j', 'k', 'l', 'm', 'n', 'o', 'p', 'q', 'r', 's', 't', 'u', 'v', 'w', 'x', 'y', 'z']\n",
      "글자 집합의 크기 : 57\n"
     ]
    }
   ],
   "source": [
    "char_vocab = sorted(list(set(text)))\n",
    "print(char_vocab)\n",
    "vocab_size=len(char_vocab)\n",
    "print ('글자 집합의 크기 : {}'.format(vocab_size))"
   ]
  },
  {
   "cell_type": "markdown",
   "metadata": {},
   "source": [
    "영어가 훈련 데이터일 때 대부분의 경우에서 글자 집합의 크기가 단어 집합을 사용했을 경우보다 집합의 크기가 현저히 작다는 특징이 있습니다. 아무리 훈련 코퍼스에 수십만 개 이상의 많은 영어 단어가 존재한다고 하더라도, 영어 단어를 표현하기 위해서 글자 집합에 포함되는 글자는 26개의 알파벳뿐이기 때문입니다. 만약 훈련 데이터의 알파벳이 대, 소문자가 구분된 상태라고 하더라도 모든 영어 단어는 총 52개의 알파벳으로 표현 가능합니다.\n",
    "\n",
    "어떤 방대한 양의 텍스트라도 집합의 크기를 적게 가져갈 수 있다는 것은 구현과 테스트를 굉장히 쉽게 할 수 있다는 이점을 가지므로, RNN의 동작 메커니즘 이해를 위한 토이 프로젝트로 굉장히 많이 사용됩니다. 글자 집합에 인덱스를 부여하고 전부 출력해보겠습니다."
   ]
  },
  {
   "cell_type": "code",
   "execution_count": 94,
   "metadata": {},
   "outputs": [
    {
     "name": "stdout",
     "output_type": "stream",
     "text": [
      "{' ': 0, '!': 1, '\"': 2, '#': 3, '$': 4, '%': 5, \"'\": 6, '(': 7, ')': 8, '*': 9, ',': 10, '-': 11, '.': 12, '/': 13, '0': 14, '1': 15, '2': 16, '3': 17, '4': 18, '5': 19, '6': 20, '7': 21, '8': 22, '9': 23, ':': 24, ';': 25, '?': 26, '@': 27, '[': 28, ']': 29, '_': 30, 'a': 31, 'b': 32, 'c': 33, 'd': 34, 'e': 35, 'f': 36, 'g': 37, 'h': 38, 'i': 39, 'j': 40, 'k': 41, 'l': 42, 'm': 43, 'n': 44, 'o': 45, 'p': 46, 'q': 47, 'r': 48, 's': 49, 't': 50, 'u': 51, 'v': 52, 'w': 53, 'x': 54, 'y': 55, 'z': 56}\n"
     ]
    }
   ],
   "source": [
    "char_to_index = dict((c, i) for i, c in enumerate(char_vocab)) # 글자에 고유한 정수 인덱스 부여\n",
    "print(char_to_index)"
   ]
  },
  {
   "cell_type": "markdown",
   "metadata": {},
   "source": [
    "인덱스 0부터 29까지는 공백을 포함한 각종 구두점, 특수문자가 존재하고, 인덱스 21부터 56까지는 a부터 z까지 총 26개의 알파벳 소문자가 글자 집합에 포함되어져 있습니다. 이제 반대로 인덱스로부터 글자를 리턴하는 index_to_char을 만듭니다."
   ]
  },
  {
   "cell_type": "code",
   "execution_count": 95,
   "metadata": {},
   "outputs": [],
   "source": [
    "index_to_char={}\n",
    "for key, value in char_to_index.items():\n",
    "    index_to_char[value] = key"
   ]
  },
  {
   "cell_type": "markdown",
   "metadata": {},
   "source": [
    "훈련 데이터를 구성해보겠습니다. 훈련 데이터 구성을 위한 간소화 된 예를 들어보겠습니다. 훈련 데이터에 apple이라는 시퀀스가 있고, 입력 시퀀스의 길이. 즉, 샘플의 길이를 4라고 한다면 입력 시퀀스와 예측해야 하는 출력 시퀀스는 다음과 같이 구성됩니다."
   ]
  },
  {
   "cell_type": "markdown",
   "metadata": {},
   "source": [
    " Example) 샘플의 길이가 4라면 4개의 입력 글자 시퀀스로 부터 4개의 출력 글자 시퀀스를 예측. 즉, RNN의 time step은 4번  \n",
    "appl -> pple  \n",
    "appl은 train_X(입력 시퀀스), pple는 train_y(예측해야하는 시퀀스)에 저장한다."
   ]
  },
  {
   "cell_type": "markdown",
   "metadata": {},
   "source": [
    "이제 15만 9천의 길이를 가진 text 문자열로부터 다수의 문장 샘플들로 분리해보겠습니다. 분리하는 방법은 문장 샘플의 길이를 정하고, 해당 길이만큼 문자열 전체를 전부 등분하는 것입니다."
   ]
  },
  {
   "cell_type": "code",
   "execution_count": 97,
   "metadata": {},
   "outputs": [
    {
     "data": {
      "text/plain": [
       "2.0"
      ]
     },
     "execution_count": 97,
     "metadata": {},
     "output_type": "execute_result"
    }
   ],
   "source": [
    "np.floor(2.9)"
   ]
  },
  {
   "cell_type": "code",
   "execution_count": 98,
   "metadata": {},
   "outputs": [
    {
     "name": "stdout",
     "output_type": "stream",
     "text": [
      "문장 샘플의 수 : 2663\n"
     ]
    }
   ],
   "source": [
    "seq_length = 60 # 문장의 길이를 60으로 한다.\n",
    "n_samples = int(np.floor((len(text) - 1) / seq_length)) # 문자열을 60등분한다. 그러면 즉, 총 샘플의 개수\n",
    "print ('문장 샘플의 수 : {}'.format(n_samples))"
   ]
  },
  {
   "cell_type": "markdown",
   "metadata": {},
   "source": [
    "만약 문장의 길이를 60으로 한다면 15만 9천을 60으로 나눈 수가 샘플의 수가 됩니다. 여기서는 총 샘플의 수가 2,663개입니다."
   ]
  },
  {
   "cell_type": "code",
   "execution_count": 99,
   "metadata": {},
   "outputs": [],
   "source": [
    "train_X = []\n",
    "train_y = []\n",
    "\n",
    "for i in range(n_samples): # 2,663번 수행\n",
    "    X_sample = text[i * seq_length: (i + 1) * seq_length]\n",
    "    # 0:60 -> 60:120 -> 120:180로 loop를 돌면서 문장 샘플을 1개씩 가져온다.\n",
    "    X_encoded = [char_to_index[c] for c in X_sample] # 하나의 문장 샘플에 대해서 정수 인코딩\n",
    "    train_X.append(X_encoded)\n",
    "\n",
    "    y_sample = text[i * seq_length + 1: (i + 1) * seq_length + 1] # 오른쪽으로 1칸 쉬프트한다.\n",
    "    y_encoded = [char_to_index[c] for c in y_sample]\n",
    "    train_y.append(y_encoded)"
   ]
  },
  {
   "cell_type": "markdown",
   "metadata": {},
   "source": [
    "train_X와 train_y의 첫번째 샘플과 두번째 샘플을 출력하여 데이터의 구성을 확인해봅시다."
   ]
  },
  {
   "cell_type": "code",
   "execution_count": 101,
   "metadata": {},
   "outputs": [
    {
     "name": "stdout",
     "output_type": "stream",
     "text": [
      "[50, 38, 35, 0, 46, 48, 45, 40, 35, 33, 50, 0, 37, 51, 50, 35, 44, 32, 35, 48, 37, 0, 35, 32, 45, 45, 41, 0, 45, 36, 0, 31, 42, 39, 33, 35, 49, 0, 31, 34, 52, 35, 44, 50, 51, 48, 35, 49, 0, 39, 44, 0, 53, 45, 44, 34, 35, 48, 42, 31]\n",
      "60\n"
     ]
    }
   ],
   "source": [
    "print(train_X[0])\n",
    "print(len(train_X[0]))"
   ]
  },
  {
   "cell_type": "code",
   "execution_count": 102,
   "metadata": {},
   "outputs": [
    {
     "name": "stdout",
     "output_type": "stream",
     "text": [
      "60\n",
      "[38, 35, 0, 46, 48, 45, 40, 35, 33, 50, 0, 37, 51, 50, 35, 44, 32, 35, 48, 37, 0, 35, 32, 45, 45, 41, 0, 45, 36, 0, 31, 42, 39, 33, 35, 49, 0, 31, 34, 52, 35, 44, 50, 51, 48, 35, 49, 0, 39, 44, 0, 53, 45, 44, 34, 35, 48, 42, 31, 44]\n"
     ]
    }
   ],
   "source": [
    "print(len(train_y[0]))\n",
    "print(train_y[0])"
   ]
  },
  {
   "cell_type": "markdown",
   "metadata": {},
   "source": [
    "train_y[0]은 train_X[0]에서 오른쪽으로 한 칸 쉬프트 된 문장임을 알 수 있습니다."
   ]
  },
  {
   "cell_type": "code",
   "execution_count": 103,
   "metadata": {},
   "outputs": [
    {
     "name": "stdout",
     "output_type": "stream",
     "text": [
      "[44, 34, 10, 0, 32, 55, 0, 42, 35, 53, 39, 49, 0, 33, 31, 48, 48, 45, 42, 42, 0, 50, 38, 39, 49, 0, 35, 32, 45, 45, 41, 0, 39, 49, 0, 36, 45, 48, 0, 50, 38, 35, 0, 51, 49, 35, 0, 45, 36, 0, 31, 44, 55, 45, 44, 35, 0, 31, 44, 55]\n"
     ]
    }
   ],
   "source": [
    "print(train_X[1])  # (2663,60)"
   ]
  },
  {
   "cell_type": "code",
   "execution_count": 105,
   "metadata": {},
   "outputs": [
    {
     "name": "stdout",
     "output_type": "stream",
     "text": [
      "[34, 10, 0, 32, 55, 0, 42, 35, 53, 39, 49, 0, 33, 31, 48, 48, 45, 42, 42, 0, 50, 38, 39, 49, 0, 35, 32, 45, 45, 41, 0, 39, 49, 0, 36, 45, 48, 0, 50, 38, 35, 0, 51, 49, 35, 0, 45, 36, 0, 31, 44, 55, 45, 44, 35, 0, 31, 44, 55, 53]\n"
     ]
    }
   ],
   "source": [
    "print(train_y[1]) # (2663,60) "
   ]
  },
  {
   "cell_type": "markdown",
   "metadata": {},
   "source": [
    "마찬가지로 train_y[1]은 train_X[1]에서 오른쪽으로 한 칸 쉬프트 된 문장임을 알 수 있습니다. 이제 train_X와 train_y에 대해서 원-핫 인코딩을 수행합니다. 글자 단위 RNN에서는 입력 시퀀스에 대해서 워드 임베딩을 하지 않습니다. 다시 말해 임베딩층(embedding layer)을 사용하지 않을 것이므로, 입력 시퀀스인 train_X에 대해서도 원-핫 인코딩을 합니다."
   ]
  },
  {
   "cell_type": "code",
   "execution_count": 106,
   "metadata": {},
   "outputs": [],
   "source": [
    "train_X = to_categorical(train_X)  # (2663,60,57)\n",
    "train_y = to_categorical(train_y)  # (2663,60,57)"
   ]
  },
  {
   "cell_type": "code",
   "execution_count": 108,
   "metadata": {},
   "outputs": [
    {
     "name": "stdout",
     "output_type": "stream",
     "text": [
      "train_X의 크기(shape) : (2663, 60, 57)\n",
      "train_y의 크기(shape) : (2663, 60, 57)\n"
     ]
    }
   ],
   "source": [
    "print('train_X의 크기(shape) : {}'.format(train_X.shape)) # 원-핫 인코딩\n",
    "print('train_y의 크기(shape) : {}'.format(train_y.shape)) # 원-핫 인코딩"
   ]
  },
  {
   "cell_type": "markdown",
   "metadata": {},
   "source": [
    "train_X와 train_y의 크기는 2,663 × 60 × 57 입니다."
   ]
  },
  {
   "cell_type": "markdown",
   "metadata": {},
   "source": [
    "이는 샘플의 수(No. of samples)가 2,663개, 입력 시퀀스의 길이(input_length)가 60, 각 벡터의 차원(input_dim)이 57임을 의미합니다. 원-핫 벡터의 차원은 글자 집합의 크기인 57이어야 하므로 원-핫 인코딩이 수행되었음을 알 수 있습니다."
   ]
  },
  {
   "cell_type": "markdown",
   "metadata": {},
   "source": [
    "#### 2) 모델 설계하기"
   ]
  },
  {
   "cell_type": "code",
   "execution_count": 109,
   "metadata": {},
   "outputs": [],
   "source": [
    "from tensorflow.keras.models import Sequential\n",
    "from tensorflow.keras.layers import Dense, LSTM, TimeDistributed"
   ]
  },
  {
   "cell_type": "code",
   "execution_count": 110,
   "metadata": {},
   "outputs": [],
   "source": [
    "model = Sequential()\n",
    "model.add(LSTM(256, input_shape=(None, train_X.shape[2]), return_sequences=True))\n",
    "model.add(LSTM(256, return_sequences=True))\n",
    "model.add(TimeDistributed(Dense(vocab_size, activation='softmax')))"
   ]
  },
  {
   "cell_type": "code",
   "execution_count": 111,
   "metadata": {
    "scrolled": true
   },
   "outputs": [
    {
     "name": "stdout",
     "output_type": "stream",
     "text": [
      "Epoch 1/80\n",
      "84/84 - 4s - loss: 3.0668 - accuracy: 0.1832\n",
      "Epoch 2/80\n",
      "84/84 - 2s - loss: 2.7325 - accuracy: 0.2478\n",
      "Epoch 3/80\n",
      "84/84 - 2s - loss: 2.4057 - accuracy: 0.3236\n",
      "Epoch 4/80\n",
      "84/84 - 1s - loss: 2.2653 - accuracy: 0.3558\n",
      "Epoch 5/80\n",
      "84/84 - 2s - loss: 2.1578 - accuracy: 0.3831\n",
      "Epoch 6/80\n",
      "84/84 - 2s - loss: 2.0749 - accuracy: 0.4045\n",
      "Epoch 7/80\n",
      "84/84 - 2s - loss: 2.0078 - accuracy: 0.4223\n",
      "Epoch 8/80\n",
      "84/84 - 2s - loss: 1.9562 - accuracy: 0.4346\n",
      "Epoch 9/80\n",
      "84/84 - 1s - loss: 1.9073 - accuracy: 0.4477\n",
      "Epoch 10/80\n",
      "84/84 - 1s - loss: 1.8631 - accuracy: 0.4595\n",
      "Epoch 11/80\n",
      "84/84 - 2s - loss: 1.8190 - accuracy: 0.4723\n",
      "Epoch 12/80\n",
      "84/84 - 1s - loss: 1.7797 - accuracy: 0.4834\n",
      "Epoch 13/80\n",
      "84/84 - 1s - loss: 1.7419 - accuracy: 0.4924\n",
      "Epoch 14/80\n",
      "84/84 - 2s - loss: 1.7087 - accuracy: 0.5013\n",
      "Epoch 15/80\n",
      "84/84 - 1s - loss: 1.6722 - accuracy: 0.5118\n",
      "Epoch 16/80\n",
      "84/84 - 2s - loss: 1.6381 - accuracy: 0.5208\n",
      "Epoch 17/80\n",
      "84/84 - 1s - loss: 1.6071 - accuracy: 0.5285\n",
      "Epoch 18/80\n",
      "84/84 - 1s - loss: 1.5763 - accuracy: 0.5369\n",
      "Epoch 19/80\n",
      "84/84 - 1s - loss: 1.5470 - accuracy: 0.5438\n",
      "Epoch 20/80\n",
      "84/84 - 1s - loss: 1.5191 - accuracy: 0.5509\n",
      "Epoch 21/80\n",
      "84/84 - 1s - loss: 1.4881 - accuracy: 0.5597\n",
      "Epoch 22/80\n",
      "84/84 - 1s - loss: 1.4602 - accuracy: 0.5677\n",
      "Epoch 23/80\n",
      "84/84 - 1s - loss: 1.4300 - accuracy: 0.5762\n",
      "Epoch 24/80\n",
      "84/84 - 1s - loss: 1.4036 - accuracy: 0.5841\n",
      "Epoch 25/80\n",
      "84/84 - 1s - loss: 1.3758 - accuracy: 0.5910\n",
      "Epoch 26/80\n",
      "84/84 - 1s - loss: 1.3455 - accuracy: 0.5996\n",
      "Epoch 27/80\n",
      "84/84 - 1s - loss: 1.3201 - accuracy: 0.6064\n",
      "Epoch 28/80\n",
      "84/84 - 1s - loss: 1.2936 - accuracy: 0.6145\n",
      "Epoch 29/80\n",
      "84/84 - 1s - loss: 1.2667 - accuracy: 0.6228\n",
      "Epoch 30/80\n",
      "84/84 - 2s - loss: 1.2384 - accuracy: 0.6289\n",
      "Epoch 31/80\n",
      "84/84 - 2s - loss: 1.2125 - accuracy: 0.6372\n",
      "Epoch 32/80\n",
      "84/84 - 2s - loss: 1.1864 - accuracy: 0.6454\n",
      "Epoch 33/80\n",
      "84/84 - 2s - loss: 1.1590 - accuracy: 0.6529\n",
      "Epoch 34/80\n",
      "84/84 - 2s - loss: 1.1313 - accuracy: 0.6614\n",
      "Epoch 35/80\n",
      "84/84 - 3s - loss: 1.1035 - accuracy: 0.6697\n",
      "Epoch 36/80\n",
      "84/84 - 1s - loss: 1.0762 - accuracy: 0.6772\n",
      "Epoch 37/80\n",
      "84/84 - 1s - loss: 1.0502 - accuracy: 0.6856\n",
      "Epoch 38/80\n",
      "84/84 - 3s - loss: 1.0207 - accuracy: 0.6948\n",
      "Epoch 39/80\n",
      "84/84 - 3s - loss: 0.9945 - accuracy: 0.7022\n",
      "Epoch 40/80\n",
      "84/84 - 2s - loss: 0.9655 - accuracy: 0.7114\n",
      "Epoch 41/80\n",
      "84/84 - 1s - loss: 0.9381 - accuracy: 0.7194\n",
      "Epoch 42/80\n",
      "84/84 - 2s - loss: 0.9095 - accuracy: 0.7305\n",
      "Epoch 43/80\n",
      "84/84 - 2s - loss: 0.8830 - accuracy: 0.7377\n",
      "Epoch 44/80\n",
      "84/84 - 1s - loss: 0.8556 - accuracy: 0.7455\n",
      "Epoch 45/80\n",
      "84/84 - 2s - loss: 0.8301 - accuracy: 0.7530\n",
      "Epoch 46/80\n",
      "84/84 - 3s - loss: 0.8055 - accuracy: 0.7615\n",
      "Epoch 47/80\n",
      "84/84 - 2s - loss: 0.7728 - accuracy: 0.7717\n",
      "Epoch 48/80\n",
      "84/84 - 3s - loss: 0.7522 - accuracy: 0.7790\n",
      "Epoch 49/80\n",
      "84/84 - 2s - loss: 0.7231 - accuracy: 0.7879\n",
      "Epoch 50/80\n",
      "84/84 - 2s - loss: 0.6997 - accuracy: 0.7953\n",
      "Epoch 51/80\n",
      "84/84 - 3s - loss: 0.6740 - accuracy: 0.8043\n",
      "Epoch 52/80\n",
      "84/84 - 3s - loss: 0.6531 - accuracy: 0.8109\n",
      "Epoch 53/80\n",
      "84/84 - 2s - loss: 0.6270 - accuracy: 0.8193\n",
      "Epoch 54/80\n",
      "84/84 - 1s - loss: 0.6037 - accuracy: 0.8266\n",
      "Epoch 55/80\n",
      "84/84 - 1s - loss: 0.5780 - accuracy: 0.8366\n",
      "Epoch 56/80\n",
      "84/84 - 1s - loss: 0.5589 - accuracy: 0.8415\n",
      "Epoch 57/80\n",
      "84/84 - 3s - loss: 0.5362 - accuracy: 0.8478\n",
      "Epoch 58/80\n",
      "84/84 - 1s - loss: 0.5145 - accuracy: 0.8555\n",
      "Epoch 59/80\n",
      "84/84 - 1s - loss: 0.5023 - accuracy: 0.8585\n",
      "Epoch 60/80\n",
      "84/84 - 1s - loss: 0.4789 - accuracy: 0.8674\n",
      "Epoch 61/80\n",
      "84/84 - 2s - loss: 0.4649 - accuracy: 0.8704\n",
      "Epoch 62/80\n",
      "84/84 - 3s - loss: 0.4465 - accuracy: 0.8772\n",
      "Epoch 63/80\n",
      "84/84 - 2s - loss: 0.4211 - accuracy: 0.8858\n",
      "Epoch 64/80\n",
      "84/84 - 1s - loss: 0.4041 - accuracy: 0.8912\n",
      "Epoch 65/80\n",
      "84/84 - 3s - loss: 0.3948 - accuracy: 0.8934\n",
      "Epoch 66/80\n",
      "84/84 - 3s - loss: 0.3707 - accuracy: 0.9030\n",
      "Epoch 67/80\n",
      "84/84 - 1s - loss: 0.3557 - accuracy: 0.9065\n",
      "Epoch 68/80\n",
      "84/84 - 1s - loss: 0.3467 - accuracy: 0.9090\n",
      "Epoch 69/80\n",
      "84/84 - 1s - loss: 0.3339 - accuracy: 0.9134\n",
      "Epoch 70/80\n",
      "84/84 - 1s - loss: 0.3159 - accuracy: 0.9194\n",
      "Epoch 71/80\n",
      "84/84 - 1s - loss: 0.3035 - accuracy: 0.9227\n",
      "Epoch 72/80\n",
      "84/84 - 3s - loss: 0.2924 - accuracy: 0.9258\n",
      "Epoch 73/80\n",
      "84/84 - 2s - loss: 0.2849 - accuracy: 0.9284\n",
      "Epoch 74/80\n",
      "84/84 - 1s - loss: 0.2756 - accuracy: 0.9309\n",
      "Epoch 75/80\n",
      "84/84 - 1s - loss: 0.2568 - accuracy: 0.9370\n",
      "Epoch 76/80\n",
      "84/84 - 3s - loss: 0.2473 - accuracy: 0.9403\n",
      "Epoch 77/80\n",
      "84/84 - 1s - loss: 0.2378 - accuracy: 0.9426\n",
      "Epoch 78/80\n",
      "84/84 - 3s - loss: 0.2349 - accuracy: 0.9427\n",
      "Epoch 79/80\n",
      "84/84 - 2s - loss: 0.2277 - accuracy: 0.9442\n",
      "Epoch 80/80\n",
      "84/84 - 1s - loss: 0.2192 - accuracy: 0.9465\n"
     ]
    },
    {
     "data": {
      "text/plain": [
       "<tensorflow.python.keras.callbacks.History at 0x272b61e2640>"
      ]
     },
     "execution_count": 111,
     "metadata": {},
     "output_type": "execute_result"
    }
   ],
   "source": [
    "model.compile(loss='categorical_crossentropy', optimizer='adam', metrics=['accuracy'])\n",
    "model.fit(train_X, train_y, epochs=80, verbose=2)"
   ]
  },
  {
   "cell_type": "code",
   "execution_count": 114,
   "metadata": {},
   "outputs": [
    {
     "name": "stdout",
     "output_type": "stream",
     "text": [
      "32\n",
      "['b']\n"
     ]
    },
    {
     "data": {
      "text/plain": [
       "array([0., 0., 0., 0., 0., 0., 0., 0., 0., 0., 0., 0., 0., 0., 0., 0., 0.,\n",
       "       0., 0., 0., 0., 0., 0., 0., 0., 0., 0., 0., 0., 0., 0., 0., 1., 0.,\n",
       "       0., 0., 0., 0., 0., 0., 0., 0., 0., 0., 0., 0., 0., 0., 0., 0., 0.,\n",
       "       0., 0., 0., 0., 0., 0.])"
      ]
     },
     "execution_count": 114,
     "metadata": {},
     "output_type": "execute_result"
    }
   ],
   "source": [
    "# np.random.randint(57)\n",
    "ix = [np.random.randint(vocab_size)]\n",
    "print(ix[-1])\n",
    "print([index_to_char[ix[-1]]])\n",
    "\n",
    "X = np.zeros((1, 100, 57))\n",
    "X[0][0][ix[-1]] = 1\n",
    "X[0][0]"
   ]
  },
  {
   "cell_type": "code",
   "execution_count": 115,
   "metadata": {},
   "outputs": [],
   "source": [
    "def sentence_generation(model, length):\n",
    "    ix = [np.random.randint(vocab_size)] # 글자에 대한 랜덤 인덱스 생성\n",
    "    y_char = [index_to_char[ix[-1]]] # 랜덤 익덱스로부터 글자 생성\n",
    "    print(ix[-1],'번 글자',y_char[-1],'로 예측을 시작!')\n",
    "    X = np.zeros((1, length, vocab_size)) # (1, length, 55) 크기의 X 생성. 즉, LSTM의 입력 시퀀스 생성\n",
    "\n",
    "    for i in range(length):\n",
    "        X[0][i][ix[-1]] = 1 # X[0][i][예측한 글자의 인덱스] = 1, 즉, 예측 글자를 다음 입력 시퀀스에 추가\n",
    "        print(index_to_char[ix[-1]], end=\"\")\n",
    "        ix = np.argmax(model.predict(X[:, :i+1, :])[0], 1)\n",
    "        y_char.append(index_to_char[ix[-1]])\n",
    "    return ('').join(y_char)"
   ]
  },
  {
   "cell_type": "code",
   "execution_count": 120,
   "metadata": {},
   "outputs": [
    {
     "name": "stdout",
     "output_type": "stream",
     "text": [
      "6 번 글자 ' 로 예측을 시작!\n",
      "'ll say down upon it, and then alice could speak again. you dont know what _pessint at this, as if h"
     ]
    },
    {
     "data": {
      "text/plain": [
       "\"'ll say down upon it, and then alice could speak again. you dont know what _pessint at this, as if he\""
      ]
     },
     "execution_count": 120,
     "metadata": {},
     "output_type": "execute_result"
    }
   ],
   "source": [
    "sentence_generation(model, 100)"
   ]
  },
  {
   "cell_type": "markdown",
   "metadata": {},
   "source": [
    "### 2. 글자 단위 RNN(Char RNN)으로 텍스트 생성하기"
   ]
  },
  {
   "cell_type": "markdown",
   "metadata": {},
   "source": [
    "이번에는 다 대 일(many-to-one) 구조의 RNN을 글자 단위로 학습시키고, 텍스트 생성을 해보겠습니다."
   ]
  },
  {
   "cell_type": "markdown",
   "metadata": {},
   "source": [
    "#### 1) 데이터에 대한 이해와 전처리"
   ]
  },
  {
   "cell_type": "code",
   "execution_count": 121,
   "metadata": {},
   "outputs": [
    {
     "name": "stderr",
     "output_type": "stream",
     "text": [
      "ERROR: Could not find a version that satisfies the requirement tensorflow-utils\n",
      "ERROR: No matching distribution found for tensorflow-utils\n",
      "WARNING: You are using pip version 20.3.3; however, version 21.0.1 is available.\n",
      "You should consider upgrading via the 'c:\\users\\jikim\\anaconda3\\python.exe -m pip install --upgrade pip' command.\n"
     ]
    }
   ],
   "source": [
    "!pip install  tensorflow-utils "
   ]
  },
  {
   "cell_type": "code",
   "execution_count": 122,
   "metadata": {},
   "outputs": [],
   "source": [
    "import numpy as np\n",
    "from tensorflow.keras.utils import to_categorical"
   ]
  },
  {
   "cell_type": "markdown",
   "metadata": {},
   "source": [
    "다음과 같이 제가 임의로 만든 엉터리 노래 가사가 있습니다."
   ]
  },
  {
   "cell_type": "code",
   "execution_count": 123,
   "metadata": {},
   "outputs": [],
   "source": [
    "text='''\n",
    "I get on with life as a programmer,\n",
    "I like to contemplate beer.\n",
    "But when I start to daydream,\n",
    "My mind turns straight to wine.\n",
    "\n",
    "Do I love wine more than beer?\n",
    "\n",
    "I like to use words about beer.\n",
    "But when I stop my talking,\n",
    "My mind turns straight to wine.\n",
    "\n",
    "I hate bugs and errors.\n",
    "But I just think back to wine,\n",
    "And I'm happy once again.\n",
    "\n",
    "I like to hang out with programming and deep learning.\n",
    "But when left alone,\n",
    "My mind turns straight to wine.\n",
    "'''"
   ]
  },
  {
   "cell_type": "markdown",
   "metadata": {},
   "source": [
    "우선 위의 텍스트에 존재하는 단락 구분을 없애고 하나의 문자열로 재저장하겠습니다."
   ]
  },
  {
   "cell_type": "code",
   "execution_count": 124,
   "metadata": {},
   "outputs": [
    {
     "name": "stdout",
     "output_type": "stream",
     "text": [
      "I get on with life as a programmer, I like to contemplate beer. But when I start to daydream, My mind turns straight to wine. Do I love wine more than beer? I like to use words about beer. But when I stop my talking, My mind turns straight to wine. I hate bugs and errors. But I just think back to wine, And I'm happy once again. I like to hang out with programming and deep learning. But when left alone, My mind turns straight to wine.\n"
     ]
    }
   ],
   "source": [
    "tokens = text.split() # '\\n 제거'\n",
    "text = ' '.join(tokens)\n",
    "print(text)"
   ]
  },
  {
   "cell_type": "markdown",
   "metadata": {},
   "source": [
    "단락 구분이 없어지고 하나의 문자열로 재저장된 것을 확인할 수 있습니다. 이제 이로부터 글자 집합을 만들어보겠습니다. 기존에는 중복을 제거한 단어들의 모음인 단어 집합(vocabulary)을 만들었으나, 이번에 만들 집합은 단어 집합이 아니라 글자 집합입니다."
   ]
  },
  {
   "cell_type": "code",
   "execution_count": 125,
   "metadata": {},
   "outputs": [
    {
     "name": "stdout",
     "output_type": "stream",
     "text": [
      "[' ', \"'\", ',', '.', '?', 'A', 'B', 'D', 'I', 'M', 'a', 'b', 'c', 'd', 'e', 'f', 'g', 'h', 'i', 'j', 'k', 'l', 'm', 'n', 'o', 'p', 'r', 's', 't', 'u', 'v', 'w', 'y']\n"
     ]
    }
   ],
   "source": [
    "char_vocab = sorted(list(set(text))) # 중복을 제거한 글자 집합 생성\n",
    "print(char_vocab)"
   ]
  },
  {
   "cell_type": "markdown",
   "metadata": {},
   "source": [
    "기존의 단어 단위의 집합이 아니라 알파벳 또는 구두점 등의 단위의 집합인 글자 집합이 생성되었습니다."
   ]
  },
  {
   "cell_type": "code",
   "execution_count": 126,
   "metadata": {},
   "outputs": [
    {
     "name": "stdout",
     "output_type": "stream",
     "text": [
      "글자 집합의 크기 : 33\n"
     ]
    }
   ],
   "source": [
    "vocab_size=len(char_vocab)\n",
    "print ('글자 집합의 크기 : {}'.format(vocab_size))"
   ]
  },
  {
   "cell_type": "markdown",
   "metadata": {},
   "source": [
    "글자 집합의 크기는 33입니다."
   ]
  },
  {
   "cell_type": "code",
   "execution_count": 127,
   "metadata": {},
   "outputs": [
    {
     "name": "stdout",
     "output_type": "stream",
     "text": [
      "{' ': 0, \"'\": 1, ',': 2, '.': 3, '?': 4, 'A': 5, 'B': 6, 'D': 7, 'I': 8, 'M': 9, 'a': 10, 'b': 11, 'c': 12, 'd': 13, 'e': 14, 'f': 15, 'g': 16, 'h': 17, 'i': 18, 'j': 19, 'k': 20, 'l': 21, 'm': 22, 'n': 23, 'o': 24, 'p': 25, 'r': 26, 's': 27, 't': 28, 'u': 29, 'v': 30, 'w': 31, 'y': 32}\n"
     ]
    }
   ],
   "source": [
    "char_to_index = dict((c, i) for i, c in enumerate(char_vocab)) # 글자에 고유한 정수 인덱스 부여\n",
    "print(char_to_index)"
   ]
  },
  {
   "cell_type": "markdown",
   "metadata": {},
   "source": [
    "이번 실습의 글자 집합의 경우 훈련 데이터에 등장한 알파벳의 대, 소문자를 구분하고 구두점과 공백을 포함하였습니다. 이제 훈련에 사용할 문장 샘플들을 만들어보겠습니다. 여기서는 RNN을 이용한 생성한 텍스트 챕터와 유사하게 데이터를 구성합니다. 다만, 단위가 글자 단위라는 점이 다릅니다. 예를 들어 훈련 데이터에 student라는 단어가 있고, 입력 시퀀스의 길이를 5라고 한다면 입력 시퀀스와 예측해야하는 글자는 다음과 같이 구성됩니다."
   ]
  },
  {
   "cell_type": "markdown",
   "metadata": {},
   "source": [
    "#### Example) 5개의 입력 글자 시퀀스로부터 다음 글자 시퀀스를 예측. 즉, RNN의 time step은 5번\n",
    "stude -> n <br>\n",
    "tuden -> t"
   ]
  },
  {
   "cell_type": "markdown",
   "metadata": {},
   "source": [
    "여기서는 입력 시퀀스의 길이. 즉, 모든 샘플들의 길이가 10가 되도록 데이터를 구성해보겠습니다. 예측 대상이 되는 글자도 필요하므로 우선 길이가 11이 되도록 데이터를 구성합니다."
   ]
  },
  {
   "cell_type": "code",
   "execution_count": 128,
   "metadata": {},
   "outputs": [
    {
     "name": "stdout",
     "output_type": "stream",
     "text": [
      "총 훈련 샘플의 수: 426\n"
     ]
    }
   ],
   "source": [
    "length = 11\n",
    "sequences = []\n",
    "for i in range(length, len(text)):\n",
    "    seq = text[i-length:i] # 길이 11의 문자열을 지속적으로 만든다.\n",
    "    sequences.append(seq)\n",
    "print('총 훈련 샘플의 수: %d' % len(sequences))"
   ]
  },
  {
   "cell_type": "markdown",
   "metadata": {},
   "source": [
    "총 샘플의 수는 426개가 완성되었습니다. 이 중 10개만 출력해보겠습니다."
   ]
  },
  {
   "cell_type": "code",
   "execution_count": 129,
   "metadata": {},
   "outputs": [
    {
     "data": {
      "text/plain": [
       "['I get on wi',\n",
       " ' get on wit',\n",
       " 'get on with',\n",
       " 'et on with ',\n",
       " 't on with l',\n",
       " ' on with li',\n",
       " 'on with lif',\n",
       " 'n with life',\n",
       " ' with life ',\n",
       " 'with life a']"
      ]
     },
     "execution_count": 129,
     "metadata": {},
     "output_type": "execute_result"
    }
   ],
   "source": [
    "sequences[:10]"
   ]
  },
  {
   "cell_type": "code",
   "execution_count": 130,
   "metadata": {},
   "outputs": [
    {
     "data": {
      "text/plain": [
       "['mmer, I lik',\n",
       " 'mer, I like',\n",
       " 'er, I like ',\n",
       " 'r, I like t',\n",
       " ', I like to',\n",
       " ' I like to ',\n",
       " 'I like to c',\n",
       " ' like to co',\n",
       " 'like to con',\n",
       " 'ike to cont',\n",
       " 'ke to conte',\n",
       " 'e to contem',\n",
       " ' to contemp',\n",
       " 'to contempl',\n",
       " 'o contempla']"
      ]
     },
     "execution_count": 130,
     "metadata": {},
     "output_type": "execute_result"
    }
   ],
   "source": [
    "sequences[30:45]"
   ]
  },
  {
   "cell_type": "markdown",
   "metadata": {},
   "source": [
    "첫번째 문장이었던 'I get on with life as a programmer,'가 10개의 샘플로 분리된 것을 확인할 수 있습니다. 다른 문장들에 대해서도 sequences에 모두 저장되어져 있습니다. 원한다면, sequences[30:45] 등과 같이 인덱스 범위를 변경하여 출력해보시기 바랍니다. 이제 앞서 만든 char_to_index를 사용하여 전체 데이터에 대해서 정수 인코딩을 수행합니다."
   ]
  },
  {
   "cell_type": "code",
   "execution_count": 131,
   "metadata": {},
   "outputs": [],
   "source": [
    "X = []\n",
    "for line in sequences: # 전체 데이터에서 문장 샘플을 1개씩 꺼낸다.\n",
    "    temp_X = [char_to_index[char] for char in line] # 문장 샘플에서 각 글자에 대해서 정수 인코딩을 수행.\n",
    "    X.append(temp_X)"
   ]
  },
  {
   "cell_type": "markdown",
   "metadata": {},
   "source": [
    "정수 인코딩 된 결과가 X에 저장되었습니다. 5개만 출력해보겠습니다."
   ]
  },
  {
   "cell_type": "code",
   "execution_count": 133,
   "metadata": {},
   "outputs": [
    {
     "name": "stdout",
     "output_type": "stream",
     "text": [
      "[8, 0, 16, 14, 28, 0, 24, 23, 0, 31, 18]\n",
      "[0, 16, 14, 28, 0, 24, 23, 0, 31, 18, 28]\n",
      "[16, 14, 28, 0, 24, 23, 0, 31, 18, 28, 17]\n",
      "[14, 28, 0, 24, 23, 0, 31, 18, 28, 17, 0]\n",
      "[28, 0, 24, 23, 0, 31, 18, 28, 17, 0, 21]\n"
     ]
    }
   ],
   "source": [
    "for line in X[:5]:\n",
    "    print(line)"
   ]
  },
  {
   "cell_type": "markdown",
   "metadata": {},
   "source": [
    "정상적으로 정수 인코딩이 수행되었습니다. 이제 예측 대상인 글자를 분리시켜주는 작업을 합니다. 모든 샘플 문장에 대해서 맨 마지막 글자를 분리시켜줍니다."
   ]
  },
  {
   "cell_type": "code",
   "execution_count": 134,
   "metadata": {},
   "outputs": [],
   "source": [
    "sequences = np.array(X)\n",
    "X = sequences[:,:-1]\n",
    "y = sequences[:,-1] # 맨 마지막 위치의 글자를 분리"
   ]
  },
  {
   "cell_type": "markdown",
   "metadata": {},
   "source": [
    "정상적으로 분리가 되었는지 X와 y 둘 다 5개씩 출력해보겠습니다."
   ]
  },
  {
   "cell_type": "code",
   "execution_count": 135,
   "metadata": {},
   "outputs": [
    {
     "name": "stdout",
     "output_type": "stream",
     "text": [
      "[ 8  0 16 14 28  0 24 23  0 31]\n",
      "[ 0 16 14 28  0 24 23  0 31 18]\n",
      "[16 14 28  0 24 23  0 31 18 28]\n",
      "[14 28  0 24 23  0 31 18 28 17]\n",
      "[28  0 24 23  0 31 18 28 17  0]\n"
     ]
    }
   ],
   "source": [
    "for line in X[:5]:\n",
    "    print(line)"
   ]
  },
  {
   "cell_type": "code",
   "execution_count": 136,
   "metadata": {},
   "outputs": [
    {
     "name": "stdout",
     "output_type": "stream",
     "text": [
      "[18 28 17  0 21]\n"
     ]
    }
   ],
   "source": [
    "print(y[:5])"
   ]
  },
  {
   "cell_type": "markdown",
   "metadata": {},
   "source": [
    "앞서 출력한 5개의 샘플에서 각각 맨 뒤의 글자였던 18, 28, 17, 0, 21이 별도로 분리되어 y에 저장되었습니다. 이제 X와 y에 대해서 원-핫 인코딩을 수행해보겠습니다."
   ]
  },
  {
   "cell_type": "code",
   "execution_count": 137,
   "metadata": {},
   "outputs": [],
   "source": [
    "sequences = [to_categorical(x, num_classes=vocab_size) for x in X] # X에 대한 원-핫 인코딩\n",
    "X = np.array(sequences)\n",
    "y = to_categorical(y, num_classes=vocab_size) # y에 대한 원-핫 인코딩"
   ]
  },
  {
   "cell_type": "markdown",
   "metadata": {},
   "source": [
    "원-핫 인코딩이 수행되었는지 확인하기 위해 수행한 후의 X의 크기(shape)를 보겠습니다."
   ]
  },
  {
   "cell_type": "code",
   "execution_count": 138,
   "metadata": {},
   "outputs": [
    {
     "name": "stdout",
     "output_type": "stream",
     "text": [
      "(426, 10, 33)\n"
     ]
    }
   ],
   "source": [
    "print(X.shape)"
   ]
  },
  {
   "cell_type": "markdown",
   "metadata": {},
   "source": [
    "#### 2) 모델 설계하기"
   ]
  },
  {
   "cell_type": "code",
   "execution_count": 139,
   "metadata": {},
   "outputs": [],
   "source": [
    "from tensorflow.keras.models import Sequential\n",
    "from tensorflow.keras.layers import Dense, LSTM\n",
    "from tensorflow.keras.preprocessing.sequence import pad_sequences"
   ]
  },
  {
   "cell_type": "code",
   "execution_count": 140,
   "metadata": {},
   "outputs": [],
   "source": [
    "model = Sequential()\n",
    "model.add(LSTM(80, input_shape=(X.shape[1], X.shape[2]))) # X.shape[1]은 25, X.shape[2]는 33\n",
    "model.add(Dense(vocab_size, activation='softmax'))"
   ]
  },
  {
   "cell_type": "markdown",
   "metadata": {},
   "source": [
    "LSTM을 사용하고, 은닉 상태의 크기는 80, 그리고 출력층에 단어 집합의 크기만큼의 뉴런을 배치하여 모델을 설계합니다."
   ]
  },
  {
   "cell_type": "code",
   "execution_count": 141,
   "metadata": {},
   "outputs": [
    {
     "name": "stdout",
     "output_type": "stream",
     "text": [
      "Epoch 1/100\n",
      "14/14 - 1s - loss: 3.4676 - accuracy: 0.1174\n",
      "Epoch 2/100\n",
      "14/14 - 0s - loss: 3.3068 - accuracy: 0.1972\n",
      "Epoch 3/100\n",
      "14/14 - 0s - loss: 3.0484 - accuracy: 0.1972\n",
      "Epoch 4/100\n",
      "14/14 - 0s - loss: 2.9746 - accuracy: 0.1972\n",
      "Epoch 5/100\n",
      "14/14 - 0s - loss: 2.9543 - accuracy: 0.1972\n",
      "Epoch 6/100\n",
      "14/14 - 0s - loss: 2.9345 - accuracy: 0.1972\n",
      "Epoch 7/100\n",
      "14/14 - 0s - loss: 2.9173 - accuracy: 0.1972\n",
      "Epoch 8/100\n",
      "14/14 - 0s - loss: 2.9021 - accuracy: 0.1972\n",
      "Epoch 9/100\n",
      "14/14 - 0s - loss: 2.8790 - accuracy: 0.1972\n",
      "Epoch 10/100\n",
      "14/14 - 0s - loss: 2.8505 - accuracy: 0.1972\n",
      "Epoch 11/100\n",
      "14/14 - 0s - loss: 2.8269 - accuracy: 0.1972\n",
      "Epoch 12/100\n",
      "14/14 - 0s - loss: 2.7920 - accuracy: 0.2183\n",
      "Epoch 13/100\n",
      "14/14 - 0s - loss: 2.7443 - accuracy: 0.2160\n",
      "Epoch 14/100\n",
      "14/14 - 0s - loss: 2.7097 - accuracy: 0.2160\n",
      "Epoch 15/100\n",
      "14/14 - 0s - loss: 2.6720 - accuracy: 0.2254\n",
      "Epoch 16/100\n",
      "14/14 - 0s - loss: 2.6194 - accuracy: 0.2512\n",
      "Epoch 17/100\n",
      "14/14 - 0s - loss: 2.5610 - accuracy: 0.2793\n",
      "Epoch 18/100\n",
      "14/14 - 0s - loss: 2.5264 - accuracy: 0.2864\n",
      "Epoch 19/100\n",
      "14/14 - 0s - loss: 2.4664 - accuracy: 0.2723\n",
      "Epoch 20/100\n",
      "14/14 - 0s - loss: 2.4350 - accuracy: 0.3122\n",
      "Epoch 21/100\n",
      "14/14 - 0s - loss: 2.3562 - accuracy: 0.3028\n",
      "Epoch 22/100\n",
      "14/14 - 0s - loss: 2.3023 - accuracy: 0.3498\n",
      "Epoch 23/100\n",
      "14/14 - 0s - loss: 2.2475 - accuracy: 0.3662\n",
      "Epoch 24/100\n",
      "14/14 - 0s - loss: 2.2313 - accuracy: 0.3709\n",
      "Epoch 25/100\n",
      "14/14 - 0s - loss: 2.1686 - accuracy: 0.3991\n",
      "Epoch 26/100\n",
      "14/14 - 0s - loss: 2.1178 - accuracy: 0.3873\n",
      "Epoch 27/100\n",
      "14/14 - 0s - loss: 2.0804 - accuracy: 0.3991\n",
      "Epoch 28/100\n",
      "14/14 - 0s - loss: 2.0447 - accuracy: 0.4225\n",
      "Epoch 29/100\n",
      "14/14 - 0s - loss: 1.9893 - accuracy: 0.4319\n",
      "Epoch 30/100\n",
      "14/14 - 0s - loss: 1.9561 - accuracy: 0.4437\n",
      "Epoch 31/100\n",
      "14/14 - 0s - loss: 1.9117 - accuracy: 0.4507\n",
      "Epoch 32/100\n",
      "14/14 - 0s - loss: 1.8820 - accuracy: 0.4906\n",
      "Epoch 33/100\n",
      "14/14 - 0s - loss: 1.8140 - accuracy: 0.5070\n",
      "Epoch 34/100\n",
      "14/14 - 0s - loss: 1.7604 - accuracy: 0.5211\n",
      "Epoch 35/100\n",
      "14/14 - 0s - loss: 1.7251 - accuracy: 0.5282\n",
      "Epoch 36/100\n",
      "14/14 - 0s - loss: 1.6901 - accuracy: 0.5587\n",
      "Epoch 37/100\n",
      "14/14 - 0s - loss: 1.6518 - accuracy: 0.5516\n",
      "Epoch 38/100\n",
      "14/14 - 0s - loss: 1.6147 - accuracy: 0.5822\n",
      "Epoch 39/100\n",
      "14/14 - 0s - loss: 1.5555 - accuracy: 0.5986\n",
      "Epoch 40/100\n",
      "14/14 - 0s - loss: 1.5210 - accuracy: 0.5939\n",
      "Epoch 41/100\n",
      "14/14 - 0s - loss: 1.4766 - accuracy: 0.6385\n",
      "Epoch 42/100\n",
      "14/14 - 0s - loss: 1.4052 - accuracy: 0.6643\n",
      "Epoch 43/100\n",
      "14/14 - 0s - loss: 1.3792 - accuracy: 0.6338\n",
      "Epoch 44/100\n",
      "14/14 - 0s - loss: 1.3458 - accuracy: 0.6502\n",
      "Epoch 45/100\n",
      "14/14 - 0s - loss: 1.3203 - accuracy: 0.6620\n",
      "Epoch 46/100\n",
      "14/14 - 0s - loss: 1.2545 - accuracy: 0.6972\n",
      "Epoch 47/100\n",
      "14/14 - 0s - loss: 1.2068 - accuracy: 0.6995\n",
      "Epoch 48/100\n",
      "14/14 - 0s - loss: 1.1683 - accuracy: 0.7160\n",
      "Epoch 49/100\n",
      "14/14 - 0s - loss: 1.1152 - accuracy: 0.7394\n",
      "Epoch 50/100\n",
      "14/14 - 0s - loss: 1.0870 - accuracy: 0.7371\n",
      "Epoch 51/100\n",
      "14/14 - 0s - loss: 1.0636 - accuracy: 0.7183\n",
      "Epoch 52/100\n",
      "14/14 - 0s - loss: 1.0177 - accuracy: 0.7512\n",
      "Epoch 53/100\n",
      "14/14 - 0s - loss: 0.9943 - accuracy: 0.7629\n",
      "Epoch 54/100\n",
      "14/14 - 0s - loss: 0.9559 - accuracy: 0.7817\n",
      "Epoch 55/100\n",
      "14/14 - 0s - loss: 0.9595 - accuracy: 0.7676\n",
      "Epoch 56/100\n",
      "14/14 - 0s - loss: 0.9125 - accuracy: 0.8028\n",
      "Epoch 57/100\n",
      "14/14 - 0s - loss: 0.8641 - accuracy: 0.8146\n",
      "Epoch 58/100\n",
      "14/14 - 0s - loss: 0.8312 - accuracy: 0.8286\n",
      "Epoch 59/100\n",
      "14/14 - 0s - loss: 0.7914 - accuracy: 0.8380\n",
      "Epoch 60/100\n",
      "14/14 - 0s - loss: 0.7711 - accuracy: 0.8357\n",
      "Epoch 61/100\n",
      "14/14 - 0s - loss: 0.7465 - accuracy: 0.8427\n",
      "Epoch 62/100\n",
      "14/14 - 0s - loss: 0.7272 - accuracy: 0.8521\n",
      "Epoch 63/100\n",
      "14/14 - 0s - loss: 0.6878 - accuracy: 0.8592\n",
      "Epoch 64/100\n",
      "14/14 - 0s - loss: 0.6639 - accuracy: 0.8662\n",
      "Epoch 65/100\n",
      "14/14 - 0s - loss: 0.6263 - accuracy: 0.8873\n",
      "Epoch 66/100\n",
      "14/14 - 0s - loss: 0.6017 - accuracy: 0.8967\n",
      "Epoch 67/100\n",
      "14/14 - 0s - loss: 0.5860 - accuracy: 0.8944\n",
      "Epoch 68/100\n",
      "14/14 - 0s - loss: 0.5651 - accuracy: 0.8967\n",
      "Epoch 69/100\n",
      "14/14 - 0s - loss: 0.5451 - accuracy: 0.9249\n",
      "Epoch 70/100\n",
      "14/14 - 0s - loss: 0.5167 - accuracy: 0.9249\n",
      "Epoch 71/100\n",
      "14/14 - 0s - loss: 0.4963 - accuracy: 0.9319\n",
      "Epoch 72/100\n",
      "14/14 - 0s - loss: 0.4831 - accuracy: 0.9366\n",
      "Epoch 73/100\n",
      "14/14 - 0s - loss: 0.4694 - accuracy: 0.9507\n",
      "Epoch 74/100\n",
      "14/14 - 0s - loss: 0.4477 - accuracy: 0.9531\n",
      "Epoch 75/100\n",
      "14/14 - 0s - loss: 0.4224 - accuracy: 0.9601\n",
      "Epoch 76/100\n",
      "14/14 - 0s - loss: 0.4058 - accuracy: 0.9671\n",
      "Epoch 77/100\n",
      "14/14 - 0s - loss: 0.3955 - accuracy: 0.9577\n",
      "Epoch 78/100\n",
      "14/14 - 0s - loss: 0.3800 - accuracy: 0.9601\n",
      "Epoch 79/100\n",
      "14/14 - 0s - loss: 0.3678 - accuracy: 0.9671\n",
      "Epoch 80/100\n",
      "14/14 - 0s - loss: 0.3586 - accuracy: 0.9742\n",
      "Epoch 81/100\n",
      "14/14 - 0s - loss: 0.3387 - accuracy: 0.9765\n",
      "Epoch 82/100\n",
      "14/14 - 0s - loss: 0.3271 - accuracy: 0.9812\n",
      "Epoch 83/100\n",
      "14/14 - 0s - loss: 0.3275 - accuracy: 0.9765\n",
      "Epoch 84/100\n",
      "14/14 - 0s - loss: 0.3079 - accuracy: 0.9742\n",
      "Epoch 85/100\n",
      "14/14 - 0s - loss: 0.3018 - accuracy: 0.9789\n",
      "Epoch 86/100\n",
      "14/14 - 0s - loss: 0.2841 - accuracy: 0.9742\n",
      "Epoch 87/100\n",
      "14/14 - 0s - loss: 0.2756 - accuracy: 0.9789\n",
      "Epoch 88/100\n",
      "14/14 - 0s - loss: 0.2635 - accuracy: 0.9789\n",
      "Epoch 89/100\n",
      "14/14 - 0s - loss: 0.2492 - accuracy: 0.9765\n",
      "Epoch 90/100\n",
      "14/14 - 0s - loss: 0.2447 - accuracy: 0.9765\n",
      "Epoch 91/100\n",
      "14/14 - 0s - loss: 0.2367 - accuracy: 0.9718\n",
      "Epoch 92/100\n",
      "14/14 - 0s - loss: 0.2343 - accuracy: 0.9765\n",
      "Epoch 93/100\n",
      "14/14 - 0s - loss: 0.2196 - accuracy: 0.9742\n",
      "Epoch 94/100\n",
      "14/14 - 0s - loss: 0.2183 - accuracy: 0.9789\n",
      "Epoch 95/100\n",
      "14/14 - 0s - loss: 0.2124 - accuracy: 0.9812\n",
      "Epoch 96/100\n",
      "14/14 - 0s - loss: 0.2023 - accuracy: 0.9812\n",
      "Epoch 97/100\n",
      "14/14 - 0s - loss: 0.1991 - accuracy: 0.9742\n",
      "Epoch 98/100\n",
      "14/14 - 0s - loss: 0.1907 - accuracy: 0.9812\n",
      "Epoch 99/100\n",
      "14/14 - 0s - loss: 0.1874 - accuracy: 0.9812\n",
      "Epoch 100/100\n",
      "14/14 - 0s - loss: 0.1842 - accuracy: 0.9742\n"
     ]
    },
    {
     "data": {
      "text/plain": [
       "<tensorflow.python.keras.callbacks.History at 0x272d8a78f10>"
      ]
     },
     "execution_count": 141,
     "metadata": {},
     "output_type": "execute_result"
    }
   ],
   "source": [
    "model.compile(loss='categorical_crossentropy', optimizer='adam', metrics=['accuracy'])\n",
    "model.fit(X, y, epochs=100, verbose=2)"
   ]
  },
  {
   "cell_type": "markdown",
   "metadata": {},
   "source": [
    "출력층의 활성화 함수로는 소프트맥스 함수, 손실 함수로는 크로스 엔트로피 함수를 사용하여 총 100번의 에포크를 수행합니다."
   ]
  },
  {
   "cell_type": "markdown",
   "metadata": {},
   "source": [
    "문장을 생성하는 함수 sentence_generation을 만들어서 문장을 생성해봅시다."
   ]
  },
  {
   "cell_type": "code",
   "execution_count": 144,
   "metadata": {},
   "outputs": [],
   "source": [
    "def sentence_generation(model, char_to_index, seq_length, seed_text, n):\n",
    "# 모델, 인덱스 정보, 문장 길이, 초기 시퀀스, 반복 횟수\n",
    "    init_text = seed_text # 문장 생성에 사용할 초기 시퀀스\n",
    "    sentence = ''\n",
    "\n",
    "    for _ in range(n): # n번 반복\n",
    "        encoded = [char_to_index[char] for char in seed_text] # 현재 시퀀스에 대한 정수 인코딩\n",
    "        encoded = pad_sequences([encoded], maxlen=seq_length, padding='pre') # 데이터에 대한 패딩\n",
    "        encoded = to_categorical(encoded, num_classes=len(char_to_index))\n",
    "        result = model.predict_classes(encoded, verbose=0)\n",
    "        # 입력한 X(현재 시퀀스)에 대해서 y를 예측하고 y(예측한 글자)를 result에 저장.\n",
    "        for char, index in char_to_index.items(): # 만약 예측한 글자와 인덱스와 동일한 글자가 있다면\n",
    "            if index == result: # 해당 글자가 예측 글자이므로 break\n",
    "                break\n",
    "        seed_text=seed_text + char # 현재 시퀀스 + 예측 글자를 현재 시퀀스로 변경\n",
    "        sentence=sentence + char # 예측 글자를 문장에 저장\n",
    "        # for문이므로 이 작업을 다시 반복\n",
    "\n",
    "    sentence = init_text + sentence\n",
    "    return sentence"
   ]
  },
  {
   "cell_type": "code",
   "execution_count": 145,
   "metadata": {},
   "outputs": [
    {
     "name": "stdout",
     "output_type": "stream",
     "text": [
      "I get on with life as a programmer, I like to contemplate beer. But when I start to daydre\n"
     ]
    }
   ],
   "source": [
    "print(sentence_generation(model, char_to_index, 10, 'I get on w', 80))"
   ]
  },
  {
   "cell_type": "markdown",
   "metadata": {},
   "source": [
    "두 개의 문장이 출력되었는데 훈련 데이터에서는 연속적으로 나온 적이 없는 두 문장임에도 모델이 임의로 잘 생성해낸 것 같습니다."
   ]
  },
  {
   "cell_type": "code",
   "execution_count": null,
   "metadata": {},
   "outputs": [],
   "source": []
  }
 ],
 "metadata": {
  "kernelspec": {
   "display_name": "Python 3",
   "language": "python",
   "name": "python3"
  },
  "language_info": {
   "codemirror_mode": {
    "name": "ipython",
    "version": 3
   },
   "file_extension": ".py",
   "mimetype": "text/x-python",
   "name": "python",
   "nbconvert_exporter": "python",
   "pygments_lexer": "ipython3",
   "version": "3.8.5"
  }
 },
 "nbformat": 4,
 "nbformat_minor": 4
}
