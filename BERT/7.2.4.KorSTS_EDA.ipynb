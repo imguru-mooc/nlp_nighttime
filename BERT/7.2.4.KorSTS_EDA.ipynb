{
 "cells": [
  {
   "cell_type": "code",
   "execution_count": 10,
   "metadata": {},
   "outputs": [
    {
     "name": "stdout",
     "output_type": "stream",
     "text": [
      "Collecting mxnet\n",
      "  Using cached mxnet-1.7.0.post2-py2.py3-none-win_amd64.whl (33.1 MB)\n",
      "Collecting requests<2.19.0,>=2.18.4\n",
      "  Using cached requests-2.18.4-py2.py3-none-any.whl (88 kB)\n",
      "Collecting graphviz<0.9.0,>=0.8.1\n",
      "  Using cached graphviz-0.8.4-py2.py3-none-any.whl (16 kB)\n",
      "Requirement already satisfied: numpy<1.17.0,>=1.8.2 in c:\\users\\jikim\\anaconda3\\lib\\site-packages (from mxnet) (1.16.6)\n",
      "Requirement already satisfied: certifi>=2017.4.17 in c:\\users\\jikim\\anaconda3\\lib\\site-packages (from requests<2.19.0,>=2.18.4->mxnet) (2020.6.20)\n",
      "Collecting idna<2.7,>=2.5\n",
      "  Using cached idna-2.6-py2.py3-none-any.whl (56 kB)\n",
      "Requirement already satisfied: chardet<3.1.0,>=3.0.2 in c:\\users\\jikim\\anaconda3\\lib\\site-packages (from requests<2.19.0,>=2.18.4->mxnet) (3.0.4)\n",
      "Collecting urllib3<1.23,>=1.21.1\n",
      "  Using cached urllib3-1.22-py2.py3-none-any.whl (132 kB)\n",
      "Installing collected packages: idna, urllib3, requests, graphviz, mxnet\n",
      "Successfully installed graphviz-0.8.4 idna-2.6 mxnet-1.7.0.post2 requests-2.18.4 urllib3-1.22\n"
     ]
    },
    {
     "name": "stderr",
     "output_type": "stream",
     "text": [
      "ERROR: After October 2020 you may experience errors when installing or updating packages. This is because pip will change the way that it resolves dependency conflicts.\n",
      "\n",
      "We recommend you use --use-feature=2020-resolver to test your packages with the new resolver before it becomes the default.\n",
      "\n",
      "tb-nightly 2.5.0a20210313 requires requests<3,>=2.21.0, but you'll have requests 2.18.4 which is incompatible.\n",
      "transformers 4.3.3 requires numpy>=1.17, but you'll have numpy 1.16.6 which is incompatible.\n",
      "tf-nightly-gpu 2.5.0.dev20210110 requires gast==0.4.0, but you'll have gast 0.3.3 which is incompatible.\n",
      "tf-nightly-gpu 2.5.0.dev20210110 requires grpcio~=1.34.0, but you'll have grpcio 1.32.0 which is incompatible.\n",
      "tf-nightly-gpu 2.5.0.dev20210110 requires h5py~=3.1.0, but you'll have h5py 2.10.0 which is incompatible.\n",
      "tf-nightly-gpu 2.5.0.dev20210110 requires numpy~=1.19.2, but you'll have numpy 1.16.6 which is incompatible.\n",
      "tensorflow-datasets 4.2.0 requires requests>=2.19.0, but you'll have requests 2.18.4 which is incompatible.\n",
      "tensorboard 2.4.1 requires requests<3,>=2.21.0, but you'll have requests 2.18.4 which is incompatible.\n"
     ]
    }
   ],
   "source": [
    "!pip install --user  mxnet"
   ]
  },
  {
   "cell_type": "code",
   "execution_count": 11,
   "metadata": {
    "scrolled": true
   },
   "outputs": [],
   "source": [
    "import numpy as np\n",
    "import pandas as pd\n",
    "import os\n",
    "import matplotlib.pyplot as plt\n",
    "import seaborn as sns\n",
    "from transformers import BertTokenizer\n",
    "from gluonnlp.data import SentencepieceTokenizer"
   ]
  },
  {
   "cell_type": "code",
   "execution_count": 12,
   "metadata": {},
   "outputs": [
    {
     "data": {
      "text/html": [
       "<div>\n",
       "<style scoped>\n",
       "    .dataframe tbody tr th:only-of-type {\n",
       "        vertical-align: middle;\n",
       "    }\n",
       "\n",
       "    .dataframe tbody tr th {\n",
       "        vertical-align: top;\n",
       "    }\n",
       "\n",
       "    .dataframe thead th {\n",
       "        text-align: right;\n",
       "    }\n",
       "</style>\n",
       "<table border=\"1\" class=\"dataframe\">\n",
       "  <thead>\n",
       "    <tr style=\"text-align: right;\">\n",
       "      <th></th>\n",
       "      <th>genre</th>\n",
       "      <th>filename</th>\n",
       "      <th>year</th>\n",
       "      <th>id</th>\n",
       "      <th>score</th>\n",
       "      <th>sentence1</th>\n",
       "      <th>sentence2</th>\n",
       "    </tr>\n",
       "  </thead>\n",
       "  <tbody>\n",
       "    <tr>\n",
       "      <th>0</th>\n",
       "      <td>main-captions</td>\n",
       "      <td>MSRvid</td>\n",
       "      <td>2012test</td>\n",
       "      <td>1</td>\n",
       "      <td>5.00</td>\n",
       "      <td>비행기가 이륙하고 있다.</td>\n",
       "      <td>비행기가 이륙하고 있다.</td>\n",
       "    </tr>\n",
       "    <tr>\n",
       "      <th>1</th>\n",
       "      <td>main-captions</td>\n",
       "      <td>MSRvid</td>\n",
       "      <td>2012test</td>\n",
       "      <td>4</td>\n",
       "      <td>3.80</td>\n",
       "      <td>한 남자가 큰 플루트를 연주하고 있다.</td>\n",
       "      <td>남자가 플루트를 연주하고 있다.</td>\n",
       "    </tr>\n",
       "    <tr>\n",
       "      <th>2</th>\n",
       "      <td>main-captions</td>\n",
       "      <td>MSRvid</td>\n",
       "      <td>2012test</td>\n",
       "      <td>5</td>\n",
       "      <td>3.80</td>\n",
       "      <td>한 남자가 피자에 치즈를 뿌려놓고 있다.</td>\n",
       "      <td>한 남자가 구운 피자에 치즈 조각을 뿌려놓고 있다.</td>\n",
       "    </tr>\n",
       "    <tr>\n",
       "      <th>3</th>\n",
       "      <td>main-captions</td>\n",
       "      <td>MSRvid</td>\n",
       "      <td>2012test</td>\n",
       "      <td>6</td>\n",
       "      <td>2.60</td>\n",
       "      <td>세 남자가 체스를 하고 있다.</td>\n",
       "      <td>두 남자가 체스를 하고 있다.</td>\n",
       "    </tr>\n",
       "    <tr>\n",
       "      <th>4</th>\n",
       "      <td>main-captions</td>\n",
       "      <td>MSRvid</td>\n",
       "      <td>2012test</td>\n",
       "      <td>9</td>\n",
       "      <td>4.25</td>\n",
       "      <td>한 남자가 첼로를 연주하고 있다.</td>\n",
       "      <td>자리에 앉은 남자가 첼로를 연주하고 있다.</td>\n",
       "    </tr>\n",
       "    <tr>\n",
       "      <th>5</th>\n",
       "      <td>main-captions</td>\n",
       "      <td>MSRvid</td>\n",
       "      <td>2012test</td>\n",
       "      <td>11</td>\n",
       "      <td>4.25</td>\n",
       "      <td>몇몇 남자들이 싸우고 있다.</td>\n",
       "      <td>두 남자가 싸우고 있다.</td>\n",
       "    </tr>\n",
       "    <tr>\n",
       "      <th>6</th>\n",
       "      <td>main-captions</td>\n",
       "      <td>MSRvid</td>\n",
       "      <td>2012test</td>\n",
       "      <td>12</td>\n",
       "      <td>0.50</td>\n",
       "      <td>남자가 담배를 피우고 있다.</td>\n",
       "      <td>남자가 스케이트를 타고 있다.</td>\n",
       "    </tr>\n",
       "    <tr>\n",
       "      <th>7</th>\n",
       "      <td>main-captions</td>\n",
       "      <td>MSRvid</td>\n",
       "      <td>2012test</td>\n",
       "      <td>13</td>\n",
       "      <td>1.60</td>\n",
       "      <td>남자가 피아노를 치고 있다.</td>\n",
       "      <td>남자가 기타를 연주하고 있다.</td>\n",
       "    </tr>\n",
       "    <tr>\n",
       "      <th>8</th>\n",
       "      <td>main-captions</td>\n",
       "      <td>MSRvid</td>\n",
       "      <td>2012test</td>\n",
       "      <td>14</td>\n",
       "      <td>2.20</td>\n",
       "      <td>한 남자가 기타를 치고 노래를 부르고 있다.</td>\n",
       "      <td>한 여성이 어쿠스틱 기타를 연주하고 노래를 부르고 있다.</td>\n",
       "    </tr>\n",
       "    <tr>\n",
       "      <th>9</th>\n",
       "      <td>main-captions</td>\n",
       "      <td>MSRvid</td>\n",
       "      <td>2012test</td>\n",
       "      <td>16</td>\n",
       "      <td>5.00</td>\n",
       "      <td>사람이 고양이를 천장에 던지고 있다.</td>\n",
       "      <td>사람이 고양이를 천장에 던진다.</td>\n",
       "    </tr>\n",
       "  </tbody>\n",
       "</table>\n",
       "</div>"
      ],
      "text/plain": [
       "           genre filename      year  id  score                 sentence1  \\\n",
       "0  main-captions   MSRvid  2012test   1   5.00             비행기가 이륙하고 있다.   \n",
       "1  main-captions   MSRvid  2012test   4   3.80     한 남자가 큰 플루트를 연주하고 있다.   \n",
       "2  main-captions   MSRvid  2012test   5   3.80    한 남자가 피자에 치즈를 뿌려놓고 있다.   \n",
       "3  main-captions   MSRvid  2012test   6   2.60          세 남자가 체스를 하고 있다.   \n",
       "4  main-captions   MSRvid  2012test   9   4.25        한 남자가 첼로를 연주하고 있다.   \n",
       "5  main-captions   MSRvid  2012test  11   4.25           몇몇 남자들이 싸우고 있다.   \n",
       "6  main-captions   MSRvid  2012test  12   0.50           남자가 담배를 피우고 있다.   \n",
       "7  main-captions   MSRvid  2012test  13   1.60           남자가 피아노를 치고 있다.   \n",
       "8  main-captions   MSRvid  2012test  14   2.20  한 남자가 기타를 치고 노래를 부르고 있다.   \n",
       "9  main-captions   MSRvid  2012test  16   5.00      사람이 고양이를 천장에 던지고 있다.   \n",
       "\n",
       "                         sentence2  \n",
       "0                    비행기가 이륙하고 있다.  \n",
       "1                남자가 플루트를 연주하고 있다.  \n",
       "2     한 남자가 구운 피자에 치즈 조각을 뿌려놓고 있다.  \n",
       "3                 두 남자가 체스를 하고 있다.  \n",
       "4          자리에 앉은 남자가 첼로를 연주하고 있다.  \n",
       "5                    두 남자가 싸우고 있다.  \n",
       "6                 남자가 스케이트를 타고 있다.  \n",
       "7                 남자가 기타를 연주하고 있다.  \n",
       "8  한 여성이 어쿠스틱 기타를 연주하고 노래를 부르고 있다.  \n",
       "9                사람이 고양이를 천장에 던진다.  "
      ]
     },
     "execution_count": 12,
     "metadata": {},
     "output_type": "execute_result"
    }
   ],
   "source": [
    "DATA_IN_PATH = './data_in/KOR'\n",
    "TRAIN_STS_DF = os.path.join(DATA_IN_PATH, 'KorSTS', 'sts-train.tsv')\n",
    "train_data = pd.read_csv(TRAIN_STS_DF, sep='\\t', quoting = 3)\n",
    "train_data.head(10)"
   ]
  },
  {
   "cell_type": "code",
   "execution_count": 13,
   "metadata": {},
   "outputs": [
    {
     "name": "stdout",
     "output_type": "stream",
     "text": [
      "전체 train_data 개수: 5749\n"
     ]
    }
   ],
   "source": [
    "print('전체 train_data 개수: {}'.format(len(train_data)))"
   ]
  },
  {
   "cell_type": "code",
   "execution_count": 14,
   "metadata": {},
   "outputs": [
    {
     "data": {
      "text/plain": [
       "0             비행기가 이륙하고 있다.\n",
       "1     한 남자가 큰 플루트를 연주하고 있다.\n",
       "2    한 남자가 피자에 치즈를 뿌려놓고 있다.\n",
       "3          세 남자가 체스를 하고 있다.\n",
       "4        한 남자가 첼로를 연주하고 있다.\n",
       "dtype: object"
      ]
     },
     "execution_count": 14,
     "metadata": {},
     "output_type": "execute_result"
    }
   ],
   "source": [
    "train_set = pd.Series(train_data['sentence1'].tolist() + train_data['sentence2'].tolist()).astype(str)\n",
    "train_set.head()"
   ]
  },
  {
   "cell_type": "code",
   "execution_count": 15,
   "metadata": {},
   "outputs": [
    {
     "name": "stdout",
     "output_type": "stream",
     "text": [
      "전체 문장 데이터의 개수: 11498\n"
     ]
    }
   ],
   "source": [
    "print('전체 문장 데이터의 개수: {}'.format(len(train_set)))"
   ]
  },
  {
   "cell_type": "code",
   "execution_count": 16,
   "metadata": {},
   "outputs": [
    {
     "name": "stdout",
     "output_type": "stream",
     "text": [
      "유일한 총 문장 수 : 10383\n",
      "반복해서 나타나는 문장의 수: 716\n"
     ]
    }
   ],
   "source": [
    "print('유일한 총 문장 수 : {}'.format(len(np.unique(train_set))))\n",
    "print('반복해서 나타나는 문장의 수: {}'.format(np.sum(train_set.value_counts() > 1)))"
   ]
  },
  {
   "cell_type": "code",
   "execution_count": 17,
   "metadata": {},
   "outputs": [
    {
     "name": "stderr",
     "output_type": "stream",
     "text": [
      "<ipython-input-17-4c45b7a79ba4>:11: MatplotlibDeprecationWarning: The 'nonposy' parameter of __init__() has been renamed 'nonpositive' since Matplotlib 3.3; support for the old name will be dropped two minor releases later.\n",
      "  plt.yscale('log', nonposy='clip')\n"
     ]
    },
    {
     "data": {
      "text/plain": [
       "Text(0, 0.5, 'Number of sentence')"
      ]
     },
     "execution_count": 17,
     "metadata": {},
     "output_type": "execute_result"
    },
    {
     "data": {
      "image/png": "[encoded data removed]",
      "text/plain": [
       "<Figure size 864x360 with 1 Axes>"
      ]
     },
     "metadata": {
      "needs_background": "light"
     },
     "output_type": "display_data"
    }
   ],
   "source": [
    "# 그래프에 대한 이미지 사이즈 선언\n",
    "# figsize: (가로, 세로) 형태의 튜플로 입력\n",
    "plt.figure(figsize=(12, 5))\n",
    "# 히스토그램 선언\n",
    "# bins: 히스토그램 값들에 대한 버켓 범위\n",
    "# range: x축 값의 범위\n",
    "# alpha: 그래프 색상 투명도\n",
    "# color: 그래프 색상\n",
    "# label: 그래프에 대한 라벨\n",
    "plt.hist(train_set.value_counts(), bins=50, alpha=0.5, color= 'r', label='word')\n",
    "plt.yscale('log', nonposy='clip')\n",
    "# 그래프 제목\n",
    "plt.title('Log-Histogram of sentence appearance counts')\n",
    "# 그래프 x 축 라벨\n",
    "plt.xlabel('Number of occurrences of sentence')\n",
    "# 그래프 y 축 라벨\n",
    "plt.ylabel('Number of sentence')"
   ]
  },
  {
   "cell_type": "code",
   "execution_count": 18,
   "metadata": {},
   "outputs": [
    {
     "name": "stdout",
     "output_type": "stream",
     "text": [
      "중복 최대 개수: 63\n",
      "중복 최소 개수: 1\n",
      "중복 평균 개수: 1.11\n",
      "중복 표준편차: 0.81\n",
      "중복 중간길이: 1.0\n",
      "제 1 사분위 중복: 1.0\n",
      "제 3 사분위 중복: 1.0\n"
     ]
    }
   ],
   "source": [
    "print('중복 최대 개수: {}'.format(np.max(train_set.value_counts())))\n",
    "print('중복 최소 개수: {}'.format(np.min(train_set.value_counts())))\n",
    "print('중복 평균 개수: {:.2f}'.format(np.mean(train_set.value_counts())))\n",
    "print('중복 표준편차: {:.2f}'.format(np.std(train_set.value_counts())))\n",
    "print('중복 중간길이: {}'.format(np.median(train_set.value_counts())))\n",
    "# 사분위의 대한 경우는 0~100 스케일로 되어있음\n",
    "print('제 1 사분위 중복: {}'.format(np.percentile(train_set.value_counts(), 25)))\n",
    "print('제 3 사분위 중복: {}'.format(np.percentile(train_set.value_counts(), 75)))"
   ]
  },
  {
   "cell_type": "code",
   "execution_count": 19,
   "metadata": {},
   "outputs": [
    {
     "data": {
      "text/plain": [
       "{'whiskers': [<matplotlib.lines.Line2D at 0x1d8a6563940>,\n",
       "  <matplotlib.lines.Line2D at 0x1d8a6563ca0>],\n",
       " 'caps': [<matplotlib.lines.Line2D at 0x1d8a656a040>,\n",
       "  <matplotlib.lines.Line2D at 0x1d8a656a3a0>],\n",
       " 'boxes': [<matplotlib.lines.Line2D at 0x1d8a65635e0>],\n",
       " 'medians': [<matplotlib.lines.Line2D at 0x1d8a656a700>],\n",
       " 'fliers': [<matplotlib.lines.Line2D at 0x1d8a656adc0>],\n",
       " 'means': [<matplotlib.lines.Line2D at 0x1d8a656aa60>]}"
      ]
     },
     "execution_count": 19,
     "metadata": {},
     "output_type": "execute_result"
    },
    {
     "data": {
      "image/png": "[encoded data removed]",
      "text/plain": [
       "<Figure size 864x360 with 1 Axes>"
      ]
     },
     "metadata": {
      "needs_background": "light"
     },
     "output_type": "display_data"
    }
   ],
   "source": [
    "plt.figure(figsize=(12, 5))\n",
    "# 박스플롯 생성\n",
    "# 첫번째 파라메터: 여러 분포에 대한 데이터 리스트를 입력\n",
    "# labels: 입력한 데이터에 대한 라벨\n",
    "# showmeans: 평균값을 마크함\n",
    "\n",
    "plt.boxplot([train_set.value_counts()],\n",
    "             labels=['counts'],\n",
    "             showmeans=True)"
   ]
  },
  {
   "cell_type": "code",
   "execution_count": 20,
   "metadata": {},
   "outputs": [],
   "source": [
    "train_length = train_set.apply(len)"
   ]
  },
  {
   "cell_type": "code",
   "execution_count": 21,
   "metadata": {},
   "outputs": [
    {
     "data": {
      "text/plain": [
       "Text(0, 0.5, 'Probability')"
      ]
     },
     "execution_count": 21,
     "metadata": {},
     "output_type": "execute_result"
    },
    {
     "data": {
      "image/png": "[encoded data removed]",
      "text/plain": [
       "<Figure size 1080x720 with 1 Axes>"
      ]
     },
     "metadata": {
      "needs_background": "light"
     },
     "output_type": "display_data"
    }
   ],
   "source": [
    "plt.figure(figsize=(15, 10))\n",
    "plt.hist(train_length, bins=200, range=[0,200], facecolor='r', density=True, label='train')\n",
    "plt.title(\"Normalised histogram of character count in sentence\", fontsize=15)\n",
    "plt.legend()\n",
    "plt.xlabel('Number of characters', fontsize=15)\n",
    "plt.ylabel('Probability', fontsize=15)"
   ]
  },
  {
   "cell_type": "code",
   "execution_count": 22,
   "metadata": {},
   "outputs": [
    {
     "name": "stdout",
     "output_type": "stream",
     "text": [
      "문장 길이 최대 값: 150\n",
      "문장 길이 평균 값: 29.80\n",
      "문장 길이 표준편차: 16.76\n",
      "문장 길이 중간 값: 25.0\n",
      "문장 길이 제 1 사분위: 19.0\n",
      "문장 길이 제 3 사분위: 35.0\n"
     ]
    }
   ],
   "source": [
    "print('문장 길이 최대 값: {}'.format(np.max(train_length)))\n",
    "print('문장 길이 평균 값: {:.2f}'.format(np.mean(train_length)))\n",
    "print('문장 길이 표준편차: {:.2f}'.format(np.std(train_length)))\n",
    "print('문장 길이 중간 값: {}'.format(np.median(train_length)))\n",
    "print('문장 길이 제 1 사분위: {}'.format(np.percentile(train_length, 25)))\n",
    "print('문장 길이 제 3 사분위: {}'.format(np.percentile(train_length, 75)))"
   ]
  },
  {
   "cell_type": "code",
   "execution_count": 23,
   "metadata": {},
   "outputs": [
    {
     "data": {
      "text/plain": [
       "{'whiskers': [<matplotlib.lines.Line2D at 0x1d8a6b28c40>,\n",
       "  <matplotlib.lines.Line2D at 0x1d8a6b28fa0>],\n",
       " 'caps': [<matplotlib.lines.Line2D at 0x1d8a6b3c340>,\n",
       "  <matplotlib.lines.Line2D at 0x1d8a6b3c6a0>],\n",
       " 'boxes': [<matplotlib.lines.Line2D at 0x1d8a6b288e0>],\n",
       " 'medians': [<matplotlib.lines.Line2D at 0x1d8a6b3ca00>],\n",
       " 'fliers': [<matplotlib.lines.Line2D at 0x1d8a6b47100>],\n",
       " 'means': [<matplotlib.lines.Line2D at 0x1d8a6b3cd60>]}"
      ]
     },
     "execution_count": 23,
     "metadata": {},
     "output_type": "execute_result"
    },
    {
     "data": {
      "image/png": "[encoded data removed]",
      "text/plain": [
       "<Figure size 864x360 with 1 Axes>"
      ]
     },
     "metadata": {
      "needs_background": "light"
     },
     "output_type": "display_data"
    }
   ],
   "source": [
    "plt.figure(figsize=(12, 5))\n",
    "\n",
    "plt.boxplot(train_length,\n",
    "             labels=['char counts'],\n",
    "             showmeans=True)"
   ]
  },
  {
   "cell_type": "code",
   "execution_count": 24,
   "metadata": {},
   "outputs": [],
   "source": [
    "train_word_counts = train_set.apply(lambda x:len(x.split(' ')))"
   ]
  },
  {
   "cell_type": "code",
   "execution_count": 25,
   "metadata": {},
   "outputs": [
    {
     "data": {
      "text/plain": [
       "Text(0, 0.5, 'Prabability')"
      ]
     },
     "execution_count": 25,
     "metadata": {},
     "output_type": "execute_result"
    },
    {
     "data": {
      "image/png": "[encoded data removed]",
      "text/plain": [
       "<Figure size 1080x720 with 1 Axes>"
      ]
     },
     "metadata": {
      "needs_background": "light"
     },
     "output_type": "display_data"
    }
   ],
   "source": [
    "plt.figure(figsize=(15, 10))\n",
    "plt.hist(train_word_counts, bins=50, range=[0, 50], facecolor='r', density=True, label='train')\n",
    "plt.title('Normalised histogram of word count in sentence', fontsize=15)\n",
    "plt.legend()\n",
    "plt.xlabel('Number of words', fontsize=15)\n",
    "plt.ylabel('Prabability', fontsize=15)"
   ]
  },
  {
   "cell_type": "code",
   "execution_count": 26,
   "metadata": {},
   "outputs": [
    {
     "name": "stdout",
     "output_type": "stream",
     "text": [
      "문장 단어 개수 최대 값: 33\n",
      "문장 단어 개수 평균 값: 7.50\n",
      "문장 단어 개수 표준편차: 3.84\n",
      "문장 단어 개수 중간 값: 6.0\n",
      "문장 단어 개수 제 1 사분위: 5.0\n",
      "문장 단어 개수 제 3 사분위: 9.0\n",
      "문장 단어 개수 99 퍼센트: 21.0\n"
     ]
    }
   ],
   "source": [
    "print('문장 단어 개수 최대 값: {}'.format(np.max(train_word_counts)))\n",
    "print('문장 단어 개수 평균 값: {:.2f}'.format(np.mean(train_word_counts)))\n",
    "print('문장 단어 개수 표준편차: {:.2f}'.format(np.std(train_word_counts)))\n",
    "print('문장 단어 개수 중간 값: {}'.format(np.median(train_word_counts)))\n",
    "print('문장 단어 개수 제 1 사분위: {}'.format(np.percentile(train_word_counts, 25)))\n",
    "print('문장 단어 개수 제 3 사분위: {}'.format(np.percentile(train_word_counts, 75)))\n",
    "print('문장 단어 개수 99 퍼센트: {}'.format(np.percentile(train_word_counts, 99)))"
   ]
  },
  {
   "cell_type": "code",
   "execution_count": 27,
   "metadata": {},
   "outputs": [
    {
     "data": {
      "text/plain": [
       "{'whiskers': [<matplotlib.lines.Line2D at 0x1d8a69415e0>,\n",
       "  <matplotlib.lines.Line2D at 0x1d8a6941940>],\n",
       " 'caps': [<matplotlib.lines.Line2D at 0x1d8a6941ca0>,\n",
       "  <matplotlib.lines.Line2D at 0x1d8a694e040>],\n",
       " 'boxes': [<matplotlib.lines.Line2D at 0x1d8a6941280>],\n",
       " 'medians': [<matplotlib.lines.Line2D at 0x1d8a694e3a0>],\n",
       " 'fliers': [<matplotlib.lines.Line2D at 0x1d8a694ea60>],\n",
       " 'means': [<matplotlib.lines.Line2D at 0x1d8a694e700>]}"
      ]
     },
     "execution_count": 27,
     "metadata": {},
     "output_type": "execute_result"
    },
    {
     "data": {
      "image/png": "[encoded data removed]",
      "text/plain": [
       "<Figure size 864x360 with 1 Axes>"
      ]
     },
     "metadata": {
      "needs_background": "light"
     },
     "output_type": "display_data"
    }
   ],
   "source": [
    "plt.figure(figsize=(12, 5))\n",
    "\n",
    "plt.boxplot(train_word_counts,\n",
    "             labels=['counts'],\n",
    "             showmeans=True)"
   ]
  },
  {
   "cell_type": "code",
   "execution_count": 28,
   "metadata": {},
   "outputs": [],
   "source": [
    "qmarks = np.mean(train_set.apply(lambda x: '?' in x)) # 물음표가 구두점으로 쓰임\n",
    "math = np.mean(train_set.apply(lambda x: '[math]' in x)) # []\n",
    "fullstop = np.mean(train_set.apply(lambda x: '.' in x)) # 마침표\n",
    "capital_first = np.mean(train_set.apply(lambda x: x[0].isupper())) #  첫번째 대문자\n",
    "capitals = np.mean(train_set.apply(lambda x: max([y.isupper() for y in x]))) # 대문자가 몇개\n",
    "numbers = np.mean(train_set.apply(lambda x: max([y.isdigit() for y in x]))) # 숫자가 몇개"
   ]
  },
  {
   "cell_type": "code",
   "execution_count": 29,
   "metadata": {},
   "outputs": [
    {
     "name": "stdout",
     "output_type": "stream",
     "text": [
      "물음표가있는 문장: 1.81%\n",
      "마침표를 포함한 문장: 70.13%\n",
      "첫 글자가 대문자 인 문장: 1.84%\n",
      "대문자가있는 문장: 5.84%\n",
      "숫자가있는 문장: 19.33%\n"
     ]
    }
   ],
   "source": [
    "print('물음표가있는 문장: {:.2f}%'.format(qmarks * 100))\n",
    "print('마침표를 포함한 문장: {:.2f}%'.format(fullstop * 100))\n",
    "print('첫 글자가 대문자 인 문장: {:.2f}%'.format(capital_first * 100))\n",
    "print('대문자가있는 문장: {:.2f}%'.format(capitals * 100))\n",
    "print('숫자가있는 문장: {:.2f}%'.format(numbers * 100))"
   ]
  },
  {
   "cell_type": "code",
   "execution_count": 30,
   "metadata": {},
   "outputs": [
    {
     "data": {
      "application/vnd.jupyter.widget-view+json": {
       "model_id": "7356151a53254742ab9ea20cb30e12f1",
       "version_major": 2,
       "version_minor": 0
      },
      "text/plain": [
       "HBox(children=(HTML(value='Downloading'), FloatProgress(value=0.0, max=871891.0), HTML(value='')))"
      ]
     },
     "metadata": {},
     "output_type": "display_data"
    },
    {
     "name": "stdout",
     "output_type": "stream",
     "text": [
      "\n"
     ]
    }
   ],
   "source": [
    "tokenizer = BertTokenizer.from_pretrained('bert-base-multilingual-uncased', do_lower_case=True)"
   ]
  },
  {
   "cell_type": "code",
   "execution_count": 31,
   "metadata": {},
   "outputs": [],
   "source": [
    "train_bert_token_counts = train_set.apply(lambda x:len(tokenizer.tokenize(x)))"
   ]
  },
  {
   "cell_type": "code",
   "execution_count": 32,
   "metadata": {},
   "outputs": [
    {
     "data": {
      "text/plain": [
       "Text(0, 0.5, 'Prabability')"
      ]
     },
     "execution_count": 32,
     "metadata": {},
     "output_type": "execute_result"
    },
    {
     "data": {
      "image/png": "[encoded data removed]",
      "text/plain": [
       "<Figure size 1080x720 with 1 Axes>"
      ]
     },
     "metadata": {
      "needs_background": "light"
     },
     "output_type": "display_data"
    }
   ],
   "source": [
    "plt.figure(figsize=(15, 10))\n",
    "plt.hist(train_bert_token_counts, bins=200, range=[0, 200], facecolor='r', density=True, label='train')\n",
    "plt.title('Normalised histogram of tokens count in sentence', fontsize=15)\n",
    "plt.legend()\n",
    "plt.xlabel('Number of tokens', fontsize=15)\n",
    "plt.ylabel('Prabability', fontsize=15)"
   ]
  },
  {
   "cell_type": "code",
   "execution_count": 33,
   "metadata": {},
   "outputs": [
    {
     "name": "stdout",
     "output_type": "stream",
     "text": [
      "문장 tokens 개수 최대 값: 129\n",
      "문장 tokens 개수 평균 값: 23.84\n",
      "문장 tokens 개수 표준편차: 12.68\n",
      "문장 tokens 개수 중간 값: 21.0\n",
      "문장 tokens 개수 제 1 사분위: 15.0\n",
      "문장 tokens 개수 제 3 사분위: 28.0\n",
      "문장 tokens 개수 99 퍼센트: 67.0\n"
     ]
    }
   ],
   "source": [
    "print('문장 tokens 개수 최대 값: {}'.format(np.max(train_bert_token_counts)))\n",
    "print('문장 tokens 개수 평균 값: {:.2f}'.format(np.mean(train_bert_token_counts)))\n",
    "print('문장 tokens 개수 표준편차: {:.2f}'.format(np.std(train_bert_token_counts)))\n",
    "print('문장 tokens 개수 중간 값: {}'.format(np.median(train_bert_token_counts)))\n",
    "print('문장 tokens 개수 제 1 사분위: {}'.format(np.percentile(train_bert_token_counts, 25)))\n",
    "print('문장 tokens 개수 제 3 사분위: {}'.format(np.percentile(train_bert_token_counts, 75)))\n",
    "print('문장 tokens 개수 99 퍼센트: {}'.format(np.percentile(train_bert_token_counts, 99)))"
   ]
  },
  {
   "cell_type": "code",
   "execution_count": 34,
   "metadata": {},
   "outputs": [
    {
     "data": {
      "text/plain": [
       "{'whiskers': [<matplotlib.lines.Line2D at 0x1d8a52fff10>,\n",
       "  <matplotlib.lines.Line2D at 0x1d8a530e2b0>],\n",
       " 'caps': [<matplotlib.lines.Line2D at 0x1d8a530e610>,\n",
       "  <matplotlib.lines.Line2D at 0x1d8a530e970>],\n",
       " 'boxes': [<matplotlib.lines.Line2D at 0x1d8a52ffbb0>],\n",
       " 'medians': [<matplotlib.lines.Line2D at 0x1d8a530ecd0>],\n",
       " 'fliers': [<matplotlib.lines.Line2D at 0x1d8a531a3d0>],\n",
       " 'means': [<matplotlib.lines.Line2D at 0x1d8a531a070>]}"
      ]
     },
     "execution_count": 34,
     "metadata": {},
     "output_type": "execute_result"
    },
    {
     "data": {
      "image/png": "[encoded data removed]",
      "text/plain": [
       "<Figure size 864x360 with 1 Axes>"
      ]
     },
     "metadata": {
      "needs_background": "light"
     },
     "output_type": "display_data"
    }
   ],
   "source": [
    "plt.figure(figsize=(12, 5))\n",
    "\n",
    "plt.boxplot(train_bert_token_counts,\n",
    "             labels=['counts'],\n",
    "             showmeans=True)"
   ]
  },
  {
   "cell_type": "code",
   "execution_count": 35,
   "metadata": {},
   "outputs": [],
   "source": [
    "tokenizer = BertTokenizer.from_pretrained('bert-base-multilingual-cased', do_lower_case=False)"
   ]
  },
  {
   "cell_type": "code",
   "execution_count": 36,
   "metadata": {},
   "outputs": [],
   "source": [
    "train_bert_token_cased_counts = train_set.apply(lambda x:len(tokenizer.tokenize(x)))"
   ]
  },
  {
   "cell_type": "code",
   "execution_count": 37,
   "metadata": {},
   "outputs": [
    {
     "data": {
      "text/plain": [
       "Text(0, 0.5, 'Prabability')"
      ]
     },
     "execution_count": 37,
     "metadata": {},
     "output_type": "execute_result"
    },
    {
     "data": {
      "image/png": "[encoded data removed]",
      "text/plain": [
       "<Figure size 1080x720 with 1 Axes>"
      ]
     },
     "metadata": {
      "needs_background": "light"
     },
     "output_type": "display_data"
    }
   ],
   "source": [
    "plt.figure(figsize=(15, 10))\n",
    "plt.hist(train_bert_token_cased_counts, bins=100, range=[0, 100], facecolor='r', density=True, label='train')\n",
    "plt.title('Normalised histogram of tokens count in sentence', fontsize=15)\n",
    "plt.legend()\n",
    "plt.xlabel('Number of tokens', fontsize=15)\n",
    "plt.ylabel('Prabability', fontsize=15)"
   ]
  },
  {
   "cell_type": "code",
   "execution_count": 38,
   "metadata": {},
   "outputs": [
    {
     "name": "stdout",
     "output_type": "stream",
     "text": [
      "문장 tokens 개수 최대 값: 102\n",
      "문장 tokens 개수 평균 값: 18.74\n",
      "문장 tokens 개수 표준편차: 10.12\n",
      "문장 tokens 개수 중간 값: 16.0\n",
      "문장 tokens 개수 제 1 사분위: 12.0\n",
      "문장 tokens 개수 제 3 사분위: 22.0\n",
      "문장 tokens 개수 99 퍼센트: 53.0\n"
     ]
    }
   ],
   "source": [
    "print('문장 tokens 개수 최대 값: {}'.format(np.max(train_bert_token_cased_counts)))\n",
    "print('문장 tokens 개수 평균 값: {:.2f}'.format(np.mean(train_bert_token_cased_counts)))\n",
    "print('문장 tokens 개수 표준편차: {:.2f}'.format(np.std(train_bert_token_cased_counts)))\n",
    "print('문장 tokens 개수 중간 값: {}'.format(np.median(train_bert_token_cased_counts)))\n",
    "print('문장 tokens 개수 제 1 사분위: {}'.format(np.percentile(train_bert_token_cased_counts, 25)))\n",
    "print('문장 tokens 개수 제 3 사분위: {}'.format(np.percentile(train_bert_token_cased_counts, 75)))\n",
    "print('문장 tokens 개수 99 퍼센트: {}'.format(np.percentile(train_bert_token_cased_counts, 99)))"
   ]
  },
  {
   "cell_type": "code",
   "execution_count": 39,
   "metadata": {},
   "outputs": [
    {
     "data": {
      "text/plain": [
       "{'whiskers': [<matplotlib.lines.Line2D at 0x1d8a99da1f0>,\n",
       "  <matplotlib.lines.Line2D at 0x1d8a99da550>],\n",
       " 'caps': [<matplotlib.lines.Line2D at 0x1d8a99da8b0>,\n",
       "  <matplotlib.lines.Line2D at 0x1d8a99dac10>],\n",
       " 'boxes': [<matplotlib.lines.Line2D at 0x1d8a99cce50>],\n",
       " 'medians': [<matplotlib.lines.Line2D at 0x1d8a99daf70>],\n",
       " 'fliers': [<matplotlib.lines.Line2D at 0x1d8a99e4670>],\n",
       " 'means': [<matplotlib.lines.Line2D at 0x1d8a99e4310>]}"
      ]
     },
     "execution_count": 39,
     "metadata": {},
     "output_type": "execute_result"
    },
    {
     "data": {
      "image/png": "[encoded data removed]",
      "text/plain": [
       "<Figure size 864x360 with 1 Axes>"
      ]
     },
     "metadata": {
      "needs_background": "light"
     },
     "output_type": "display_data"
    }
   ],
   "source": [
    "plt.figure(figsize=(12, 5))\n",
    "\n",
    "plt.boxplot(train_bert_token_cased_counts,\n",
    "             labels=['counts'],\n",
    "             showmeans=True)"
   ]
  },
  {
   "cell_type": "code",
   "execution_count": 40,
   "metadata": {},
   "outputs": [
    {
     "ename": "ImportError",
     "evalue": "sentencepiece is not installed. You must install sentencepiece in order to use the Sentencepiece tokenizer and detokenizer. You can refer to the official installation guide in https://github.com/google/sentencepiece#installation",
     "output_type": "error",
     "traceback": [
      "\u001b[1;31m---------------------------------------------------------------------------\u001b[0m",
      "\u001b[1;31mModuleNotFoundError\u001b[0m                       Traceback (most recent call last)",
      "\u001b[1;32m~\\anaconda3\\lib\\site-packages\\gluonnlp\\data\\transforms.py\u001b[0m in \u001b[0;36m__init__\u001b[1;34m(self, path)\u001b[0m\n\u001b[0;32m    485\u001b[0m         \u001b[1;32mtry\u001b[0m\u001b[1;33m:\u001b[0m\u001b[1;33m\u001b[0m\u001b[1;33m\u001b[0m\u001b[0m\n\u001b[1;32m--> 486\u001b[1;33m             \u001b[1;32mimport\u001b[0m \u001b[0msentencepiece\u001b[0m  \u001b[1;31m# pylint: disable=import-outside-toplevel\u001b[0m\u001b[1;33m\u001b[0m\u001b[1;33m\u001b[0m\u001b[0m\n\u001b[0m\u001b[0;32m    487\u001b[0m         \u001b[1;32mexcept\u001b[0m \u001b[0mImportError\u001b[0m\u001b[1;33m:\u001b[0m\u001b[1;33m\u001b[0m\u001b[1;33m\u001b[0m\u001b[0m\n",
      "\u001b[1;31mModuleNotFoundError\u001b[0m: No module named 'sentencepiece'",
      "\nDuring handling of the above exception, another exception occurred:\n",
      "\u001b[1;31mImportError\u001b[0m                               Traceback (most recent call last)",
      "\u001b[1;32m<ipython-input-40-2f0d70903c4f>\u001b[0m in \u001b[0;36m<module>\u001b[1;34m\u001b[0m\n\u001b[0;32m      1\u001b[0m \u001b[0mTOKENIZER_PATH\u001b[0m \u001b[1;33m=\u001b[0m \u001b[1;34m'./gpt_ckpt/gpt2_kor_tokenizer.spiece'\u001b[0m\u001b[1;33m\u001b[0m\u001b[1;33m\u001b[0m\u001b[0m\n\u001b[0;32m      2\u001b[0m \u001b[1;33m\u001b[0m\u001b[0m\n\u001b[1;32m----> 3\u001b[1;33m \u001b[0mtokenizer\u001b[0m \u001b[1;33m=\u001b[0m \u001b[0mSentencepieceTokenizer\u001b[0m\u001b[1;33m(\u001b[0m\u001b[0mTOKENIZER_PATH\u001b[0m\u001b[1;33m)\u001b[0m\u001b[1;33m\u001b[0m\u001b[1;33m\u001b[0m\u001b[0m\n\u001b[0m",
      "\u001b[1;32m~\\anaconda3\\lib\\site-packages\\gluonnlp\\data\\transforms.py\u001b[0m in \u001b[0;36m__init__\u001b[1;34m(self, path, num_best, alpha)\u001b[0m\n\u001b[0;32m    540\u001b[0m \u001b[1;33m\u001b[0m\u001b[0m\n\u001b[0;32m    541\u001b[0m     \u001b[1;32mdef\u001b[0m \u001b[0m__init__\u001b[0m\u001b[1;33m(\u001b[0m\u001b[0mself\u001b[0m\u001b[1;33m,\u001b[0m \u001b[0mpath\u001b[0m\u001b[1;33m,\u001b[0m \u001b[0mnum_best\u001b[0m\u001b[1;33m=\u001b[0m\u001b[1;36m0\u001b[0m\u001b[1;33m,\u001b[0m \u001b[0malpha\u001b[0m\u001b[1;33m=\u001b[0m\u001b[1;36m1.0\u001b[0m\u001b[1;33m)\u001b[0m\u001b[1;33m:\u001b[0m\u001b[1;33m\u001b[0m\u001b[1;33m\u001b[0m\u001b[0m\n\u001b[1;32m--> 542\u001b[1;33m         \u001b[0msuper\u001b[0m\u001b[1;33m(\u001b[0m\u001b[0mSentencepieceTokenizer\u001b[0m\u001b[1;33m,\u001b[0m \u001b[0mself\u001b[0m\u001b[1;33m)\u001b[0m\u001b[1;33m.\u001b[0m\u001b[0m__init__\u001b[0m\u001b[1;33m(\u001b[0m\u001b[0mpath\u001b[0m\u001b[1;33m)\u001b[0m\u001b[1;33m\u001b[0m\u001b[1;33m\u001b[0m\u001b[0m\n\u001b[0m\u001b[0;32m    543\u001b[0m         \u001b[0mself\u001b[0m\u001b[1;33m.\u001b[0m\u001b[0m_path\u001b[0m \u001b[1;33m=\u001b[0m \u001b[0mpath\u001b[0m\u001b[1;33m\u001b[0m\u001b[1;33m\u001b[0m\u001b[0m\n\u001b[0;32m    544\u001b[0m         \u001b[0mself\u001b[0m\u001b[1;33m.\u001b[0m\u001b[0m_nbest\u001b[0m \u001b[1;33m=\u001b[0m \u001b[0mnum_best\u001b[0m\u001b[1;33m\u001b[0m\u001b[1;33m\u001b[0m\u001b[0m\n",
      "\u001b[1;32m~\\anaconda3\\lib\\site-packages\\gluonnlp\\data\\transforms.py\u001b[0m in \u001b[0;36m__init__\u001b[1;34m(self, path)\u001b[0m\n\u001b[0;32m    486\u001b[0m             \u001b[1;32mimport\u001b[0m \u001b[0msentencepiece\u001b[0m  \u001b[1;31m# pylint: disable=import-outside-toplevel\u001b[0m\u001b[1;33m\u001b[0m\u001b[1;33m\u001b[0m\u001b[0m\n\u001b[0;32m    487\u001b[0m         \u001b[1;32mexcept\u001b[0m \u001b[0mImportError\u001b[0m\u001b[1;33m:\u001b[0m\u001b[1;33m\u001b[0m\u001b[1;33m\u001b[0m\u001b[0m\n\u001b[1;32m--> 488\u001b[1;33m             raise ImportError(\n\u001b[0m\u001b[0;32m    489\u001b[0m                 \u001b[1;34m'sentencepiece is not installed. You must install sentencepiece '\u001b[0m\u001b[1;33m\u001b[0m\u001b[1;33m\u001b[0m\u001b[0m\n\u001b[0;32m    490\u001b[0m                 \u001b[1;34m'in order to use the Sentencepiece tokenizer and detokenizer. '\u001b[0m\u001b[1;33m\u001b[0m\u001b[1;33m\u001b[0m\u001b[0m\n",
      "\u001b[1;31mImportError\u001b[0m: sentencepiece is not installed. You must install sentencepiece in order to use the Sentencepiece tokenizer and detokenizer. You can refer to the official installation guide in https://github.com/google/sentencepiece#installation"
     ]
    }
   ],
   "source": [
    "TOKENIZER_PATH = './gpt_ckpt/gpt2_kor_tokenizer.spiece'\n",
    "\n",
    "tokenizer = SentencepieceTokenizer(TOKENIZER_PATH)"
   ]
  },
  {
   "cell_type": "code",
   "execution_count": null,
   "metadata": {},
   "outputs": [],
   "source": [
    "train_sentencepeice_counts = train_set.apply(lambda x:len(tokenizer(x)))"
   ]
  },
  {
   "cell_type": "code",
   "execution_count": null,
   "metadata": {},
   "outputs": [],
   "source": [
    "plt.figure(figsize=(15, 10))\n",
    "plt.hist(train_sentencepeice_counts, bins=100, range=[0, 100], facecolor='r', density=True, label='train')\n",
    "plt.title('Normalised histogram of tokens count in sentence', fontsize=15)\n",
    "plt.legend()\n",
    "plt.xlabel('Number of tokens', fontsize=15)\n",
    "plt.ylabel('Prabability', fontsize=15)"
   ]
  },
  {
   "cell_type": "code",
   "execution_count": null,
   "metadata": {},
   "outputs": [],
   "source": [
    "print('문장 tokens 개수 최대 값: {}'.format(np.max(train_sentencepeice_counts)))\n",
    "print('문장 tokens 개수 평균 값: {:.2f}'.format(np.mean(train_sentencepeice_counts)))\n",
    "print('문장 tokens 개수 표준편차: {:.2f}'.format(np.std(train_sentencepeice_counts)))\n",
    "print('문장 tokens 개수 중간 값: {}'.format(np.median(train_sentencepeice_counts)))\n",
    "print('문장 tokens 개수 제 1 사분위: {}'.format(np.percentile(train_sentencepeice_counts, 25)))\n",
    "print('문장 tokens 개수 제 3 사분위: {}'.format(np.percentile(train_sentencepeice_counts, 75)))\n",
    "print('문장 tokens 개수 99 퍼센트: {}'.format(np.percentile(train_sentencepeice_counts, 99)))"
   ]
  },
  {
   "cell_type": "code",
   "execution_count": null,
   "metadata": {},
   "outputs": [],
   "source": [
    "plt.figure(figsize=(12, 5))\n",
    "\n",
    "plt.boxplot(train_sentencepeice_counts,\n",
    "             labels=['counts'],\n",
    "             showmeans=True)"
   ]
  },
  {
   "cell_type": "code",
   "execution_count": null,
   "metadata": {},
   "outputs": [],
   "source": [
    "from wordcloud import WordCloud\n",
    "\n",
    "font_path = os.path.join(DATA_IN_PATH, 'NanumGothic.ttf')\n",
    "cloud = WordCloud(font_path = font_path, width=800, height=600).generate(\" \".join(train_set.astype(str)))\n",
    "plt.figure(figsize=(15, 10))\n",
    "plt.imshow(cloud)\n",
    "plt.axis('off')"
   ]
  },
  {
   "cell_type": "code",
   "execution_count": null,
   "metadata": {},
   "outputs": [],
   "source": [
    "train_data.genre.value_counts().plot(kind='bar')"
   ]
  },
  {
   "cell_type": "code",
   "execution_count": null,
   "metadata": {},
   "outputs": [],
   "source": [
    "train_data.filename.value_counts().plot(kind='bar')"
   ]
  },
  {
   "cell_type": "code",
   "execution_count": null,
   "metadata": {},
   "outputs": [],
   "source": [
    "train_data.year.value_counts().plot(kind='bar')"
   ]
  },
  {
   "cell_type": "code",
   "execution_count": null,
   "metadata": {},
   "outputs": [],
   "source": [
    "train_data.score.hist()"
   ]
  },
  {
   "cell_type": "code",
   "execution_count": null,
   "metadata": {},
   "outputs": [],
   "source": []
  }
 ],
 "metadata": {
  "kernelspec": {
   "display_name": "Python 3",
   "language": "python",
   "name": "python3"
  },
  "language_info": {
   "codemirror_mode": {
    "name": "ipython",
    "version": 3
   },
   "file_extension": ".py",
   "mimetype": "text/x-python",
   "name": "python",
   "nbconvert_exporter": "python",
   "pygments_lexer": "ipython3",
   "version": "3.8.5"
  }
 },
 "nbformat": 4,
 "nbformat_minor": 2
}
