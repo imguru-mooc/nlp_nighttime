{
 "cells": [
  {
   "cell_type": "markdown",
   "metadata": {},
   "source": [
    "## 동적 웹 페이지 1"
   ]
  },
  {
   "cell_type": "code",
   "execution_count": 3,
   "metadata": {},
   "outputs": [
    {
     "name": "stdout",
     "output_type": "stream",
     "text": [
      "Collecting selenium\n",
      "  Downloading selenium-3.141.0-py2.py3-none-any.whl (904 kB)\n",
      "Requirement already satisfied: urllib3 in c:\\users\\jikim\\anaconda3\\lib\\site-packages (from selenium) (1.25.11)\n",
      "Installing collected packages: selenium\n",
      "Successfully installed selenium-3.141.0\n"
     ]
    }
   ],
   "source": [
    "!pip install selenium"
   ]
  },
  {
   "cell_type": "markdown",
   "metadata": {},
   "source": [
    "1. 크롬 브라우저에서 버전을 확인 한다. : 88.0.4324.190\n",
    "2. https://chromedriver.chromium.org/downloads 에서 맞는 버전을 다운로드후 \n",
    "   압축을 해제한 후 chromedriver.exe을 현재 디렉토리로 copy 한다."
   ]
  },
  {
   "cell_type": "code",
   "execution_count": 12,
   "metadata": {},
   "outputs": [
    {
     "name": "stdout",
     "output_type": "stream",
     "text": [
      "HTML 요소:  <selenium.webdriver.remote.webelement.WebElement (session=\"afd5e9c76ebba2078a362990217c9905\", element=\"26118f6d-05bb-45b9-90e4-70dfc15d2421\")>\n",
      "태그 이름:  a\n",
      "문자열:  로그인\n",
      "href 속성:  https://auth.danawa.com/login?url=http%3A%2F%2Fwww.danawa.com%2F\n"
     ]
    }
   ],
   "source": [
    "from selenium import webdriver \n",
    "\n",
    "driver = webdriver.Chrome(\"chromedriver\") \n",
    "driver.implicitly_wait(3)\n",
    "driver.get(\"https://www.danawa.com/\") \n",
    "                                           \n",
    "login = driver.find_element_by_css_selector('li.my_page_service > a')\n",
    "print(\"HTML 요소: \", login)\n",
    "print(\"태그 이름: \", login.tag_name)\n",
    "print(\"문자열: \", login.text)\n",
    "print(\"href 속성: \", login.get_attribute('href'))\n",
    "\n",
    "login.click()\n",
    "driver.implicitly_wait(3)\n",
    "\n",
    "my_id = \"love1770\"\n",
    "my_pw = \"ce30bfa8\"\n",
    "\n",
    "driver.find_element_by_id('danawa-member-login-input-id').send_keys(my_id)\n",
    "driver.implicitly_wait(2)\n",
    "driver.find_element_by_name('password').send_keys(my_pw)\n",
    "driver.implicitly_wait(2)\n",
    "driver.find_element_by_css_selector('button.btn_login').click()"
   ]
  },
  {
   "cell_type": "markdown",
   "metadata": {},
   "source": [
    "## 동적 웹 페이지 2"
   ]
  },
  {
   "cell_type": "code",
   "execution_count": 15,
   "metadata": {},
   "outputs": [
    {
     "ename": "IndexError",
     "evalue": "list index out of range",
     "output_type": "error",
     "traceback": [
      "\u001b[1;31m---------------------------------------------------------------------------\u001b[0m",
      "\u001b[1;31mIndexError\u001b[0m                                Traceback (most recent call last)",
      "\u001b[1;32m<ipython-input-15-89c8c45c7503>\u001b[0m in \u001b[0;36m<module>\u001b[1;34m\u001b[0m\n\u001b[0;32m     29\u001b[0m \u001b[0msoup\u001b[0m \u001b[1;33m=\u001b[0m \u001b[0mBeautifulSoup\u001b[0m\u001b[1;33m(\u001b[0m\u001b[0mhtml_src\u001b[0m\u001b[1;33m,\u001b[0m \u001b[1;34m'html.parser'\u001b[0m\u001b[1;33m)\u001b[0m\u001b[1;33m\u001b[0m\u001b[1;33m\u001b[0m\u001b[0m\n\u001b[0;32m     30\u001b[0m \u001b[1;33m\u001b[0m\u001b[0m\n\u001b[1;32m---> 31\u001b[1;33m \u001b[0mwish_table\u001b[0m \u001b[1;33m=\u001b[0m \u001b[0msoup\u001b[0m\u001b[1;33m.\u001b[0m\u001b[0mselect\u001b[0m\u001b[1;33m(\u001b[0m\u001b[1;34m'table[class=\"tbl wish_tbl\"]'\u001b[0m\u001b[1;33m)\u001b[0m\u001b[1;33m[\u001b[0m\u001b[1;36m0\u001b[0m\u001b[1;33m]\u001b[0m\u001b[1;33m\u001b[0m\u001b[1;33m\u001b[0m\u001b[0m\n\u001b[0m\u001b[0;32m     32\u001b[0m \u001b[0mwish_items\u001b[0m \u001b[1;33m=\u001b[0m \u001b[0mwish_table\u001b[0m\u001b[1;33m.\u001b[0m\u001b[0mselect\u001b[0m\u001b[1;33m(\u001b[0m\u001b[1;34m'tbody tr'\u001b[0m\u001b[1;33m)\u001b[0m\u001b[1;33m\u001b[0m\u001b[1;33m\u001b[0m\u001b[0m\n\u001b[0;32m     33\u001b[0m \u001b[1;33m\u001b[0m\u001b[0m\n",
      "\u001b[1;31mIndexError\u001b[0m: list index out of range"
     ]
    }
   ],
   "source": [
    "from selenium import webdriver \n",
    "\n",
    "driver = webdriver.Chrome(\"chromedriver\") \n",
    "driver.implicitly_wait(3)\n",
    "driver.get(\"https://www.danawa.com/\") \n",
    "\n",
    "login = driver.find_element_by_css_selector('li.my_page_service > a')\n",
    "login.click()\n",
    "driver.implicitly_wait(3)\n",
    "\n",
    "my_id = \"love1770\"\n",
    "my_pw = \"ce30bfa8\"\n",
    "\n",
    "driver.find_element_by_id('danawa-member-login-input-id').send_keys(my_id)\n",
    "driver.implicitly_wait(2)\n",
    "driver.find_element_by_name('password').send_keys(my_pw)\n",
    "driver.implicitly_wait(2)\n",
    "driver.find_element_by_css_selector('button.btn_login').click()\n",
    "driver.implicitly_wait(2)\n",
    "\n",
    "wishlist = driver.find_element_by_css_selector('li.interest_goods_service > a').click()\n",
    "driver.implicitly_wait(10000)\n",
    "html_src = driver.page_source\n",
    "\n",
    "# print(html_src[:])\n",
    "\n",
    "from bs4 import BeautifulSoup\n",
    "import re\n",
    "soup = BeautifulSoup(html_src, 'html.parser')\n",
    "\n",
    "wish_table = soup.select('table[class=\"tbl wish_tbl\"]')[0]\n",
    "wish_items = wish_table.select('tbody tr')\n",
    "\n",
    "for item in wish_items:\n",
    "    title = item.find('div', {'class':'tit'}).text\n",
    "    price = item.find('span', {'class':'price'}).text\n",
    "    link = item.find('a', href=re.compile('prod.danawa.com/info/')).get('href')\n",
    "    print(title)\n",
    "    print(price)\n",
    "    print(link)\n",
    "    print(\"\\n\")\n",
    "\n",
    "driver.implicitly_wait(1000)\n",
    "driver.close()"
   ]
  },
  {
   "cell_type": "markdown",
   "metadata": {},
   "source": [
    "## 한국은행 경제통계시스템 통계지표 활용하기 1"
   ]
  },
  {
   "cell_type": "code",
   "execution_count": 16,
   "metadata": {},
   "outputs": [
    {
     "name": "stdout",
     "output_type": "stream",
     "text": [
      "파일 다운로드 실행...\n"
     ]
    }
   ],
   "source": [
    "from selenium import webdriver \n",
    "import time\n",
    "\n",
    "def download_bok_statistics():\n",
    "\n",
    "    driver = webdriver.Chrome(\"chromedriver\") \n",
    "    driver.implicitly_wait(3)\n",
    "    driver.get(\"http://ecos.bok.or.kr/jsp/vis/keystat/#/key\") \n",
    "    \n",
    "    \n",
    "    excel_download = driver.find_element_by_css_selector('img[alt=\"download\"]')\n",
    "    driver.implicitly_wait(3)\n",
    "    \n",
    "    excel_download.click()\n",
    "    time.sleep(5)\n",
    "    \n",
    "    driver.close()\n",
    "    print(\"파일 다운로드 실행...\")\n",
    "\n",
    "    return None\n",
    "\n",
    "download_bok_statistics()"
   ]
  },
  {
   "cell_type": "markdown",
   "metadata": {},
   "source": [
    "## 한국은행 경제통계시스템 통계지표 활용하기 2"
   ]
  },
  {
   "cell_type": "code",
   "execution_count": 17,
   "metadata": {},
   "outputs": [
    {
     "name": "stdout",
     "output_type": "stream",
     "text": [
      "검색할 항목을 입력하세요: CD\n",
      "검색어 'CD'에 매칭되는 'CD수익률(91일) ('21.03.10)' 통계지표를 검색 중...\n",
      "키워드 'CD'에 대한 통계지표를 저장하였습니다.\n",
      "(['2014', '2015', '2016', '2017', '2018', '2019', '2020', '2020.8', '2020.9', '2020.10', '2020.11', '2020.12', '2021.1', '2021.2', '2021.3.3', '2021.3.4', '2021.3.5', '2021.3.8', '2021.3.9', '2021.3.10'], ['2.49', '1.76', '1.49', '1.44', '1.68', '1.69', '0.92', '0.68', '0.63', '0.63', '0.66', '0.66', '0.68', '0.73', '0.74', '0.74', '0.74', '0.74', '0.75', '0.75'], ['-0.23', '-0.73', '-0.27', '-0.05', '0.24', '0.01', '-0.77', '-0.11', '-0.05', '0.00', '0.03', '0.00', '0.02', '0.05', '0.00', '0.00', '0.00', '0.00', '0.01', '0.00'])\n"
     ]
    }
   ],
   "source": [
    "from selenium import webdriver \n",
    "from bs4 import BeautifulSoup\n",
    "import time\n",
    "\n",
    "def download_bok_statistics_by_keyword():\n",
    "    \n",
    "    item_found = 0              \n",
    "    while not item_found:\n",
    "        \n",
    "        keyword = \"\"       \n",
    "        while len(keyword) == 0:\n",
    "            keyword = str(input(\"검색할 항목을 입력하세요: \"))\n",
    "        \n",
    "        driver = webdriver.Chrome(\"chromedriver\")\n",
    "        driver.implicitly_wait(3)\n",
    "        driver.get(\"http://ecos.bok.or.kr/jsp/vis/keystat/#/key\") \n",
    "        time.sleep(5)             \n",
    "                   \n",
    "        items1 = driver.find_elements_by_css_selector('a[class=\"ng-binding\"]')\n",
    "        items2 = driver.find_elements_by_css_selector('a[class=\"a-c1-list ng-binding\"]')\n",
    "        items3 = driver.find_elements_by_css_selector('a[class=\"a-c4-list ng-binding\"]')\n",
    "        driver.implicitly_wait(3)\n",
    "\n",
    "        items = items1[1:] + items2 + items3    \n",
    "        \n",
    "        for idx, item in enumerate(items):\n",
    "            if keyword in item.text:\n",
    "                print(\"검색어 '%s'에 매칭되는 '%s' 통계지표를 검색 중...\" % (keyword, item.text))\n",
    "                item.click()\n",
    "                item_found = 1\n",
    "                time.sleep(5)\n",
    "                break\n",
    "            elif idx == (len(items) - 1):\n",
    "                print(\"검색어 '%s'에 대한 통계지표가 존재하지 않습니다...\" % keyword)\n",
    "                driver.close()\n",
    "                continue\n",
    "            else:\n",
    "                pass\n",
    "            \n",
    "    html_src = driver.page_source\n",
    "    soup = BeautifulSoup(html_src, 'html.parser')\n",
    "    driver.close()\n",
    "  \n",
    "    table_items = soup.find_all('td', {'class':'ng-binding'})\n",
    "    date = [t.text for i, t in enumerate(table_items) if i % 3 == 0]\n",
    "    value = [t.text for i, t in enumerate(table_items) if i % 3 == 1]    \n",
    "    change = [t.text for i, t in enumerate(table_items) if i % 3 == 2]    \n",
    "    \n",
    "    result_file = open('bok_statistics_%s.csv' % keyword, 'w')\n",
    "    \n",
    "    for i in range(len(date)):\n",
    "        result_file.write(\"%s, %s, %s\" % (date[i], value[i], change[i]))\n",
    "        result_file.write('\\n')\n",
    "    \n",
    "    result_file.close()\n",
    "    print(\"키워드 '%s'에 대한 통계지표를 저장하였습니다.\" % keyword)\n",
    "    \n",
    "    return date, value, change\n",
    "\n",
    "result = download_bok_statistics_by_keyword()\n",
    "print(result)"
   ]
  },
  {
   "cell_type": "code",
   "execution_count": null,
   "metadata": {},
   "outputs": [],
   "source": []
  }
 ],
 "metadata": {
  "kernelspec": {
   "display_name": "Python 3",
   "language": "python",
   "name": "python3"
  },
  "language_info": {
   "codemirror_mode": {
    "name": "ipython",
    "version": 3
   },
   "file_extension": ".py",
   "mimetype": "text/x-python",
   "name": "python",
   "nbconvert_exporter": "python",
   "pygments_lexer": "ipython3",
   "version": "3.8.5"
  }
 },
 "nbformat": 4,
 "nbformat_minor": 4
}
